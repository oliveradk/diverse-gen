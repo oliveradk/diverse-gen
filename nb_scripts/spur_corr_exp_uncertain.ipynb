{
 "cells": [
  {
   "cell_type": "code",
   "execution_count": 1,
   "metadata": {},
   "outputs": [],
   "source": [
    "# set cuda visible devices\n",
    "def is_notebook() -> bool:\n",
    "    try:\n",
    "        shell = get_ipython().__class__.__name__\n",
    "        if shell == 'ZMQInteractiveShell':\n",
    "            return True   # Jupyter notebook or qtconsole\n",
    "        elif shell == 'TerminalInteractiveShell':\n",
    "            return False  # Terminal running IPython\n",
    "        else:\n",
    "            return False  # Other type (?)\n",
    "    except NameError:\n",
    "        return False      # Probably standard Python interpreter\n",
    "\n",
    "import os\n",
    "if is_notebook():\n",
    "    os.environ[\"CUDA_VISIBLE_DEVICES\"] = \"1\" #\"1\"\n",
    "    # os.environ['CUDA_LAUNCH_BLOCKING']=\"1\"\n",
    "    # os.environ['TORCH_USE_CUDA_DSA'] = \"1\"\n",
    "\n",
    "import matplotlib \n",
    "if not is_notebook():\n",
    "    matplotlib.use('Agg')"
   ]
  },
  {
   "cell_type": "code",
   "execution_count": 2,
   "metadata": {},
   "outputs": [
    {
     "name": "stderr",
     "output_type": "stream",
     "text": [
      "/nas/ucb/oliveradk/miniforge3/envs/od_3_10/lib/python3.10/site-packages/tqdm/auto.py:21: TqdmWarning: IProgress not found. Please update jupyter and ipywidgets. See https://ipywidgets.readthedocs.io/en/stable/user_install.html\n",
      "  from .autonotebook import tqdm as notebook_tqdm\n"
     ]
    }
   ],
   "source": [
    "import os\n",
    "import math\n",
    "import json\n",
    "import random as rnd\n",
    "from typing import Optional, Callable\n",
    "from tqdm import tqdm\n",
    "from collections import defaultdict\n",
    "from functools import partial\n",
    "from datetime import datetime\n",
    "from dataclasses import dataclass \n",
    "from itertools import product\n",
    "\n",
    "from omegaconf import OmegaConf\n",
    "import numpy as np\n",
    "import torch\n",
    "import torch.nn as nn\n",
    "import torch.nn.functional as F\n",
    "from torch.utils.data import DataLoader, Dataset, random_split, TensorDataset\n",
    "import matplotlib.pyplot as plt\n",
    "import pandas as  pd\n",
    "import torchvision.utils as vision_utils\n",
    "from PIL import Image\n",
    "import torchvision\n",
    "from torchvision import transforms\n",
    "from matplotlib.ticker import NullFormatter\n",
    "from sklearn.decomposition import PCA\n",
    "\n",
    "from losses.divdis import DivDisLoss \n",
    "from losses.divdis import DivDisLoss\n",
    "from losses.ace_uncertain import ACELoss\n",
    "from losses.conf import ConfLoss\n",
    "from losses.dbat import DBatLoss\n",
    "from losses.pass_through import PassThroughLoss\n",
    "from losses.smooth_top_loss import SmoothTopLoss\n",
    "from losses.loss_types import LossType\n",
    "\n",
    "# from models.backbone import MultiHeadBackbone\n",
    "from models.multi_model import MultiNetModel, freeze_heads\n",
    "from models.lenet import LeNet\n",
    "\n",
    "from spurious_datasets.cifar_mnist import get_cifar_mnist_datasets\n",
    "from spurious_datasets.fmnist_mnist import get_fmnist_mnist_datasets\n",
    "from spurious_datasets.toy_grid import get_toy_grid_datasets\n",
    "from spurious_datasets.waterbirds import get_waterbirds_datasets\n",
    "from spurious_datasets.cub import get_cub_datasets\n",
    "from spurious_datasets.camelyon import get_camelyon_datasets\n",
    "from spurious_datasets.multi_nli import get_multi_nli_datasets\n",
    "from spurious_datasets.civil_comments import get_civil_comments_datasets\n",
    "from spurious_datasets.celebA import get_celebA_datasets\n",
    "\n",
    "from utils.utils import to_device, batch_size, feature_label_ls\n",
    "from utils.logger import Logger\n",
    "from utils.act_utils import get_acts_and_labels, plot_activations, compute_probe_acc\n"
   ]
  },
  {
   "cell_type": "code",
   "execution_count": 3,
   "metadata": {},
   "outputs": [],
   "source": [
    "import torch\n",
    "import torch.nn as nn\n",
    "\n",
    "from utils.utils import batch_size\n",
    "\n",
    "class MultiHeadBackbone(nn.Module):\n",
    "    def __init__(self, backbone: nn.Module, classes: list[int], feature_dim: int, dropout_rate: float = 0.0):\n",
    "        \"\"\"\n",
    "        Multi-head backbone \n",
    "\n",
    "        backbone: backbone to use for feature extraction\n",
    "        classes: list of classes for each feature \n",
    "            for binary classification with 2 heads, classes = [2, 2] \n",
    "            (len(classes) = n_heads)\n",
    "        feature_dim: dimension of the feature space\n",
    "        \"\"\"\n",
    "        super(MultiHeadBackbone, self).__init__()\n",
    "        self.backbone = backbone\n",
    "        self.classes = classes\n",
    "        self.dropout_rate = dropout_rate\n",
    "        # Create a single matrix for all heads\n",
    "        self.heads = nn.Linear(feature_dim, sum(classes))\n",
    "        self.dropout = nn.Dropout(dropout_rate)\n",
    "    \n",
    "    def forward(self, x, n_samples: Optional[int] = None):\n",
    "        # Get features from the shared backbone\n",
    "        bs = batch_size(x)\n",
    "        features = self.backbone(x).view(bs, -1)\n",
    "        # sample dropout if n_samples is not None\n",
    "        if n_samples is not None:\n",
    "            samples = [self.dropout(features) for _ in range(n_samples)]\n",
    "            output_samples = [self.heads(sample) for sample in samples] \n",
    "            outputs = torch.stack(output_samples, dim=0).mean(dim=0)\n",
    "            return outputs, output_samples\n",
    "        \n",
    "        # Apply the heads to the features\n",
    "        outputs = self.heads(features)\n",
    "        \n",
    "        # Reshape the output to separate the heads # TODO: this doens't actually do that\n",
    "        outputs = outputs.view(bs, sum(self.classes))\n",
    "        \n",
    "        return outputs\n"
   ]
  },
  {
   "cell_type": "markdown",
   "metadata": {},
   "source": [
    "# Setup Experiment"
   ]
  },
  {
   "cell_type": "code",
   "execution_count": 4,
   "metadata": {},
   "outputs": [],
   "source": [
    "from dataclasses import field\n",
    "\n",
    "@dataclass\n",
    "class Config():\n",
    "    seed: int = 1\n",
    "    dataset: str = \"cifar_mnist\"\n",
    "    loss_type: LossType = LossType.TOPK\n",
    "    # training \n",
    "    batch_size: int = 32\n",
    "    target_batch_size: int = 64\n",
    "    epochs: int = 10\n",
    "    heads: int = 2\n",
    "    binary: bool = False\n",
    "    model: str = \"Resnet50\"\n",
    "    shared_backbone: bool = True\n",
    "    mc_dropout: bool = True\n",
    "    mc_dropout_n: int = 10\n",
    "    dropout_rate: float = 0.2\n",
    "    uncertain_threshold: float = 0.10\n",
    "    source_weight: float = 1.0\n",
    "    aux_weight: float = 1.0\n",
    "    use_group_labels: bool = False\n",
    "    freeze_heads: bool = False\n",
    "    head_1_epochs: int = 5\n",
    "    # dataset\n",
    "    source_cc: bool = True\n",
    "    source_val_split: float = 0.2\n",
    "    target_val_split: float = 0.2\n",
    "    mix_rate: Optional[float] = 0.25\n",
    "    shuffle_target: bool = True\n",
    "    dataset_length: Optional[int] = None\n",
    "    max_length: int = 128  # for text datasets\n",
    "    combine_neut_entail: bool = False # for multi-nli\n",
    "    contra_no_neg: bool = True # for multi-nli\n",
    "    # topk # TODO: generalize properly configure group mix rates for MLI\n",
    "    aggregate_mix_rate: bool = False\n",
    "    mix_rate_lower_bound: Optional[float] = 0.5\n",
    "    mix_rate_lower_bound_01: Optional[float] = None\n",
    "    mix_rate_lower_bound_10: Optional[float] = None\n",
    "    group_mix_rate_lower_bounds: Optional[dict[str, float]] = None # field(default_factory=lambda: {\"0_1\": 0.1, \"1_0\": 0.1})\n",
    "    disagree_only: bool = True\n",
    "    mix_rate_schedule: Optional[str] = \"linear\"\n",
    "    mix_rate_t0: Optional[int] = 0\n",
    "    mix_rate_t1: Optional[int] = 5\n",
    "    mix_rate_interval_frac: Optional[float] = None # for mix rate updates within epoch\n",
    "    # optimizer \n",
    "    lr: float = 1e-4\n",
    "    weight_decay: float = 1e-3 # 1e-4\n",
    "    optimizer: str = \"adamw\"\n",
    "    lr_scheduler: Optional[str] = None \n",
    "    num_cycles: float = 0.5\n",
    "    frac_warmup: float = 0.05\n",
    "    # misc\n",
    "    num_workers: int = 4\n",
    "    device: str = \"cuda\" if torch.cuda.is_available() else (\"mps\" if torch.backends.mps.is_available() else \"cpu\")\n",
    "    exp_dir: str = f\"output/{datetime.now().strftime('%Y-%m-%d_%H-%M-%S')}\"\n",
    "    plot_activations: bool = False\n",
    "\n",
    "def str_to_tuple(s: str) -> tuple[int, ...]:\n",
    "    return tuple(int(i) for i in s.split(\"_\"))\n",
    "\n",
    "def post_init(conf: Config, overrides: list[str]=[]):\n",
    "    if conf.freeze_heads and \"head_1_epochs\" not in overrides:\n",
    "        conf.head_1_epochs = round(conf.epochs / 2)\n",
    "    \n",
    "    # set group mix rate lower bounds based on 01 10 (kinda hacky for doing hparam searches)\n",
    "    if conf.mix_rate_lower_bound_01 is not None or conf.mix_rate_lower_bound_10 is not None:\n",
    "        assert conf.group_mix_rate_lower_bounds is None\n",
    "        conf.group_mix_rate_lower_bounds = {\n",
    "            \"0_1\": conf.mix_rate_lower_bound_01 if conf.mix_rate_lower_bound_01 is not None else 0,\n",
    "            \"1_0\": conf.mix_rate_lower_bound_10 if conf.mix_rate_lower_bound_10 is not None else 0,\n",
    "        }\n",
    "    \n",
    "    if conf.group_mix_rate_lower_bounds is not None:\n",
    "        conf.group_mix_rate_lower_bounds = {str_to_tuple(k): v for k, v in conf.group_mix_rate_lower_bounds.items()}\n"
   ]
  },
  {
   "cell_type": "code",
   "execution_count": 5,
   "metadata": {},
   "outputs": [],
   "source": [
    "# so I think I want to do something like \n",
    "# so the naive uncertaintly approach would be to threshold pseudo-labels based on prediction uncertainly \n",
    "# we're thresholding based on ordering, not absolute outputs \n",
    "# so really we want to get at how much uncertainly is there in the ordering of examples, \n",
    "# and only include examples with low uncertaintly (e.g. high probability of being above the threshold)\n",
    "\n",
    "# see Dropout as Bayesian Approximation\n",
    "\n",
    "# ok so MC Dropout ~10 times, and compute the uncertainty that *an instance is included in the top k* (i.e. p * (1-p))\n",
    "# then only include instances with low uncertaintly (the pseudo-labeling paper uses 0.05, maybe need to tune b/c different setting but I would hope not)\n",
    "\n",
    "# things we want to track here: \n",
    "## does fraction of instances that do / don't exceed the threshold \n",
    "\n",
    "\n",
    "# ok instead we're doing ensembling \n",
    "# 1 - does ensembling work even if you don't vary dataset order? \n",
    "\n",
    "# nahh ok supposedly its \"worse\", but dropout on the final layer might be fine, is fully general, and is cheaper\n",
    "\n"
   ]
  },
  {
   "cell_type": "code",
   "execution_count": 6,
   "metadata": {},
   "outputs": [],
   "source": [
    "conf = Config()"
   ]
  },
  {
   "cell_type": "code",
   "execution_count": 7,
   "metadata": {},
   "outputs": [],
   "source": [
    "# if conf.dataset in [\"waterbirds\", \"celebA-0\", \"celebA-1\", \"celebA-2\", \"toy_grid\"]:\n",
    "#     if conf.loss_type == LossType.TOPK and conf.mix_rate_lower_bound == 0.1:\n",
    "#         conf.aux_weight = 7.0 \n",
    "#     else:\n",
    "#         conf.aux_weight = 2.0"
   ]
  },
  {
   "cell_type": "code",
   "execution_count": 8,
   "metadata": {},
   "outputs": [],
   "source": [
    "# conf.dataset = \"toy_grid\"\n",
    "# conf.lr = 1e-3\n",
    "# conf.optimizer = \"adamw\"\n",
    "# conf.model = \"toy_model\"\n",
    "# conf.batch_size = 32 \n",
    "# conf.target_batch_size = 128\n",
    "# conf.epochs = 100\n",
    "# conf.loss_type = LossType.DIVDIS\n",
    "# conf.mix_rate_lower_bound = 0.5\n",
    "# conf.plot_activations = False"
   ]
  },
  {
   "cell_type": "code",
   "execution_count": 9,
   "metadata": {},
   "outputs": [],
   "source": [
    "# if conf.loss_type == LossType.DBAT:\n",
    "#     conf.shared_backbone = False \n",
    "#     conf.freeze_heads = True\n",
    "#     conf.batch_size = 16\n",
    "#     conf.target_batch_size = 32\n"
   ]
  },
  {
   "cell_type": "code",
   "execution_count": 10,
   "metadata": {},
   "outputs": [],
   "source": [
    "# if conf.dataset in [\"waterbirds\", \"cub\"] and conf.loss_type == LossType.DIVDIS:\n",
    "#     conf.lr = 1e-3\n",
    "#     conf.weight_decay = 1e-4\n",
    "#     conf.epochs = 100\n",
    "#     conf.optimizer = \"sgd\"\n",
    "#     conf.batch_size = 16 \n",
    "#     conf.target_batch_size = 16\n",
    "#     conf.aux_weight = 10.0\n",
    "#     conf.shuffle_target = False\n",
    "\n"
   ]
  },
  {
   "cell_type": "code",
   "execution_count": 11,
   "metadata": {},
   "outputs": [],
   "source": [
    "# if conf.dataset == \"waterbirds\" and conf.loss_type == LossType.TOPK:\n",
    "#     conf.optimizer = \"sgd\"\n",
    "#     conf.target_01_mix_rate_lower_bound = 0.38\n",
    "#     conf.target_10_mix_rate_lower_bound = 0.10\n",
    "#     conf.mix_rate_lower_bound = None"
   ]
  },
  {
   "cell_type": "code",
   "execution_count": 12,
   "metadata": {},
   "outputs": [],
   "source": [
    "# # # toy grid configs \n",
    "# if conf.dataset == \"toy_grid\":\n",
    "#     conf.model = \"toy_model\"\n",
    "#     conf.epochs = 128\n",
    "# if conf.model == \"ClipViT\":\n",
    "#     # conf.epochs = 5\n",
    "#     conf.lr = 1e-5\n",
    "# Resnet50 Configs\n",
    "# if conf.model == \"Resnet50\":\n",
    "#     conf.lr = 1e-4 # probably too high, should be 1e-4\n",
    "# if conf.dataset == \"multi-nli\" or conf.dataset == \"civil_comments\":\n",
    "#     conf.model = \"bert\"\n",
    "#     conf.lr = 1e-5\n",
    "#     conf.lr_scheduler = \"cosine\"\n",
    "#     conf.combine_neut_entail = True\n",
    "#     conf.contra_no_neg = False\n",
    "\n"
   ]
  },
  {
   "cell_type": "code",
   "execution_count": 13,
   "metadata": {},
   "outputs": [],
   "source": [
    "#get config overrides if runnign from command line\n",
    "overrride_keys = []\n",
    "if not is_notebook():\n",
    "    import sys \n",
    "    overrides = OmegaConf.from_cli(sys.argv[1:])\n",
    "    overrride_keys = overrides.keys()\n",
    "    conf_dict = OmegaConf.merge(OmegaConf.structured(conf), overrides)\n",
    "    conf = Config(**conf_dict)\n",
    "\n",
    "exp_dir = conf.exp_dir\n",
    "os.makedirs(exp_dir, exist_ok=True)\n",
    "\n",
    "# save full config to exp_dir\n",
    "with open(f\"{exp_dir}/config.yaml\", \"w\") as f:\n",
    "    OmegaConf.save(config=conf, f=f)\n",
    "post_init(conf, overrride_keys)"
   ]
  },
  {
   "cell_type": "code",
   "execution_count": 14,
   "metadata": {},
   "outputs": [],
   "source": [
    "if conf.heads != 2:\n",
    "    raise ValueError(\"Only 2 heads currently supported\")\n"
   ]
  },
  {
   "cell_type": "code",
   "execution_count": 15,
   "metadata": {},
   "outputs": [],
   "source": [
    "torch.manual_seed(conf.seed)\n",
    "np.random.seed(conf.seed)"
   ]
  },
  {
   "cell_type": "code",
   "execution_count": 16,
   "metadata": {},
   "outputs": [],
   "source": [
    "\n",
    "from torchvision import models\n",
    "from torchvision.models.resnet import ResNet50_Weights\n",
    "model = models.resnet50(weights=ResNet50_Weights.IMAGENET1K_V1)  "
   ]
  },
  {
   "cell_type": "code",
   "execution_count": 17,
   "metadata": {},
   "outputs": [
    {
     "data": {
      "text/plain": [
       "ResNet(\n",
       "  (conv1): Conv2d(3, 64, kernel_size=(7, 7), stride=(2, 2), padding=(3, 3), bias=False)\n",
       "  (bn1): BatchNorm2d(64, eps=1e-05, momentum=0.1, affine=True, track_running_stats=True)\n",
       "  (relu): ReLU(inplace=True)\n",
       "  (maxpool): MaxPool2d(kernel_size=3, stride=2, padding=1, dilation=1, ceil_mode=False)\n",
       "  (layer1): Sequential(\n",
       "    (0): Bottleneck(\n",
       "      (conv1): Conv2d(64, 64, kernel_size=(1, 1), stride=(1, 1), bias=False)\n",
       "      (bn1): BatchNorm2d(64, eps=1e-05, momentum=0.1, affine=True, track_running_stats=True)\n",
       "      (conv2): Conv2d(64, 64, kernel_size=(3, 3), stride=(1, 1), padding=(1, 1), bias=False)\n",
       "      (bn2): BatchNorm2d(64, eps=1e-05, momentum=0.1, affine=True, track_running_stats=True)\n",
       "      (conv3): Conv2d(64, 256, kernel_size=(1, 1), stride=(1, 1), bias=False)\n",
       "      (bn3): BatchNorm2d(256, eps=1e-05, momentum=0.1, affine=True, track_running_stats=True)\n",
       "      (relu): ReLU(inplace=True)\n",
       "      (downsample): Sequential(\n",
       "        (0): Conv2d(64, 256, kernel_size=(1, 1), stride=(1, 1), bias=False)\n",
       "        (1): BatchNorm2d(256, eps=1e-05, momentum=0.1, affine=True, track_running_stats=True)\n",
       "      )\n",
       "    )\n",
       "    (1): Bottleneck(\n",
       "      (conv1): Conv2d(256, 64, kernel_size=(1, 1), stride=(1, 1), bias=False)\n",
       "      (bn1): BatchNorm2d(64, eps=1e-05, momentum=0.1, affine=True, track_running_stats=True)\n",
       "      (conv2): Conv2d(64, 64, kernel_size=(3, 3), stride=(1, 1), padding=(1, 1), bias=False)\n",
       "      (bn2): BatchNorm2d(64, eps=1e-05, momentum=0.1, affine=True, track_running_stats=True)\n",
       "      (conv3): Conv2d(64, 256, kernel_size=(1, 1), stride=(1, 1), bias=False)\n",
       "      (bn3): BatchNorm2d(256, eps=1e-05, momentum=0.1, affine=True, track_running_stats=True)\n",
       "      (relu): ReLU(inplace=True)\n",
       "    )\n",
       "    (2): Bottleneck(\n",
       "      (conv1): Conv2d(256, 64, kernel_size=(1, 1), stride=(1, 1), bias=False)\n",
       "      (bn1): BatchNorm2d(64, eps=1e-05, momentum=0.1, affine=True, track_running_stats=True)\n",
       "      (conv2): Conv2d(64, 64, kernel_size=(3, 3), stride=(1, 1), padding=(1, 1), bias=False)\n",
       "      (bn2): BatchNorm2d(64, eps=1e-05, momentum=0.1, affine=True, track_running_stats=True)\n",
       "      (conv3): Conv2d(64, 256, kernel_size=(1, 1), stride=(1, 1), bias=False)\n",
       "      (bn3): BatchNorm2d(256, eps=1e-05, momentum=0.1, affine=True, track_running_stats=True)\n",
       "      (relu): ReLU(inplace=True)\n",
       "    )\n",
       "  )\n",
       "  (layer2): Sequential(\n",
       "    (0): Bottleneck(\n",
       "      (conv1): Conv2d(256, 128, kernel_size=(1, 1), stride=(1, 1), bias=False)\n",
       "      (bn1): BatchNorm2d(128, eps=1e-05, momentum=0.1, affine=True, track_running_stats=True)\n",
       "      (conv2): Conv2d(128, 128, kernel_size=(3, 3), stride=(2, 2), padding=(1, 1), bias=False)\n",
       "      (bn2): BatchNorm2d(128, eps=1e-05, momentum=0.1, affine=True, track_running_stats=True)\n",
       "      (conv3): Conv2d(128, 512, kernel_size=(1, 1), stride=(1, 1), bias=False)\n",
       "      (bn3): BatchNorm2d(512, eps=1e-05, momentum=0.1, affine=True, track_running_stats=True)\n",
       "      (relu): ReLU(inplace=True)\n",
       "      (downsample): Sequential(\n",
       "        (0): Conv2d(256, 512, kernel_size=(1, 1), stride=(2, 2), bias=False)\n",
       "        (1): BatchNorm2d(512, eps=1e-05, momentum=0.1, affine=True, track_running_stats=True)\n",
       "      )\n",
       "    )\n",
       "    (1): Bottleneck(\n",
       "      (conv1): Conv2d(512, 128, kernel_size=(1, 1), stride=(1, 1), bias=False)\n",
       "      (bn1): BatchNorm2d(128, eps=1e-05, momentum=0.1, affine=True, track_running_stats=True)\n",
       "      (conv2): Conv2d(128, 128, kernel_size=(3, 3), stride=(1, 1), padding=(1, 1), bias=False)\n",
       "      (bn2): BatchNorm2d(128, eps=1e-05, momentum=0.1, affine=True, track_running_stats=True)\n",
       "      (conv3): Conv2d(128, 512, kernel_size=(1, 1), stride=(1, 1), bias=False)\n",
       "      (bn3): BatchNorm2d(512, eps=1e-05, momentum=0.1, affine=True, track_running_stats=True)\n",
       "      (relu): ReLU(inplace=True)\n",
       "    )\n",
       "    (2): Bottleneck(\n",
       "      (conv1): Conv2d(512, 128, kernel_size=(1, 1), stride=(1, 1), bias=False)\n",
       "      (bn1): BatchNorm2d(128, eps=1e-05, momentum=0.1, affine=True, track_running_stats=True)\n",
       "      (conv2): Conv2d(128, 128, kernel_size=(3, 3), stride=(1, 1), padding=(1, 1), bias=False)\n",
       "      (bn2): BatchNorm2d(128, eps=1e-05, momentum=0.1, affine=True, track_running_stats=True)\n",
       "      (conv3): Conv2d(128, 512, kernel_size=(1, 1), stride=(1, 1), bias=False)\n",
       "      (bn3): BatchNorm2d(512, eps=1e-05, momentum=0.1, affine=True, track_running_stats=True)\n",
       "      (relu): ReLU(inplace=True)\n",
       "    )\n",
       "    (3): Bottleneck(\n",
       "      (conv1): Conv2d(512, 128, kernel_size=(1, 1), stride=(1, 1), bias=False)\n",
       "      (bn1): BatchNorm2d(128, eps=1e-05, momentum=0.1, affine=True, track_running_stats=True)\n",
       "      (conv2): Conv2d(128, 128, kernel_size=(3, 3), stride=(1, 1), padding=(1, 1), bias=False)\n",
       "      (bn2): BatchNorm2d(128, eps=1e-05, momentum=0.1, affine=True, track_running_stats=True)\n",
       "      (conv3): Conv2d(128, 512, kernel_size=(1, 1), stride=(1, 1), bias=False)\n",
       "      (bn3): BatchNorm2d(512, eps=1e-05, momentum=0.1, affine=True, track_running_stats=True)\n",
       "      (relu): ReLU(inplace=True)\n",
       "    )\n",
       "  )\n",
       "  (layer3): Sequential(\n",
       "    (0): Bottleneck(\n",
       "      (conv1): Conv2d(512, 256, kernel_size=(1, 1), stride=(1, 1), bias=False)\n",
       "      (bn1): BatchNorm2d(256, eps=1e-05, momentum=0.1, affine=True, track_running_stats=True)\n",
       "      (conv2): Conv2d(256, 256, kernel_size=(3, 3), stride=(2, 2), padding=(1, 1), bias=False)\n",
       "      (bn2): BatchNorm2d(256, eps=1e-05, momentum=0.1, affine=True, track_running_stats=True)\n",
       "      (conv3): Conv2d(256, 1024, kernel_size=(1, 1), stride=(1, 1), bias=False)\n",
       "      (bn3): BatchNorm2d(1024, eps=1e-05, momentum=0.1, affine=True, track_running_stats=True)\n",
       "      (relu): ReLU(inplace=True)\n",
       "      (downsample): Sequential(\n",
       "        (0): Conv2d(512, 1024, kernel_size=(1, 1), stride=(2, 2), bias=False)\n",
       "        (1): BatchNorm2d(1024, eps=1e-05, momentum=0.1, affine=True, track_running_stats=True)\n",
       "      )\n",
       "    )\n",
       "    (1): Bottleneck(\n",
       "      (conv1): Conv2d(1024, 256, kernel_size=(1, 1), stride=(1, 1), bias=False)\n",
       "      (bn1): BatchNorm2d(256, eps=1e-05, momentum=0.1, affine=True, track_running_stats=True)\n",
       "      (conv2): Conv2d(256, 256, kernel_size=(3, 3), stride=(1, 1), padding=(1, 1), bias=False)\n",
       "      (bn2): BatchNorm2d(256, eps=1e-05, momentum=0.1, affine=True, track_running_stats=True)\n",
       "      (conv3): Conv2d(256, 1024, kernel_size=(1, 1), stride=(1, 1), bias=False)\n",
       "      (bn3): BatchNorm2d(1024, eps=1e-05, momentum=0.1, affine=True, track_running_stats=True)\n",
       "      (relu): ReLU(inplace=True)\n",
       "    )\n",
       "    (2): Bottleneck(\n",
       "      (conv1): Conv2d(1024, 256, kernel_size=(1, 1), stride=(1, 1), bias=False)\n",
       "      (bn1): BatchNorm2d(256, eps=1e-05, momentum=0.1, affine=True, track_running_stats=True)\n",
       "      (conv2): Conv2d(256, 256, kernel_size=(3, 3), stride=(1, 1), padding=(1, 1), bias=False)\n",
       "      (bn2): BatchNorm2d(256, eps=1e-05, momentum=0.1, affine=True, track_running_stats=True)\n",
       "      (conv3): Conv2d(256, 1024, kernel_size=(1, 1), stride=(1, 1), bias=False)\n",
       "      (bn3): BatchNorm2d(1024, eps=1e-05, momentum=0.1, affine=True, track_running_stats=True)\n",
       "      (relu): ReLU(inplace=True)\n",
       "    )\n",
       "    (3): Bottleneck(\n",
       "      (conv1): Conv2d(1024, 256, kernel_size=(1, 1), stride=(1, 1), bias=False)\n",
       "      (bn1): BatchNorm2d(256, eps=1e-05, momentum=0.1, affine=True, track_running_stats=True)\n",
       "      (conv2): Conv2d(256, 256, kernel_size=(3, 3), stride=(1, 1), padding=(1, 1), bias=False)\n",
       "      (bn2): BatchNorm2d(256, eps=1e-05, momentum=0.1, affine=True, track_running_stats=True)\n",
       "      (conv3): Conv2d(256, 1024, kernel_size=(1, 1), stride=(1, 1), bias=False)\n",
       "      (bn3): BatchNorm2d(1024, eps=1e-05, momentum=0.1, affine=True, track_running_stats=True)\n",
       "      (relu): ReLU(inplace=True)\n",
       "    )\n",
       "    (4): Bottleneck(\n",
       "      (conv1): Conv2d(1024, 256, kernel_size=(1, 1), stride=(1, 1), bias=False)\n",
       "      (bn1): BatchNorm2d(256, eps=1e-05, momentum=0.1, affine=True, track_running_stats=True)\n",
       "      (conv2): Conv2d(256, 256, kernel_size=(3, 3), stride=(1, 1), padding=(1, 1), bias=False)\n",
       "      (bn2): BatchNorm2d(256, eps=1e-05, momentum=0.1, affine=True, track_running_stats=True)\n",
       "      (conv3): Conv2d(256, 1024, kernel_size=(1, 1), stride=(1, 1), bias=False)\n",
       "      (bn3): BatchNorm2d(1024, eps=1e-05, momentum=0.1, affine=True, track_running_stats=True)\n",
       "      (relu): ReLU(inplace=True)\n",
       "    )\n",
       "    (5): Bottleneck(\n",
       "      (conv1): Conv2d(1024, 256, kernel_size=(1, 1), stride=(1, 1), bias=False)\n",
       "      (bn1): BatchNorm2d(256, eps=1e-05, momentum=0.1, affine=True, track_running_stats=True)\n",
       "      (conv2): Conv2d(256, 256, kernel_size=(3, 3), stride=(1, 1), padding=(1, 1), bias=False)\n",
       "      (bn2): BatchNorm2d(256, eps=1e-05, momentum=0.1, affine=True, track_running_stats=True)\n",
       "      (conv3): Conv2d(256, 1024, kernel_size=(1, 1), stride=(1, 1), bias=False)\n",
       "      (bn3): BatchNorm2d(1024, eps=1e-05, momentum=0.1, affine=True, track_running_stats=True)\n",
       "      (relu): ReLU(inplace=True)\n",
       "    )\n",
       "  )\n",
       "  (layer4): Sequential(\n",
       "    (0): Bottleneck(\n",
       "      (conv1): Conv2d(1024, 512, kernel_size=(1, 1), stride=(1, 1), bias=False)\n",
       "      (bn1): BatchNorm2d(512, eps=1e-05, momentum=0.1, affine=True, track_running_stats=True)\n",
       "      (conv2): Conv2d(512, 512, kernel_size=(3, 3), stride=(2, 2), padding=(1, 1), bias=False)\n",
       "      (bn2): BatchNorm2d(512, eps=1e-05, momentum=0.1, affine=True, track_running_stats=True)\n",
       "      (conv3): Conv2d(512, 2048, kernel_size=(1, 1), stride=(1, 1), bias=False)\n",
       "      (bn3): BatchNorm2d(2048, eps=1e-05, momentum=0.1, affine=True, track_running_stats=True)\n",
       "      (relu): ReLU(inplace=True)\n",
       "      (downsample): Sequential(\n",
       "        (0): Conv2d(1024, 2048, kernel_size=(1, 1), stride=(2, 2), bias=False)\n",
       "        (1): BatchNorm2d(2048, eps=1e-05, momentum=0.1, affine=True, track_running_stats=True)\n",
       "      )\n",
       "    )\n",
       "    (1): Bottleneck(\n",
       "      (conv1): Conv2d(2048, 512, kernel_size=(1, 1), stride=(1, 1), bias=False)\n",
       "      (bn1): BatchNorm2d(512, eps=1e-05, momentum=0.1, affine=True, track_running_stats=True)\n",
       "      (conv2): Conv2d(512, 512, kernel_size=(3, 3), stride=(1, 1), padding=(1, 1), bias=False)\n",
       "      (bn2): BatchNorm2d(512, eps=1e-05, momentum=0.1, affine=True, track_running_stats=True)\n",
       "      (conv3): Conv2d(512, 2048, kernel_size=(1, 1), stride=(1, 1), bias=False)\n",
       "      (bn3): BatchNorm2d(2048, eps=1e-05, momentum=0.1, affine=True, track_running_stats=True)\n",
       "      (relu): ReLU(inplace=True)\n",
       "    )\n",
       "    (2): Bottleneck(\n",
       "      (conv1): Conv2d(2048, 512, kernel_size=(1, 1), stride=(1, 1), bias=False)\n",
       "      (bn1): BatchNorm2d(512, eps=1e-05, momentum=0.1, affine=True, track_running_stats=True)\n",
       "      (conv2): Conv2d(512, 512, kernel_size=(3, 3), stride=(1, 1), padding=(1, 1), bias=False)\n",
       "      (bn2): BatchNorm2d(512, eps=1e-05, momentum=0.1, affine=True, track_running_stats=True)\n",
       "      (conv3): Conv2d(512, 2048, kernel_size=(1, 1), stride=(1, 1), bias=False)\n",
       "      (bn3): BatchNorm2d(2048, eps=1e-05, momentum=0.1, affine=True, track_running_stats=True)\n",
       "      (relu): ReLU(inplace=True)\n",
       "    )\n",
       "  )\n",
       "  (avgpool): AdaptiveAvgPool2d(output_size=(1, 1))\n",
       "  (fc): Linear(in_features=2048, out_features=1000, bias=True)\n",
       ")"
      ]
     },
     "execution_count": 17,
     "metadata": {},
     "output_type": "execute_result"
    }
   ],
   "source": [
    "# set dropout \n",
    "model\n",
    "# ok instead of dropout, lets do ensemble aggreement, that seems more general anyway \n",
    "\n"
   ]
  },
  {
   "cell_type": "code",
   "execution_count": 18,
   "metadata": {},
   "outputs": [],
   "source": [
    "model_transform = None\n",
    "pad_sides = False\n",
    "tokenizer = None\n",
    "if conf.model == \"Resnet50\":\n",
    "    from torchvision import models\n",
    "    from torchvision.models.resnet import ResNet50_Weights\n",
    "    resnet_builder = lambda: models.resnet50(weights=ResNet50_Weights.IMAGENET1K_V1)    \n",
    "    model_builder = lambda: torch.nn.Sequential(*list(resnet_builder().children())[:-1])\n",
    "    resnet_50_transforms = ResNet50_Weights.IMAGENET1K_V1.transforms()\n",
    "    model_transform = transforms.Compose([\n",
    "        transforms.Resize(resnet_50_transforms.resize_size * 2, interpolation=resnet_50_transforms.interpolation),\n",
    "        transforms.CenterCrop(resnet_50_transforms.crop_size),\n",
    "        transforms.Normalize(mean=resnet_50_transforms.mean, std=resnet_50_transforms.std)\n",
    "    ])\n",
    "    pad_sides = True\n",
    "    feature_dim = 2048\n",
    "elif conf.model == \"ClipViT\":\n",
    "    # from models.clip_vit import ClipViT\n",
    "    # model_builder = lambda: ClipViT()\n",
    "    # feature_dim = 768\n",
    "    # input_size = 96\n",
    "    # model_transform = transforms.Compose([\n",
    "    #     transforms.Resize((224, 224), interpolation=transforms.InterpolationMode.BICUBIC)\n",
    "    # ])\n",
    "    import clip \n",
    "    preprocess = clip.clip._transform(224)\n",
    "    clip_builder = lambda: clip.load('ViT-B/32', device='cpu')[0]\n",
    "    model_builder = lambda: clip_builder().visual\n",
    "    model_transform = transforms.Compose([\n",
    "        preprocess.transforms[0],\n",
    "        preprocess.transforms[1],\n",
    "        preprocess.transforms[4]\n",
    "    ])\n",
    "    feature_dim = 512\n",
    "    pad_sides = True\n",
    "elif conf.model == \"bert\":\n",
    "    from transformers import BertModel, BertTokenizer\n",
    "    from models.hf_wrapper import HFWrapper\n",
    "    bert_builder = lambda: BertModel.from_pretrained('bert-base-uncased')\n",
    "    model_builder = lambda: HFWrapper(bert_builder())\n",
    "    feature_dim = 768\n",
    "    tokenizer = BertTokenizer.from_pretrained('bert-base-uncased')\n",
    "elif conf.model == \"toy_model\":\n",
    "    model_builder = lambda: nn.Sequential(\n",
    "        nn.Linear(2, 40), nn.ReLU(), nn.Linear(40, 40), nn.ReLU()\n",
    "    )\n",
    "    feature_dim = 40\n",
    "elif conf.model == \"LeNet\":\n",
    "    from models.lenet import LeNet\n",
    "    from functools import partial\n",
    "    model_builder = lambda: partial(LeNet, num_classes=1, dropout_p=0.0)\n",
    "    feature_dim = 256\n",
    "else: \n",
    "    raise ValueError(f\"Model {conf.model} not supported\")\n"
   ]
  },
  {
   "cell_type": "code",
   "execution_count": 19,
   "metadata": {},
   "outputs": [
    {
     "name": "stdout",
     "output_type": "stream",
     "text": [
      "Files already downloaded and verified\n",
      "Files already downloaded and verified\n"
     ]
    },
    {
     "name": "stderr",
     "output_type": "stream",
     "text": [
      "/nas/ucb/oliveradk/diverse-gen/spurious_datasets/dominos.py:41: FutureWarning: You are using `torch.load` with `weights_only=False` (the current default value), which uses the default pickle module implicitly. It is possible to construct malicious pickle data which will execute arbitrary code during unpickling (See https://github.com/pytorch/pytorch/blob/main/SECURITY.md#untrusted-models for more details). In a future release, the default value for `weights_only` will be flipped to `True`. This limits the functions that could be executed during unpickling. Arbitrary objects will no longer be allowed to be loaded via this mode unless they are explicitly allowlisted by the user via `torch.serialization.add_safe_globals`. We recommend you start setting `weights_only=True` for any use case where you don't have full control of the loaded file. Please open an issue on GitHub for any issues related to this experimental feature.\n",
      "  return torch.load(dataset_path)\n"
     ]
    }
   ],
   "source": [
    "collate_fn = None\n",
    "# TODO: there should be varaible n_classes for each feature \n",
    "classes_per_head = [2, 2]\n",
    "classes_per_feat = [2, 2]\n",
    "is_img = True\n",
    "alt_index = 1\n",
    "\n",
    "if conf.dataset == \"toy_grid\":\n",
    "    source_train, source_val, target_train, target_val, target_test = get_toy_grid_datasets(\n",
    "        target_mix_rate_0_1=conf.mix_rate / 2 if conf.mix_rate is not None else None, \n",
    "        target_mix_rate_1_0=conf.mix_rate / 2 if conf.mix_rate is not None else None, \n",
    "        gaussian=True,\n",
    "        std=0.01\n",
    "    )\n",
    "elif conf.dataset == \"cifar_mnist\":\n",
    "    source_train, source_val, target_train, target_val, target_test = get_cifar_mnist_datasets(\n",
    "        target_mix_rate_0_1=conf.mix_rate / 2 if conf.mix_rate is not None else None, \n",
    "        target_mix_rate_1_0=conf.mix_rate / 2 if conf.mix_rate is not None else None, \n",
    "        transform=model_transform, \n",
    "        pad_sides=pad_sides\n",
    "    )\n",
    "\n",
    "elif conf.dataset == \"fmnist_mnist\":\n",
    "    source_train, source_val, target_train, target_val, target_test = get_fmnist_mnist_datasets(\n",
    "        target_mix_rate_0_1=conf.mix_rate / 2 if conf.mix_rate is not None else None, \n",
    "        target_mix_rate_1_0=conf.mix_rate / 2 if conf.mix_rate is not None else None, \n",
    "        transform=model_transform, \n",
    "        pad_sides=pad_sides\n",
    "    )\n",
    "elif conf.dataset == \"waterbirds\":\n",
    "    source_train, source_val, target_train, target_val, target_test = get_waterbirds_datasets(\n",
    "        mix_rate=conf.mix_rate, \n",
    "        source_cc=conf.source_cc,\n",
    "        transform=model_transform, \n",
    "        convert_to_tensor=True,\n",
    "        val_split=conf.source_val_split,\n",
    "        target_val_split=conf.target_val_split, \n",
    "        dataset_length=conf.dataset_length\n",
    "    )\n",
    "# elif conf.dataset == \"cub\":\n",
    "#     source_train, target_train, target_test = get_cub_datasets()\n",
    "#     source_val = []\n",
    "#     target_val = []\n",
    "elif conf.dataset.startswith(\"celebA\"):\n",
    "    if conf.dataset == \"celebA-0\":\n",
    "        gt_feat = \"Blond_Hair\"\n",
    "        spur_feat = \"Male\"\n",
    "        inv_spur_feat = True\n",
    "    elif conf.dataset == \"celebA-1\":\n",
    "        gt_feat = \"Mouth_Slightly_Open\"\n",
    "        spur_feat = \"Wearing_Lipstick\"\n",
    "        inv_spur_feat = False\n",
    "    elif conf.dataset == \"celebA-2\":\n",
    "        gt_feat = \"Wavy_Hair\"\n",
    "        spur_feat = \"High_Cheekbones\"\n",
    "        inv_spur_feat = False\n",
    "    else: \n",
    "        raise ValueError(f\"Dataset {conf.dataset} not supported\")\n",
    "    source_train, source_val, target_train, target_val, target_test = get_celebA_datasets(\n",
    "        mix_rate=conf.mix_rate, \n",
    "        source_cc=conf.source_cc,\n",
    "        transform=model_transform, \n",
    "        gt_feat=gt_feat,\n",
    "        spur_feat=spur_feat,\n",
    "        inv_spur_feat=inv_spur_feat,\n",
    "        dataset_length=conf.dataset_length\n",
    "    )\n",
    "elif conf.dataset == \"camelyon\":\n",
    "    source_train, source_val, target_train, target_val, target_test = get_camelyon_datasets(\n",
    "        transform=model_transform, \n",
    "        dataset_length=conf.dataset_length\n",
    "    )\n",
    "# elif conf.dataset == \"civil_comments\":\n",
    "#     source_train, source_val, target_train, target_val, target_test = get_civil_comments_datasets(\n",
    "#         tokenizer=tokenizer,\n",
    "#         max_length=conf.max_length, \n",
    "#         dataset_length=conf.dataset_length\n",
    "#     )\n",
    "#     is_img = False\n",
    "\n",
    "elif conf.dataset == \"multi-nli\":\n",
    "    source_train, source_val, target_train, target_val, target_test = get_multi_nli_datasets(\n",
    "        mix_rate=conf.mix_rate,\n",
    "        source_cc=conf.source_cc,\n",
    "        val_split=conf.source_val_split,\n",
    "        target_val_split=conf.target_val_split,\n",
    "        tokenizer=tokenizer,\n",
    "        max_length=conf.max_length, \n",
    "        dataset_length=conf.dataset_length, \n",
    "        combine_neut_entail=conf.combine_neut_entail, \n",
    "        contra_no_neg=conf.contra_no_neg\n",
    "    )\n",
    "    is_img = False\n",
    "    if not conf.combine_neut_entail:\n",
    "        classes_per_feat = [3, 2]\n",
    "        if conf.use_group_labels:\n",
    "            classes_per_head = [3, 2] # [contradiction, entailment, neutral] x [no negation, negation]\n",
    "        else:\n",
    "            classes_per_head = [3, 3] # [contradiction, entailment, neutral] x 2\n",
    "\n",
    "else:\n",
    "    raise ValueError(f\"Dataset {conf.dataset} not supported\")\n",
    "\n",
    "assert len(classes_per_head) == conf.heads\n",
    "if conf.binary:\n",
    "    assert all([c == 2 for c in classes_per_head])\n",
    "    classes_per_head = [1 for c in classes_per_head]\n",
    "\n"
   ]
  },
  {
   "cell_type": "code",
   "execution_count": 20,
   "metadata": {},
   "outputs": [],
   "source": [
    "# def get_count(df, i, j):\n",
    "#     try: \n",
    "#         return df.value_counts()[i][j]\n",
    "#     except KeyError: \n",
    "#         return 0\n",
    "\n",
    "# gl_df = pd.DataFrame(target_train.dataset.feature_labels[target_train.indices])\n",
    "\n",
    "# counts_00 = get_count(gl_df, 0, 0)\n",
    "# counts_01 = get_count(gl_df, 0, 1)\n",
    "# counts_10 = get_count(gl_df, 1, 0)\n",
    "# counts_11 = get_count(gl_df, 1, 1)\n",
    "\n",
    "# y0_freq = (counts_00 + counts_01) / (counts_00 + counts_01 + counts_10 + counts_11)\n",
    "# a0_freq = (counts_00 + counts_10) / (counts_00 + counts_01 + counts_10 + counts_11)\n",
    "\n",
    "# print(f\"y0_freq: {y0_freq}, a0_freq: {a0_freq}\")\n"
   ]
  },
  {
   "cell_type": "code",
   "execution_count": 21,
   "metadata": {},
   "outputs": [
    {
     "name": "stderr",
     "output_type": "stream",
     "text": [
      "Clipping input data to the valid range for imshow with RGB data ([0..1] for floats or [0..255] for integers). Got range [-2.117904..2.6378214].\n"
     ]
    },
    {
     "data": {
      "image/png": "[encoded data removed]",
      "text/plain": [
       "<Figure size 640x480 with 1 Axes>"
      ]
     },
     "metadata": {},
     "output_type": "display_data"
    }
   ],
   "source": [
    "# plot image \n",
    "img, y, gl = source_train[-1]\n",
    "# pad \n",
    "# to PIL image \n",
    "\n",
    "# img = transforms.ToPILImage()(img)\n",
    "# img\n",
    "if is_img and img.dim() == 3 and is_notebook():\n",
    "    plt.imshow(img.permute(1, 2, 0))\n",
    "    # show without axis \n",
    "    plt.axis('off')\n",
    "    plt.show()"
   ]
  },
  {
   "cell_type": "code",
   "execution_count": 22,
   "metadata": {},
   "outputs": [
    {
     "data": {
      "image/png": "[encoded data removed]",
      "text/plain": [
       "<Figure size 640x480 with 1 Axes>"
      ]
     },
     "metadata": {},
     "output_type": "display_data"
    }
   ],
   "source": [
    "# plot target train images with vision_utils.make_grid\n",
    "if is_img and img.dim() == 3 and is_notebook():\n",
    "    img_tensor_grid = torch.stack([target_train[i][0] for i in range(20)])\n",
    "    grid_img = vision_utils.make_grid(img_tensor_grid, nrow=10, normalize=True, padding=1)\n",
    "    plt.imshow(grid_img.permute(1, 2, 0))\n",
    "    plt.show()\n"
   ]
  },
  {
   "cell_type": "code",
   "execution_count": 23,
   "metadata": {},
   "outputs": [],
   "source": [
    "class DivisibleBatchSampler(torch.utils.data.Sampler):\n",
    "    def __init__(self, dataset_size: int, batch_size: int, shuffle: bool = True):\n",
    "        self.dataset_size = dataset_size\n",
    "        self.batch_size = batch_size\n",
    "        self.shuffle = shuffle\n",
    "        self.rng = rnd.Random(42)\n",
    "        \n",
    "        # Calculate number of complete batches and total samples needed\n",
    "        self.num_batches = math.ceil(dataset_size / batch_size)\n",
    "        self.total_size = self.num_batches * batch_size\n",
    "\n",
    "    def __iter__(self):\n",
    "        # Generate indices for the entire dataset\n",
    "        indices = list(range(self.dataset_size))\n",
    "        \n",
    "        if self.shuffle:\n",
    "            # Shuffle all indices\n",
    "            self.rng.shuffle(indices)\n",
    "            \n",
    "        # If we need more indices to make complete batches,\n",
    "        # randomly sample from existing indices\n",
    "        if self.total_size > self.dataset_size:\n",
    "            extra_indices = self.rng.choices(indices, k=self.total_size - self.dataset_size)\n",
    "            indices.extend(extra_indices)\n",
    "            \n",
    "        assert len(indices) == self.total_size\n",
    "        return iter(indices)\n",
    "\n",
    "    def __len__(self):\n",
    "        return self.total_size\n"
   ]
  },
  {
   "cell_type": "code",
   "execution_count": 24,
   "metadata": {},
   "outputs": [],
   "source": [
    "source_train_loader = DataLoader(\n",
    "    source_train, batch_size=conf.batch_size, num_workers=conf.num_workers, \n",
    "    sampler=DivisibleBatchSampler(len(source_train), conf.batch_size, shuffle=True), \n",
    ")\n",
    "if len(source_val) > 0:\n",
    "    source_val_loader = DataLoader(\n",
    "        source_val, batch_size=conf.batch_size, num_workers=conf.num_workers, \n",
    "        sampler=DivisibleBatchSampler(len(source_val), conf.batch_size, shuffle=False)\n",
    "    )\n",
    "# NOTE: shuffle \"should\" be true, but in divdis code its false, and this leads to substantial changes in worst goup result\n",
    "target_train_loader = DataLoader(\n",
    "    target_train, batch_size=conf.target_batch_size, num_workers=conf.num_workers, \n",
    "    sampler=DivisibleBatchSampler(len(target_train), conf.target_batch_size, shuffle=conf.shuffle_target)\n",
    ")\n",
    "if len(target_val) > 0:\n",
    "    target_val_loader = DataLoader(\n",
    "        target_val, batch_size=conf.target_batch_size, num_workers=conf.num_workers, \n",
    "        sampler=DivisibleBatchSampler(len(target_val), conf.target_batch_size, shuffle=False)\n",
    "    )\n",
    "target_test_loader = DataLoader(\n",
    "    target_test, batch_size=conf.batch_size, num_workers=conf.num_workers, shuffle=False\n",
    ")\n",
    "\n",
    "# classifiers\n",
    "from transformers import get_cosine_schedule_with_warmup\n",
    "if conf.shared_backbone:\n",
    "    net = MultiHeadBackbone(model_builder(), classes_per_head, feature_dim, dropout_rate=conf.dropout_rate)\n",
    "else:\n",
    "    net = MultiNetModel(model_builder=model_builder, classes_per_head=classes_per_head, feature_dim=feature_dim, dropout_rate=conf.dropout_rate)\n",
    "net = net.to(conf.device)\n",
    "\n",
    "# optimizer\n",
    "if conf.optimizer == \"adamw\":\n",
    "    opt = torch.optim.AdamW(net.parameters(), lr=conf.lr, weight_decay=conf.weight_decay)\n",
    "elif conf.optimizer == \"sgd\":\n",
    "    opt = torch.optim.SGD(net.parameters(), lr=conf.lr, weight_decay=conf.weight_decay, momentum=0.9)\n",
    "else: \n",
    "    raise ValueError(f\"Optimizer {conf.optimizer} not supported\")\n",
    "num_steps = conf.epochs * len(source_train_loader)\n",
    "if conf.lr_scheduler == \"cosine\":       \n",
    "    scheduler = get_cosine_schedule_with_warmup(\n",
    "        opt, \n",
    "        num_warmup_steps=num_steps * conf.frac_warmup, \n",
    "        num_training_steps=num_steps, \n",
    "        num_cycles=conf.num_cycles\n",
    "    )\n",
    "else: \n",
    "    # constant learning rate\n",
    "    scheduler = None\n",
    "\n",
    "\n",
    "# loss function\n",
    "if conf.loss_type == LossType.DIVDIS:\n",
    "    loss_fn = DivDisLoss(heads=conf.heads)\n",
    "elif conf.loss_type == LossType.DBAT:\n",
    "    loss_fn = DBatLoss(heads=conf.heads, n_classes=classes_per_head[0])\n",
    "elif conf.loss_type == LossType.CONF:\n",
    "    loss_fn = ConfLoss()\n",
    "elif conf.loss_type == LossType.SMOOTH:\n",
    "    loss_fn = SmoothTopLoss(\n",
    "        criterion=partial(F.binary_cross_entropy_with_logits, reduction='none'), \n",
    "        device=conf.device\n",
    "    )\n",
    "elif conf.loss_type == LossType.ERM:\n",
    "    loss_fn = PassThroughLoss()\n",
    "elif conf.loss_type in [LossType.TOPK, LossType.EXP, LossType.PROB]:\n",
    "    def get_mix_rate(conf, mix_rate_lb_override=None, group_mix_rate_lb_override=None):\n",
    "        mix_rate_lower_bound = mix_rate_lb_override if mix_rate_lb_override is not None else conf.mix_rate_lower_bound\n",
    "        group_mix_rate_lower_bounds = group_mix_rate_lb_override if group_mix_rate_lb_override is not None else conf.group_mix_rate_lower_bounds\n",
    "        if conf.aggregate_mix_rate:\n",
    "            mix_rate = mix_rate_lower_bound\n",
    "            group_mix_rates = None\n",
    "        elif conf.group_mix_rate_lower_bounds is not None:\n",
    "            mix_rate = None \n",
    "            group_mix_rates = group_mix_rate_lower_bounds\n",
    "        else:\n",
    "            mix_rate = None \n",
    "            if conf.dataset == \"multi-nli\" and conf.use_group_labels:\n",
    "                ood_groups = [(0, 1), (1, 0), (2, 0)]\n",
    "            else: \n",
    "                mix_rate_cls_per_head = classes_per_head \n",
    "                if conf.binary:\n",
    "                    mix_rate_cls_per_head = [2 for _ in classes_per_head]\n",
    "                ood_groups = [gl for gl in feature_label_ls(mix_rate_cls_per_head)\n",
    "                            if any(gl[0] != gl[i] for i in range(1, len(gl)))]\n",
    "            group_mix_rates = {group: mix_rate_lower_bound / len(ood_groups) for group in ood_groups}\n",
    "        return mix_rate, group_mix_rates\n",
    "    \n",
    "    mix_rate, group_mix_rates = get_mix_rate(conf)\n",
    "\n",
    "    loss_fn = ACELoss(\n",
    "        classes_per_head=classes_per_head,\n",
    "        mode=conf.loss_type.value, \n",
    "        mix_rate=mix_rate,\n",
    "        group_mix_rates=group_mix_rates,\n",
    "        disagree_only=conf.disagree_only,\n",
    "        device=conf.device, \n",
    "        uncertainty_threshold=conf.uncertain_threshold\n",
    "    )\n",
    "else:\n",
    "    raise ValueError(f\"Loss type {conf.loss_type} not supported\")\n"
   ]
  },
  {
   "cell_type": "markdown",
   "metadata": {},
   "source": [
    "# Plot Activations"
   ]
  },
  {
   "cell_type": "code",
   "execution_count": 25,
   "metadata": {},
   "outputs": [],
   "source": [
    "# visualize data using first two principle componets of final layer activations\n",
    "if conf.plot_activations and conf.shared_backbone:\n",
    "    model = model_builder()\n",
    "    model = model.to(conf.device)\n",
    "    test_acts, test_labels = get_acts_and_labels(model, target_test_loader, conf.device)\n",
    "    test_labels = test_labels.to('cpu')\n",
    "    pca_fig, pca_acts, pca_reducer = plot_activations(\n",
    "        activations=test_acts, labels=test_labels, \n",
    "        classes_per_feature=classes_per_feat, transform=\"pca\"\n",
    "    )\n",
    "    umap_fig, umap_acts, umap_reducer = plot_activations(\n",
    "        activations=test_acts, labels=test_labels, \n",
    "        classes_per_feature=classes_per_feat, transform=\"umap\"\n",
    "    )\n",
    "    pca_fig.savefig(f\"{exp_dir}/activations_pretrain_pca.png\")\n",
    "    pca_fig.savefig(f\"{exp_dir}/activations_pretrain_pca.svg\")\n",
    "    umap_fig.savefig(f\"{exp_dir}/activations_pretrain_umap.png\")\n",
    "    umap_fig.savefig(f\"{exp_dir}/activations_pretrain_umap.svg\")\n",
    "    np.save(f\"{exp_dir}/activations_pretrain_pca.npy\", pca_acts)\n",
    "    np.save(f\"{exp_dir}/activations_pretrain_umap.npy\", umap_acts)\n",
    "    "
   ]
  },
  {
   "cell_type": "code",
   "execution_count": 26,
   "metadata": {},
   "outputs": [],
   "source": [
    "# fit linear probe \n",
    "if conf.plot_activations and conf.shared_backbone:\n",
    "    train_acts, train_labels = get_acts_and_labels(model, target_train_loader, conf.device)\n",
    "    probe_acc, probe_acc_alt = compute_probe_acc(train_acts, train_labels, test_acts, test_labels, classes_per_feat)\n",
    "    print(f\"Accuracy: {probe_acc:.4f}\")\n",
    "    print(f\"Alt Accuracy: {probe_acc_alt:.4f}\")\n",
    "    # nah I'll just try to picke the umap"
   ]
  },
  {
   "cell_type": "markdown",
   "metadata": {},
   "source": [
    "# Train"
   ]
  },
  {
   "cell_type": "code",
   "execution_count": 27,
   "metadata": {},
   "outputs": [],
   "source": [
    "def compute_src_losses(logits, y, gl):\n",
    "    logits_by_head = torch.split(logits, classes_per_head, dim=-1)\n",
    "    labels_by_head = [y, y] if not conf.use_group_labels else [gl[:, 0], gl[:, 1]]\n",
    "\n",
    "    if conf.binary: # NOTE: not currently supported\n",
    "        losses = [F.binary_cross_entropy_with_logits(logit.squeeze(), y.squeeze().to(torch.float32)) \n",
    "                  for logit, y in zip(logits_by_head, labels_by_head)]\n",
    "    else:\n",
    "        assert logits_by_head[0].shape == (logits.size(0), classes_per_head[0]), logits_by_head[0].shape\n",
    "        losses = [F.cross_entropy(logit.squeeze(), y.squeeze().to(torch.long)) \n",
    "                  for logit, y in zip(logits_by_head, labels_by_head)]\n",
    "    return losses\n",
    "\n",
    "# TODO: fix\n",
    "def compute_corrects(logits: torch.Tensor, y: torch.Tensor, binary: bool):\n",
    "    if binary: # NOTE: not currently supported\n",
    "        return ((logits.squeeze() > 0) == y.flatten()).sum().item()\n",
    "    else:\n",
    "        return (logits.argmax(dim=-1) == y).sum().item()\n",
    "        "
   ]
  },
  {
   "cell_type": "code",
   "execution_count": 28,
   "metadata": {},
   "outputs": [],
   "source": [
    "def eval(model, loader, device, loss_fn, use_labels=False, stage: str = \"Evaluating\"): \n",
    "    group_label_ls = feature_label_ls(classes_per_feat)\n",
    "    # e.g. for classes per_head = [3,2]\n",
    "    # group_label_ls = [(0, 0), (0, 1), (1, 0), (1, 1), (2, 0), (2, 1)]\n",
    "    \n",
    "    # loss \n",
    "    losses = []\n",
    "\n",
    "    # accuracy \n",
    "    total_corrects_by_groups = {\n",
    "        group_label: torch.zeros(conf.heads)\n",
    "        for group_label in group_label_ls\n",
    "    }\n",
    "    total_corrects_alt_by_groups = {\n",
    "        group_label: torch.zeros(conf.heads)\n",
    "        for group_label in group_label_ls\n",
    "    }\n",
    "    total_samples = 0\n",
    "    total_samples_by_groups = {\n",
    "        group_label: 0\n",
    "        for group_label in group_label_ls\n",
    "    }\n",
    "    \n",
    "    with torch.no_grad():\n",
    "        for x, y, gl in tqdm(loader, desc=stage):\n",
    "            x, y, gl = to_device(x, y, gl, conf.device)\n",
    "            logits = model(x)\n",
    "            # print(test_logits.shape)\n",
    "            total_samples += logits.size(0)\n",
    "            if use_labels and loss_fn is not None:\n",
    "                loss = loss_fn(logits, y, gl)\n",
    "            elif loss_fn is not None:\n",
    "                loss = loss_fn(logits)\n",
    "            else: \n",
    "                loss = torch.tensor(0.0, device=conf.device)\n",
    "            if torch.isnan(loss):\n",
    "                print(f\"Warning: Nan Loss (likely due to batch size and target loss) \"\n",
    "                f\"Batch size: {logits.size(0)}, Loss: {conf.loss_type}\")\n",
    "            else:\n",
    "                losses.append(loss)\n",
    "\n",
    "            # parition instances into groups based on group labels \n",
    "            logits_by_group = {}\n",
    "            for group_label in group_label_ls:\n",
    "                group_label_mask = torch.all(gl == torch.tensor(group_label).to(device), dim=1)\n",
    "                # print(\"group label mask\", group_label_mask.shape)\n",
    "                logits_by_group[group_label] = logits[group_label_mask]\n",
    "            # print(\"group logit shapes\", [v.shape for v in logits_by_group.values()])\n",
    "            \n",
    "            for group_label, group_logits in logits_by_group.items():\n",
    "                num_examples_group = group_logits.size(0)\n",
    "                total_samples_by_groups[group_label] += num_examples_group\n",
    "                group_labels = torch.tensor(group_label).repeat(num_examples_group, 1).to(device)\n",
    "                group_logits_by_head = torch.split(group_logits, classes_per_head, dim=-1)\n",
    "                for i in range(conf.heads):\n",
    "                    if conf.use_group_labels:\n",
    "                        total_corrects_by_groups[group_label][i] += compute_corrects(group_logits_by_head[i], group_labels[:, i], conf.binary)\n",
    "                    else:\n",
    "                        total_corrects_by_groups[group_label][i] += compute_corrects(group_logits_by_head[i], group_labels[:, 0], conf.binary)\n",
    "                        total_corrects_alt_by_groups[group_label][i] += compute_corrects(group_logits_by_head[i], group_labels[:, 1], conf.binary)\n",
    "    \n",
    "    total_corrects = torch.stack([gl_corrects for gl_corrects in total_corrects_by_groups.values()], dim=0).sum(dim=0)\n",
    "    if not conf.use_group_labels:\n",
    "        total_corrects_alt = torch.stack([gl_corrects for gl_corrects in total_corrects_alt_by_groups.values()], dim=0).sum(dim=0)\n",
    "\n",
    "    # average metrics\n",
    "    metrics = {}\n",
    "    for i in range(conf.heads):\n",
    "        metrics[f\"acc_{i}\"] = (total_corrects[i] / total_samples).item()\n",
    "        if not conf.use_group_labels:\n",
    "            metrics[f\"acc_alt_{i}\"] = (total_corrects_alt[i] / total_samples).item()\n",
    "    \n",
    "    if loss_fn is not None:\n",
    "        metrics[\"loss\"] = torch.mean(torch.tensor(losses)).item()\n",
    "    # group acc per head\n",
    "    for group_label in group_label_ls:\n",
    "        for i in range(conf.heads): \n",
    "            metrics[f\"acc_{i}_{group_label}\"] = (total_corrects_by_groups[group_label][i] / total_samples_by_groups[group_label]).item()\n",
    "            if not conf.use_group_labels:\n",
    "                metrics[f\"acc_alt_{i}_{group_label}\"] = (total_corrects_alt_by_groups[group_label][i] / total_samples_by_groups[group_label]).item()\n",
    "    # worst group acc per head\n",
    "    for i in range(conf.heads):\n",
    "        metrics[f\"worst_acc_{i}\"] = min([metrics[f\"acc_{i}_{group_label}\"] for group_label in group_label_ls])\n",
    "\n",
    "    # add group counts \n",
    "    for group_label in group_label_ls:\n",
    "        metrics[f\"count_{group_label}\"] = total_samples_by_groups[group_label]\n",
    "\n",
    "    return metrics"
   ]
  },
  {
   "cell_type": "code",
   "execution_count": 29,
   "metadata": {},
   "outputs": [],
   "source": [
    "logger = Logger(exp_dir)\n",
    "if conf.plot_activations and conf.shared_backbone:   \n",
    "    logger.add_scalar(\"test\", \"probe_acc\", probe_acc, -1)\n",
    "    logger.add_scalar(\"test\", \"probe_acc_alt\", probe_acc_alt, -1)"
   ]
  },
  {
   "cell_type": "code",
   "execution_count": 30,
   "metadata": {},
   "outputs": [
    {
     "name": "stdout",
     "output_type": "stream",
     "text": [
      "hello\n"
     ]
    }
   ],
   "source": [
    "import copy\n",
    "valid_loss_fn = loss_fn \n",
    "if isinstance(loss_fn, ACELoss) and conf.mix_rate_schedule is not None:\n",
    "    print('hello')\n",
    "    valid_loss_fn = copy.deepcopy(loss_fn)\n"
   ]
  },
  {
   "cell_type": "code",
   "execution_count": 31,
   "metadata": {},
   "outputs": [],
   "source": [
    "def get_cur_mix_rate(conf, epoch): \n",
    "    cur_mix_rate = None\n",
    "    cur_group_mix_rates = None\n",
    "    if epoch < conf.mix_rate_t0: # set to 0\n",
    "        if conf.mix_rate_lower_bound is not None:\n",
    "            cur_mix_rate = 0 \n",
    "        if conf.group_mix_rate_lower_bounds is not None:\n",
    "            cur_group_mix_rates = {group: 0 for group in conf.group_mix_rate_lower_bounds.keys()}\n",
    "    elif epoch >= conf.mix_rate_t1: # set to lower bound\n",
    "        if conf.mix_rate_lower_bound is not None:\n",
    "            cur_mix_rate = conf.mix_rate_lower_bound\n",
    "        if conf.group_mix_rate_lower_bounds is not None:\n",
    "            cur_group_mix_rates = {group: conf.group_mix_rate_lower_bounds[group] for group in conf.group_mix_rate_lower_bounds.keys()}\n",
    "    else: # set to linear schedule\n",
    "        if conf.mix_rate_lower_bound is not None:\n",
    "            cur_mix_rate = conf.mix_rate_lower_bound * (epoch - conf.mix_rate_t0) / (conf.mix_rate_t1 - conf.mix_rate_t0)\n",
    "        if conf.group_mix_rate_lower_bounds is not None:\n",
    "            cur_group_mix_rates = {group: conf.group_mix_rate_lower_bounds[group] * (epoch - conf.mix_rate_t0) / (conf.mix_rate_t1 - conf.mix_rate_t0) for group in conf.group_mix_rate_lower_bounds.keys()}\n",
    "    return cur_mix_rate, cur_group_mix_rates\n"
   ]
  },
  {
   "cell_type": "code",
   "execution_count": 32,
   "metadata": {},
   "outputs": [
    {
     "name": "stderr",
     "output_type": "stream",
     "text": [
      "Source train:   0%|          | 0/32 [00:00<?, ?it/s]"
     ]
    },
    {
     "name": "stdout",
     "output_type": "stream",
     "text": [
      "target uncertainty (0, 1): 0.0, 0.0\n",
      "target uncertainty (1, 0): 0.0, 0.0\n"
     ]
    },
    {
     "name": "stderr",
     "output_type": "stream",
     "text": [
      "Source train:   6%|▋         | 2/32 [00:01<00:14,  2.12it/s]"
     ]
    },
    {
     "name": "stdout",
     "output_type": "stream",
     "text": [
      "target uncertainty (0, 1): 0.0, 0.0\n",
      "target uncertainty (1, 0): 0.0, 0.0\n"
     ]
    },
    {
     "name": "stderr",
     "output_type": "stream",
     "text": [
      "Source train:   9%|▉         | 3/32 [00:01<00:10,  2.85it/s]"
     ]
    },
    {
     "name": "stdout",
     "output_type": "stream",
     "text": [
      "target uncertainty (0, 1): 0.0, 0.0\n",
      "target uncertainty (1, 0): 0.0, 0.0\n"
     ]
    },
    {
     "name": "stderr",
     "output_type": "stream",
     "text": [
      "Source train:  12%|█▎        | 4/32 [00:01<00:08,  3.42it/s]"
     ]
    },
    {
     "name": "stdout",
     "output_type": "stream",
     "text": [
      "target uncertainty (0, 1): 0.0, 0.0\n",
      "target uncertainty (1, 0): 0.0, 0.0\n"
     ]
    },
    {
     "name": "stderr",
     "output_type": "stream",
     "text": [
      "Source train:  16%|█▌        | 5/32 [00:01<00:07,  3.83it/s]"
     ]
    },
    {
     "name": "stdout",
     "output_type": "stream",
     "text": [
      "target uncertainty (0, 1): 0.0, 0.0\n",
      "target uncertainty (1, 0): 0.0, 0.0\n"
     ]
    },
    {
     "name": "stderr",
     "output_type": "stream",
     "text": [
      "Source train:  19%|█▉        | 6/32 [00:01<00:06,  4.16it/s]"
     ]
    },
    {
     "name": "stdout",
     "output_type": "stream",
     "text": [
      "target uncertainty (0, 1): 0.0, 0.0\n",
      "target uncertainty (1, 0): 0.0, 0.0\n"
     ]
    },
    {
     "name": "stderr",
     "output_type": "stream",
     "text": [
      "Source train:  22%|██▏       | 7/32 [00:02<00:05,  4.36it/s]"
     ]
    },
    {
     "name": "stdout",
     "output_type": "stream",
     "text": [
      "target uncertainty (0, 1): 0.0, 0.0\n",
      "target uncertainty (1, 0): 0.0, 0.0\n"
     ]
    },
    {
     "name": "stderr",
     "output_type": "stream",
     "text": [
      "Source train:  25%|██▌       | 8/32 [00:02<00:05,  4.53it/s]"
     ]
    },
    {
     "name": "stdout",
     "output_type": "stream",
     "text": [
      "target uncertainty (0, 1): 0.0, 0.0\n",
      "target uncertainty (1, 0): 0.0, 0.0\n"
     ]
    },
    {
     "name": "stderr",
     "output_type": "stream",
     "text": [
      "Source train:  28%|██▊       | 9/32 [00:02<00:04,  4.65it/s]"
     ]
    },
    {
     "name": "stdout",
     "output_type": "stream",
     "text": [
      "target uncertainty (0, 1): 0.0, 0.0\n",
      "target uncertainty (1, 0): 0.0, 0.0\n"
     ]
    },
    {
     "name": "stderr",
     "output_type": "stream",
     "text": [
      "Source train:  31%|███▏      | 10/32 [00:02<00:04,  4.72it/s]"
     ]
    },
    {
     "name": "stdout",
     "output_type": "stream",
     "text": [
      "target uncertainty (0, 1): 0.0, 0.0\n",
      "target uncertainty (1, 0): 0.0, 0.0\n"
     ]
    },
    {
     "name": "stderr",
     "output_type": "stream",
     "text": [
      "Source train:  34%|███▍      | 11/32 [00:02<00:04,  4.75it/s]"
     ]
    },
    {
     "name": "stdout",
     "output_type": "stream",
     "text": [
      "target uncertainty (0, 1): 0.0, 0.0\n",
      "target uncertainty (1, 0): 0.0, 0.0\n"
     ]
    },
    {
     "name": "stderr",
     "output_type": "stream",
     "text": [
      "Source train:  38%|███▊      | 12/32 [00:03<00:04,  4.81it/s]"
     ]
    },
    {
     "name": "stdout",
     "output_type": "stream",
     "text": [
      "target uncertainty (0, 1): 0.0, 0.0\n",
      "target uncertainty (1, 0): 0.0, 0.0\n"
     ]
    },
    {
     "name": "stderr",
     "output_type": "stream",
     "text": [
      "Source train:  41%|████      | 13/32 [00:03<00:03,  4.81it/s]"
     ]
    },
    {
     "name": "stdout",
     "output_type": "stream",
     "text": [
      "target uncertainty (0, 1): 0.0, 0.0\n",
      "target uncertainty (1, 0): 0.0, 0.0\n"
     ]
    },
    {
     "name": "stderr",
     "output_type": "stream",
     "text": [
      "Source train:  44%|████▍     | 14/32 [00:03<00:03,  4.84it/s]"
     ]
    },
    {
     "name": "stdout",
     "output_type": "stream",
     "text": [
      "target uncertainty (0, 1): 0.0, 0.0\n",
      "target uncertainty (1, 0): 0.0, 0.0\n"
     ]
    },
    {
     "name": "stderr",
     "output_type": "stream",
     "text": [
      "Source train:  47%|████▋     | 15/32 [00:03<00:03,  4.86it/s]"
     ]
    },
    {
     "name": "stdout",
     "output_type": "stream",
     "text": [
      "target uncertainty (0, 1): 0.0, 0.0\n",
      "target uncertainty (1, 0): 0.0, 0.0\n"
     ]
    },
    {
     "name": "stderr",
     "output_type": "stream",
     "text": [
      "Source train:  50%|█████     | 16/32 [00:03<00:03,  4.90it/s]"
     ]
    },
    {
     "name": "stdout",
     "output_type": "stream",
     "text": [
      "target uncertainty (0, 1): 0.0, 0.0\n",
      "target uncertainty (1, 0): 0.0, 0.0\n"
     ]
    },
    {
     "name": "stderr",
     "output_type": "stream",
     "text": [
      "Source train:  53%|█████▎    | 17/32 [00:04<00:03,  4.85it/s]"
     ]
    },
    {
     "name": "stdout",
     "output_type": "stream",
     "text": [
      "target uncertainty (0, 1): 0.0, 0.0\n",
      "target uncertainty (1, 0): 0.0, 0.0\n"
     ]
    },
    {
     "name": "stderr",
     "output_type": "stream",
     "text": [
      "Source train:  56%|█████▋    | 18/32 [00:04<00:02,  4.90it/s]"
     ]
    },
    {
     "name": "stdout",
     "output_type": "stream",
     "text": [
      "target uncertainty (0, 1): 0.0, 0.0\n",
      "target uncertainty (1, 0): 0.0, 0.0\n"
     ]
    },
    {
     "name": "stderr",
     "output_type": "stream",
     "text": [
      "Source train:  59%|█████▉    | 19/32 [00:04<00:02,  4.91it/s]"
     ]
    },
    {
     "name": "stdout",
     "output_type": "stream",
     "text": [
      "target uncertainty (0, 1): 0.0, 0.0\n",
      "target uncertainty (1, 0): 0.0, 0.0\n"
     ]
    },
    {
     "name": "stderr",
     "output_type": "stream",
     "text": [
      "Source train:  62%|██████▎   | 20/32 [00:04<00:02,  4.88it/s]"
     ]
    },
    {
     "name": "stdout",
     "output_type": "stream",
     "text": [
      "target uncertainty (0, 1): 0.0, 0.0\n",
      "target uncertainty (1, 0): 0.0, 0.0\n"
     ]
    },
    {
     "name": "stderr",
     "output_type": "stream",
     "text": [
      "Source train:  66%|██████▌   | 21/32 [00:04<00:02,  4.90it/s]"
     ]
    },
    {
     "name": "stdout",
     "output_type": "stream",
     "text": [
      "target uncertainty (0, 1): 0.0, 0.0\n",
      "target uncertainty (1, 0): 0.0, 0.0\n"
     ]
    },
    {
     "name": "stderr",
     "output_type": "stream",
     "text": [
      "Source train:  69%|██████▉   | 22/32 [00:05<00:02,  4.86it/s]"
     ]
    },
    {
     "name": "stdout",
     "output_type": "stream",
     "text": [
      "target uncertainty (0, 1): 0.0, 0.0\n",
      "target uncertainty (1, 0): 0.0, 0.0\n"
     ]
    },
    {
     "name": "stderr",
     "output_type": "stream",
     "text": [
      "Source train:  72%|███████▏  | 23/32 [00:05<00:01,  4.91it/s]"
     ]
    },
    {
     "name": "stdout",
     "output_type": "stream",
     "text": [
      "target uncertainty (0, 1): 0.0, 0.0\n",
      "target uncertainty (1, 0): 0.0, 0.0\n"
     ]
    },
    {
     "name": "stderr",
     "output_type": "stream",
     "text": [
      "Source train:  75%|███████▌  | 24/32 [00:05<00:01,  4.89it/s]"
     ]
    },
    {
     "name": "stdout",
     "output_type": "stream",
     "text": [
      "target uncertainty (0, 1): 0.0, 0.0\n",
      "target uncertainty (1, 0): 0.0, 0.0\n"
     ]
    },
    {
     "name": "stderr",
     "output_type": "stream",
     "text": [
      "Source train:  78%|███████▊  | 25/32 [00:05<00:01,  4.90it/s]"
     ]
    },
    {
     "name": "stdout",
     "output_type": "stream",
     "text": [
      "target uncertainty (0, 1): 0.0, 0.0\n",
      "target uncertainty (1, 0): 0.0, 0.0\n"
     ]
    },
    {
     "name": "stderr",
     "output_type": "stream",
     "text": [
      "Source train:  81%|████████▏ | 26/32 [00:06<00:01,  4.91it/s]"
     ]
    },
    {
     "name": "stdout",
     "output_type": "stream",
     "text": [
      "target uncertainty (0, 1): 0.0, 0.0\n",
      "target uncertainty (1, 0): 0.0, 0.0\n"
     ]
    },
    {
     "name": "stderr",
     "output_type": "stream",
     "text": [
      "Source train:  84%|████████▍ | 27/32 [00:06<00:01,  4.88it/s]"
     ]
    },
    {
     "name": "stdout",
     "output_type": "stream",
     "text": [
      "target uncertainty (0, 1): 0.0, 0.0\n",
      "target uncertainty (1, 0): 0.0, 0.0\n"
     ]
    },
    {
     "name": "stderr",
     "output_type": "stream",
     "text": [
      "Source train:  88%|████████▊ | 28/32 [00:06<00:00,  4.92it/s]"
     ]
    },
    {
     "name": "stdout",
     "output_type": "stream",
     "text": [
      "target uncertainty (0, 1): 0.0, 0.0\n",
      "target uncertainty (1, 0): 0.0, 0.0\n"
     ]
    },
    {
     "name": "stderr",
     "output_type": "stream",
     "text": [
      "Source train:  91%|█████████ | 29/32 [00:06<00:00,  4.89it/s]"
     ]
    },
    {
     "name": "stdout",
     "output_type": "stream",
     "text": [
      "target uncertainty (0, 1): 0.0, 0.0\n",
      "target uncertainty (1, 0): 0.0, 0.0\n"
     ]
    },
    {
     "name": "stderr",
     "output_type": "stream",
     "text": [
      "Source train:  94%|█████████▍| 30/32 [00:06<00:00,  4.91it/s]"
     ]
    },
    {
     "name": "stdout",
     "output_type": "stream",
     "text": [
      "target uncertainty (0, 1): 0.0, 0.0\n",
      "target uncertainty (1, 0): 0.0, 0.0\n"
     ]
    },
    {
     "name": "stderr",
     "output_type": "stream",
     "text": [
      "Source train:  97%|█████████▋| 31/32 [00:07<00:00,  4.88it/s]"
     ]
    },
    {
     "name": "stdout",
     "output_type": "stream",
     "text": [
      "target uncertainty (0, 1): 0.0, 0.0\n",
      "target uncertainty (1, 0): 0.0, 0.0\n"
     ]
    },
    {
     "name": "stderr",
     "output_type": "stream",
     "text": [
      "Source train: 100%|██████████| 32/32 [00:07<00:00,  4.34it/s]\n"
     ]
    },
    {
     "name": "stdout",
     "output_type": "stream",
     "text": [
      "target uncertainty (0, 1): 0.0, 0.0\n",
      "target uncertainty (1, 0): 0.0, 0.0\n"
     ]
    },
    {
     "name": "stderr",
     "output_type": "stream",
     "text": [
      "Source Val: 100%|██████████| 8/8 [00:00<00:00, 12.42it/s]\n",
      "Target Val: 100%|██████████| 4/4 [00:00<00:00,  6.34it/s]\n",
      "Target Test: 100%|██████████| 31/31 [00:01<00:00, 24.12it/s]"
     ]
    },
    {
     "name": "stdout",
     "output_type": "stream",
     "text": [
      "Epoch 1 Eval Results:\n",
      "Source validation loss: 0.0075\n",
      "Target validation loss 11.4410\n",
      "Validation loss: 11.4485\n",
      "\n",
      "=== Test Accuracies ===\n",
      "\n",
      "Overall Accuracies:\n",
      "Head 0:  Main: 0.5000  |  Alt: 1.0000\n",
      "Head 1:  Main: 0.5000  |  Alt: 1.0000\n",
      "\n",
      "Worst Group Accuracies:\n",
      "Head 0:  Worst: 0.0000\n",
      "Head 1:  Worst: 0.0000\n",
      "\n",
      "Group-wise Accuracies:\n",
      "\n",
      "Group (0, 0), count: 245:\n",
      "Head 0:  Main: 1.0000  |  Alt: 1.0000\n",
      "Head 1:  Main: 1.0000  |  Alt: 1.0000\n",
      "\n",
      "Group (0, 1), count: 245:\n",
      "Head 0:  Main: 0.0000  |  Alt: 1.0000\n",
      "Head 1:  Main: 0.0000  |  Alt: 1.0000\n",
      "\n",
      "Group (1, 0), count: 245:\n",
      "Head 0:  Main: 0.0000  |  Alt: 1.0000\n",
      "Head 1:  Main: 0.0000  |  Alt: 1.0000\n",
      "\n",
      "Group (1, 1), count: 245:\n",
      "Head 0:  Main: 1.0000  |  Alt: 1.0000\n",
      "Head 1:  Main: 1.0000  |  Alt: 1.0000\n"
     ]
    },
    {
     "name": "stderr",
     "output_type": "stream",
     "text": [
      "\n",
      "Source train:   3%|▎         | 1/32 [00:00<00:03,  8.27it/s]"
     ]
    },
    {
     "name": "stdout",
     "output_type": "stream",
     "text": [
      "target uncertainty (0, 1): 0.008750000037252903, 0.046875\n",
      "target uncertainty (1, 0): 0.007500000298023224, 0.03125\n"
     ]
    },
    {
     "name": "stderr",
     "output_type": "stream",
     "text": [
      "Source train:   6%|▋         | 2/32 [00:00<00:05,  5.90it/s]"
     ]
    },
    {
     "name": "stdout",
     "output_type": "stream",
     "text": [
      "target uncertainty (0, 1): 0.0, 0.0\n",
      "target uncertainty (1, 0): 0.0, 0.0\n"
     ]
    },
    {
     "name": "stderr",
     "output_type": "stream",
     "text": [
      "Source train:   9%|▉         | 3/32 [00:00<00:05,  5.34it/s]"
     ]
    },
    {
     "name": "stdout",
     "output_type": "stream",
     "text": [
      "target uncertainty (0, 1): 0.009062499739229679, 0.03125\n",
      "target uncertainty (1, 0): 0.007500000298023224, 0.03125\n"
     ]
    },
    {
     "name": "stderr",
     "output_type": "stream",
     "text": [
      "Source train:  12%|█▎        | 4/32 [00:00<00:05,  5.16it/s]"
     ]
    },
    {
     "name": "stdout",
     "output_type": "stream",
     "text": [
      "target uncertainty (0, 1): 0.024375000968575478, 0.109375\n",
      "target uncertainty (1, 0): 0.021562499925494194, 0.09375\n"
     ]
    },
    {
     "name": "stderr",
     "output_type": "stream",
     "text": [
      "Source train:  16%|█▌        | 5/32 [00:00<00:05,  5.06it/s]"
     ]
    },
    {
     "name": "stdout",
     "output_type": "stream",
     "text": [
      "target uncertainty (0, 1): 0.007500000298023224, 0.03125\n",
      "target uncertainty (1, 0): 0.009062499739229679, 0.03125\n"
     ]
    },
    {
     "name": "stderr",
     "output_type": "stream",
     "text": [
      "Source train:  19%|█▉        | 6/32 [00:01<00:05,  4.99it/s]"
     ]
    },
    {
     "name": "stdout",
     "output_type": "stream",
     "text": [
      "target uncertainty (0, 1): 0.01718750037252903, 0.09375\n",
      "target uncertainty (1, 0): 0.010000000707805157, 0.0625\n"
     ]
    },
    {
     "name": "stderr",
     "output_type": "stream",
     "text": [
      "Source train:  22%|██▏       | 7/32 [00:01<00:05,  4.94it/s]"
     ]
    },
    {
     "name": "stdout",
     "output_type": "stream",
     "text": [
      "target uncertainty (0, 1): 0.011874999850988388, 0.046875\n",
      "target uncertainty (1, 0): 0.018125001341104507, 0.078125\n"
     ]
    },
    {
     "name": "stderr",
     "output_type": "stream",
     "text": [
      "Source train:  25%|██▌       | 8/32 [00:01<00:04,  4.89it/s]"
     ]
    },
    {
     "name": "stdout",
     "output_type": "stream",
     "text": [
      "target uncertainty (0, 1): 0.016249999403953552, 0.0625\n",
      "target uncertainty (1, 0): 0.0240625012665987, 0.109375\n"
     ]
    },
    {
     "name": "stderr",
     "output_type": "stream",
     "text": [
      "Source train:  28%|██▊       | 9/32 [00:01<00:04,  4.89it/s]"
     ]
    },
    {
     "name": "stdout",
     "output_type": "stream",
     "text": [
      "target uncertainty (0, 1): 0.025624999776482582, 0.09375\n",
      "target uncertainty (1, 0): 0.025312500074505806, 0.109375\n"
     ]
    },
    {
     "name": "stderr",
     "output_type": "stream",
     "text": [
      "Source train:  31%|███▏      | 10/32 [00:01<00:04,  4.87it/s]"
     ]
    },
    {
     "name": "stdout",
     "output_type": "stream",
     "text": [
      "target uncertainty (0, 1): 0.030937500298023224, 0.140625\n",
      "target uncertainty (1, 0): 0.030625000596046448, 0.09375\n"
     ]
    },
    {
     "name": "stderr",
     "output_type": "stream",
     "text": [
      "Source train:  34%|███▍      | 11/32 [00:02<00:04,  4.88it/s]"
     ]
    },
    {
     "name": "stdout",
     "output_type": "stream",
     "text": [
      "target uncertainty (0, 1): 0.01718750037252903, 0.0625\n",
      "target uncertainty (1, 0): 0.029374999925494194, 0.109375\n"
     ]
    },
    {
     "name": "stderr",
     "output_type": "stream",
     "text": [
      "Source train:  38%|███▊      | 12/32 [00:02<00:04,  4.89it/s]"
     ]
    },
    {
     "name": "stdout",
     "output_type": "stream",
     "text": [
      "target uncertainty (0, 1): 0.03125, 0.125\n",
      "target uncertainty (1, 0): 0.028437500819563866, 0.109375\n"
     ]
    },
    {
     "name": "stderr",
     "output_type": "stream",
     "text": [
      "Source train:  41%|████      | 13/32 [00:02<00:03,  4.89it/s]"
     ]
    },
    {
     "name": "stdout",
     "output_type": "stream",
     "text": [
      "target uncertainty (0, 1): 0.015937499701976776, 0.046875\n",
      "target uncertainty (1, 0): 0.019375000149011612, 0.078125\n"
     ]
    },
    {
     "name": "stderr",
     "output_type": "stream",
     "text": [
      "Source train:  44%|████▍     | 14/32 [00:02<00:03,  4.90it/s]"
     ]
    },
    {
     "name": "stdout",
     "output_type": "stream",
     "text": [
      "target uncertainty (0, 1): 0.020937498658895493, 0.078125\n",
      "target uncertainty (1, 0): 0.023125000298023224, 0.09375\n"
     ]
    },
    {
     "name": "stderr",
     "output_type": "stream",
     "text": [
      "Source train:  47%|████▋     | 15/32 [00:02<00:03,  4.87it/s]"
     ]
    },
    {
     "name": "stdout",
     "output_type": "stream",
     "text": [
      "target uncertainty (0, 1): 0.015312501229345798, 0.0625\n",
      "target uncertainty (1, 0): 0.017499998211860657, 0.0625\n"
     ]
    },
    {
     "name": "stderr",
     "output_type": "stream",
     "text": [
      "Source train:  50%|█████     | 16/32 [00:03<00:03,  4.86it/s]"
     ]
    },
    {
     "name": "stdout",
     "output_type": "stream",
     "text": [
      "target uncertainty (0, 1): 0.018124999478459358, 0.078125\n",
      "target uncertainty (1, 0): 0.018124999478459358, 0.0625\n"
     ]
    },
    {
     "name": "stderr",
     "output_type": "stream",
     "text": [
      "Source train:  53%|█████▎    | 17/32 [00:03<00:03,  4.89it/s]"
     ]
    },
    {
     "name": "stdout",
     "output_type": "stream",
     "text": [
      "target uncertainty (0, 1): 0.014687500894069672, 0.0625\n",
      "target uncertainty (1, 0): 0.019062500447034836, 0.078125\n"
     ]
    },
    {
     "name": "stderr",
     "output_type": "stream",
     "text": [
      "Source train:  56%|█████▋    | 18/32 [00:03<00:02,  4.88it/s]"
     ]
    },
    {
     "name": "stdout",
     "output_type": "stream",
     "text": [
      "target uncertainty (0, 1): 0.004999999888241291, 0.03125\n",
      "target uncertainty (1, 0): 0.0, 0.0\n"
     ]
    },
    {
     "name": "stderr",
     "output_type": "stream",
     "text": [
      "Source train:  59%|█████▉    | 19/32 [00:03<00:02,  4.90it/s]"
     ]
    },
    {
     "name": "stdout",
     "output_type": "stream",
     "text": [
      "target uncertainty (0, 1): 0.004999999888241291, 0.03125\n",
      "target uncertainty (1, 0): 0.012187500484287739, 0.0625\n"
     ]
    },
    {
     "name": "stderr",
     "output_type": "stream",
     "text": [
      "Source train:  62%|██████▎   | 20/32 [00:04<00:02,  4.91it/s]"
     ]
    },
    {
     "name": "stdout",
     "output_type": "stream",
     "text": [
      "target uncertainty (0, 1): 0.006562500260770321, 0.03125\n",
      "target uncertainty (1, 0): 0.019999999552965164, 0.0625\n"
     ]
    },
    {
     "name": "stderr",
     "output_type": "stream",
     "text": [
      "Source train:  66%|██████▌   | 21/32 [00:04<00:02,  4.87it/s]"
     ]
    },
    {
     "name": "stdout",
     "output_type": "stream",
     "text": [
      "target uncertainty (0, 1): 0.0, 0.0\n",
      "target uncertainty (1, 0): 0.009062499739229679, 0.03125\n"
     ]
    },
    {
     "name": "stderr",
     "output_type": "stream",
     "text": [
      "Source train:  69%|██████▉   | 22/32 [00:04<00:02,  4.87it/s]"
     ]
    },
    {
     "name": "stdout",
     "output_type": "stream",
     "text": [
      "target uncertainty (0, 1): 0.00937500037252903, 0.03125\n",
      "target uncertainty (1, 0): 0.0078125, 0.03125\n"
     ]
    },
    {
     "name": "stderr",
     "output_type": "stream",
     "text": [
      "Source train:  72%|███████▏  | 23/32 [00:04<00:01,  4.86it/s]"
     ]
    },
    {
     "name": "stdout",
     "output_type": "stream",
     "text": [
      "target uncertainty (0, 1): 0.0, 0.0\n",
      "target uncertainty (1, 0): 0.01406249962747097, 0.046875\n"
     ]
    },
    {
     "name": "stderr",
     "output_type": "stream",
     "text": [
      "Source train:  75%|███████▌  | 24/32 [00:04<00:01,  4.87it/s]"
     ]
    },
    {
     "name": "stdout",
     "output_type": "stream",
     "text": [
      "target uncertainty (0, 1): 0.0028124996460974216, 0.0\n",
      "target uncertainty (1, 0): 0.0028124996460974216, 0.0\n"
     ]
    },
    {
     "name": "stderr",
     "output_type": "stream",
     "text": [
      "Source train:  78%|███████▊  | 25/32 [00:05<00:01,  4.88it/s]"
     ]
    },
    {
     "name": "stdout",
     "output_type": "stream",
     "text": [
      "target uncertainty (0, 1): 0.015312500298023224, 0.0625\n",
      "target uncertainty (1, 0): 0.008124999701976776, 0.015625\n"
     ]
    },
    {
     "name": "stderr",
     "output_type": "stream",
     "text": [
      "Source train:  81%|████████▏ | 26/32 [00:05<00:01,  4.86it/s]"
     ]
    },
    {
     "name": "stdout",
     "output_type": "stream",
     "text": [
      "target uncertainty (0, 1): 0.016249999403953552, 0.0625\n",
      "target uncertainty (1, 0): 0.009687500074505806, 0.046875\n"
     ]
    },
    {
     "name": "stderr",
     "output_type": "stream",
     "text": [
      "Source train:  84%|████████▍ | 27/32 [00:05<00:01,  4.92it/s]"
     ]
    },
    {
     "name": "stdout",
     "output_type": "stream",
     "text": [
      "target uncertainty (0, 1): 0.011250000447034836, 0.046875\n",
      "target uncertainty (1, 0): 0.011874999850988388, 0.03125\n"
     ]
    },
    {
     "name": "stderr",
     "output_type": "stream",
     "text": [
      "Source train:  88%|████████▊ | 28/32 [00:05<00:00,  4.87it/s]"
     ]
    },
    {
     "name": "stdout",
     "output_type": "stream",
     "text": [
      "target uncertainty (0, 1): 0.010312500409781933, 0.046875\n",
      "target uncertainty (1, 0): 0.007187499664723873, 0.03125\n"
     ]
    },
    {
     "name": "stderr",
     "output_type": "stream",
     "text": [
      "Source train:  91%|█████████ | 29/32 [00:05<00:00,  4.77it/s]"
     ]
    },
    {
     "name": "stdout",
     "output_type": "stream",
     "text": [
      "target uncertainty (0, 1): 0.011874999850988388, 0.046875\n",
      "target uncertainty (1, 0): 0.008437499403953552, 0.03125\n"
     ]
    },
    {
     "name": "stderr",
     "output_type": "stream",
     "text": [
      "Source train:  94%|█████████▍| 30/32 [00:06<00:00,  4.79it/s]"
     ]
    },
    {
     "name": "stdout",
     "output_type": "stream",
     "text": [
      "target uncertainty (0, 1): 0.019999999552965164, 0.078125\n",
      "target uncertainty (1, 0): 0.013749999925494194, 0.046875\n"
     ]
    },
    {
     "name": "stderr",
     "output_type": "stream",
     "text": [
      "Source train:  97%|█████████▋| 31/32 [00:06<00:00,  4.82it/s]"
     ]
    },
    {
     "name": "stdout",
     "output_type": "stream",
     "text": [
      "target uncertainty (0, 1): 0.013749999925494194, 0.0625\n",
      "target uncertainty (1, 0): 0.015937501564621925, 0.078125\n"
     ]
    },
    {
     "name": "stderr",
     "output_type": "stream",
     "text": [
      "Source train: 100%|██████████| 32/32 [00:06<00:00,  4.84it/s]\n"
     ]
    },
    {
     "name": "stdout",
     "output_type": "stream",
     "text": [
      "target uncertainty (0, 1): 0.009687500074505806, 0.046875\n",
      "target uncertainty (1, 0): 0.014999999664723873, 0.0625\n"
     ]
    },
    {
     "name": "stderr",
     "output_type": "stream",
     "text": [
      "Source Val: 100%|██████████| 8/8 [00:00<00:00, 12.81it/s]\n",
      "Target Val: 100%|██████████| 4/4 [00:00<00:00,  6.71it/s]\n",
      "Target Test: 100%|██████████| 31/31 [00:01<00:00, 24.23it/s]"
     ]
    },
    {
     "name": "stdout",
     "output_type": "stream",
     "text": [
      "Epoch 2 Eval Results:\n",
      "Source validation loss: 1.1806\n",
      "Target validation loss 1.0857\n",
      "Validation loss: 2.2664\n",
      "\n",
      "=== Test Accuracies ===\n",
      "\n",
      "Overall Accuracies:\n",
      "Head 0:  Main: 0.5408  |  Alt: 0.7816\n",
      "Head 1:  Main: 0.4571  |  Alt: 0.7612\n",
      "\n",
      "Worst Group Accuracies:\n",
      "Head 0:  Worst: 0.0000\n",
      "Head 1:  Worst: 0.0408\n",
      "\n",
      "Group-wise Accuracies:\n",
      "\n",
      "Group (0, 0), count: 245:\n",
      "Head 0:  Main: 1.0000  |  Alt: 1.0000\n",
      "Head 1:  Main: 0.9551  |  Alt: 0.9551\n",
      "\n",
      "Group (0, 1), count: 245:\n",
      "Head 0:  Main: 0.5184  |  Alt: 0.4816\n",
      "Head 1:  Main: 0.3510  |  Alt: 0.6490\n",
      "\n",
      "Group (1, 0), count: 245:\n",
      "Head 0:  Main: 0.0000  |  Alt: 1.0000\n",
      "Head 1:  Main: 0.0408  |  Alt: 0.9592\n",
      "\n",
      "Group (1, 1), count: 245:\n",
      "Head 0:  Main: 0.6449  |  Alt: 0.6449\n",
      "Head 1:  Main: 0.4816  |  Alt: 0.4816\n"
     ]
    },
    {
     "name": "stderr",
     "output_type": "stream",
     "text": [
      "\n",
      "Source train:   3%|▎         | 1/32 [00:00<00:03,  8.86it/s]"
     ]
    },
    {
     "name": "stdout",
     "output_type": "stream",
     "text": [
      "target uncertainty (0, 1): 0.024062499403953552, 0.09375\n",
      "target uncertainty (1, 0): 0.005624999292194843, 0.0\n"
     ]
    },
    {
     "name": "stderr",
     "output_type": "stream",
     "text": [
      "Source train:   6%|▋         | 2/32 [00:00<00:04,  6.01it/s]"
     ]
    },
    {
     "name": "stdout",
     "output_type": "stream",
     "text": [
      "target uncertainty (0, 1): 0.010624999180436134, 0.03125\n",
      "target uncertainty (1, 0): 0.007187500596046448, 0.03125\n"
     ]
    },
    {
     "name": "stderr",
     "output_type": "stream",
     "text": [
      "Source train:   9%|▉         | 3/32 [00:00<00:05,  5.38it/s]"
     ]
    },
    {
     "name": "stdout",
     "output_type": "stream",
     "text": [
      "target uncertainty (0, 1): 0.0240625012665987, 0.125\n",
      "target uncertainty (1, 0): 0.01406249962747097, 0.0625\n"
     ]
    },
    {
     "name": "stderr",
     "output_type": "stream",
     "text": [
      "Source train:  12%|█▎        | 4/32 [00:00<00:05,  5.15it/s]"
     ]
    },
    {
     "name": "stdout",
     "output_type": "stream",
     "text": [
      "target uncertainty (0, 1): 0.010312499478459358, 0.015625\n",
      "target uncertainty (1, 0): 0.01718750037252903, 0.0625\n"
     ]
    },
    {
     "name": "stderr",
     "output_type": "stream",
     "text": [
      "Source train:  16%|█▌        | 5/32 [00:00<00:05,  5.03it/s]"
     ]
    },
    {
     "name": "stdout",
     "output_type": "stream",
     "text": [
      "target uncertainty (0, 1): 0.02812500111758709, 0.125\n",
      "target uncertainty (1, 0): 0.017812499776482582, 0.078125\n"
     ]
    },
    {
     "name": "stderr",
     "output_type": "stream",
     "text": [
      "Source train:  19%|█▉        | 6/32 [00:01<00:05,  4.98it/s]"
     ]
    },
    {
     "name": "stdout",
     "output_type": "stream",
     "text": [
      "target uncertainty (0, 1): 0.007187499664723873, 0.03125\n",
      "target uncertainty (1, 0): 0.018437499180436134, 0.0625\n"
     ]
    },
    {
     "name": "stderr",
     "output_type": "stream",
     "text": [
      "Source train:  22%|██▏       | 7/32 [00:01<00:05,  4.92it/s]"
     ]
    },
    {
     "name": "stdout",
     "output_type": "stream",
     "text": [
      "target uncertainty (0, 1): 0.015312500298023224, 0.0625\n",
      "target uncertainty (1, 0): 0.0, 0.0\n"
     ]
    },
    {
     "name": "stderr",
     "output_type": "stream",
     "text": [
      "Source train:  25%|██▌       | 8/32 [00:01<00:04,  4.95it/s]"
     ]
    },
    {
     "name": "stdout",
     "output_type": "stream",
     "text": [
      "target uncertainty (0, 1): 0.014062500558793545, 0.0625\n",
      "target uncertainty (1, 0): 0.0, 0.0\n"
     ]
    },
    {
     "name": "stderr",
     "output_type": "stream",
     "text": [
      "Source train:  28%|██▊       | 9/32 [00:01<00:04,  4.92it/s]"
     ]
    },
    {
     "name": "stdout",
     "output_type": "stream",
     "text": [
      "target uncertainty (0, 1): 0.012500000186264515, 0.0625\n",
      "target uncertainty (1, 0): 0.008750000037252903, 0.046875\n"
     ]
    },
    {
     "name": "stderr",
     "output_type": "stream",
     "text": [
      "Source train:  31%|███▏      | 10/32 [00:01<00:04,  4.87it/s]"
     ]
    },
    {
     "name": "stdout",
     "output_type": "stream",
     "text": [
      "target uncertainty (0, 1): 0.011562500149011612, 0.046875\n",
      "target uncertainty (1, 0): 0.0, 0.0\n"
     ]
    },
    {
     "name": "stderr",
     "output_type": "stream",
     "text": [
      "Source train:  34%|███▍      | 11/32 [00:02<00:04,  4.84it/s]"
     ]
    },
    {
     "name": "stdout",
     "output_type": "stream",
     "text": [
      "target uncertainty (0, 1): 0.01249999925494194, 0.046875\n",
      "target uncertainty (1, 0): 0.01656249910593033, 0.0625\n"
     ]
    },
    {
     "name": "stderr",
     "output_type": "stream",
     "text": [
      "Source train:  38%|███▊      | 12/32 [00:02<00:04,  4.91it/s]"
     ]
    },
    {
     "name": "stdout",
     "output_type": "stream",
     "text": [
      "target uncertainty (0, 1): 0.019062500447034836, 0.078125\n",
      "target uncertainty (1, 0): 0.009687500074505806, 0.046875\n"
     ]
    },
    {
     "name": "stderr",
     "output_type": "stream",
     "text": [
      "Source train:  41%|████      | 13/32 [00:02<00:03,  4.87it/s]"
     ]
    },
    {
     "name": "stdout",
     "output_type": "stream",
     "text": [
      "target uncertainty (0, 1): 0.0, 0.0\n",
      "target uncertainty (1, 0): 0.013437500223517418, 0.0625\n"
     ]
    },
    {
     "name": "stderr",
     "output_type": "stream",
     "text": [
      "Source train:  44%|████▍     | 14/32 [00:02<00:03,  4.88it/s]"
     ]
    },
    {
     "name": "stdout",
     "output_type": "stream",
     "text": [
      "target uncertainty (0, 1): 0.009062500670552254, 0.03125\n",
      "target uncertainty (1, 0): 0.00937500037252903, 0.03125\n"
     ]
    },
    {
     "name": "stderr",
     "output_type": "stream",
     "text": [
      "Source train:  47%|████▋     | 15/32 [00:02<00:03,  4.88it/s]"
     ]
    },
    {
     "name": "stdout",
     "output_type": "stream",
     "text": [
      "target uncertainty (0, 1): 0.0, 0.0\n",
      "target uncertainty (1, 0): 0.008124998770654202, 0.015625\n"
     ]
    },
    {
     "name": "stderr",
     "output_type": "stream",
     "text": [
      "Source train:  50%|█████     | 16/32 [00:03<00:03,  4.87it/s]"
     ]
    },
    {
     "name": "stdout",
     "output_type": "stream",
     "text": [
      "target uncertainty (0, 1): 0.0, 0.0\n",
      "target uncertainty (1, 0): 0.011874999850988388, 0.046875\n"
     ]
    },
    {
     "name": "stderr",
     "output_type": "stream",
     "text": [
      "Source train:  53%|█████▎    | 17/32 [00:03<00:03,  4.91it/s]"
     ]
    },
    {
     "name": "stdout",
     "output_type": "stream",
     "text": [
      "target uncertainty (0, 1): 0.004999999888241291, 0.03125\n",
      "target uncertainty (1, 0): 0.01249999925494194, 0.046875\n"
     ]
    },
    {
     "name": "stderr",
     "output_type": "stream",
     "text": [
      "Source train:  56%|█████▋    | 18/32 [00:03<00:02,  4.91it/s]"
     ]
    },
    {
     "name": "stdout",
     "output_type": "stream",
     "text": [
      "target uncertainty (0, 1): 0.0028124996460974216, 0.0\n",
      "target uncertainty (1, 0): 0.0078125, 0.03125\n"
     ]
    },
    {
     "name": "stderr",
     "output_type": "stream",
     "text": [
      "Source train:  59%|█████▉    | 19/32 [00:03<00:02,  4.88it/s]"
     ]
    },
    {
     "name": "stdout",
     "output_type": "stream",
     "text": [
      "target uncertainty (0, 1): 0.0028124996460974216, 0.0\n",
      "target uncertainty (1, 0): 0.01656249910593033, 0.078125\n"
     ]
    },
    {
     "name": "stderr",
     "output_type": "stream",
     "text": [
      "Source train:  62%|██████▎   | 20/32 [00:04<00:02,  4.87it/s]"
     ]
    },
    {
     "name": "stdout",
     "output_type": "stream",
     "text": [
      "target uncertainty (0, 1): 0.0, 0.0\n",
      "target uncertainty (1, 0): 0.007187499664723873, 0.03125\n"
     ]
    },
    {
     "name": "stderr",
     "output_type": "stream",
     "text": [
      "Source train:  66%|██████▌   | 21/32 [00:04<00:02,  4.90it/s]"
     ]
    },
    {
     "name": "stdout",
     "output_type": "stream",
     "text": [
      "target uncertainty (0, 1): 0.012187499552965164, 0.046875\n",
      "target uncertainty (1, 0): 0.014687499962747097, 0.046875\n"
     ]
    },
    {
     "name": "stderr",
     "output_type": "stream",
     "text": [
      "Source train:  69%|██████▉   | 22/32 [00:04<00:02,  4.88it/s]"
     ]
    },
    {
     "name": "stdout",
     "output_type": "stream",
     "text": [
      "target uncertainty (0, 1): 0.0071875001303851604, 0.03125\n",
      "target uncertainty (1, 0): 0.01093750074505806, 0.046875\n"
     ]
    },
    {
     "name": "stderr",
     "output_type": "stream",
     "text": [
      "Source train:  72%|███████▏  | 23/32 [00:04<00:01,  4.88it/s]"
     ]
    },
    {
     "name": "stdout",
     "output_type": "stream",
     "text": [
      "target uncertainty (0, 1): 0.010312499478459358, 0.046875\n",
      "target uncertainty (1, 0): 0.014374999329447746, 0.046875\n"
     ]
    },
    {
     "name": "stderr",
     "output_type": "stream",
     "text": [
      "Source train:  75%|███████▌  | 24/32 [00:04<00:01,  4.90it/s]"
     ]
    },
    {
     "name": "stdout",
     "output_type": "stream",
     "text": [
      "target uncertainty (0, 1): 0.008437499403953552, 0.03125\n",
      "target uncertainty (1, 0): 0.012812500819563866, 0.0625\n"
     ]
    },
    {
     "name": "stderr",
     "output_type": "stream",
     "text": [
      "Source train:  78%|███████▊  | 25/32 [00:05<00:01,  4.86it/s]"
     ]
    },
    {
     "name": "stdout",
     "output_type": "stream",
     "text": [
      "target uncertainty (0, 1): 0.007500000298023224, 0.03125\n",
      "target uncertainty (1, 0): 0.005624999292194843, 0.0\n"
     ]
    },
    {
     "name": "stderr",
     "output_type": "stream",
     "text": [
      "Source train:  81%|████████▏ | 26/32 [00:05<00:01,  4.85it/s]"
     ]
    },
    {
     "name": "stdout",
     "output_type": "stream",
     "text": [
      "target uncertainty (0, 1): 0.010000000707805157, 0.046875\n",
      "target uncertainty (1, 0): 0.017812499776482582, 0.0625\n"
     ]
    },
    {
     "name": "stderr",
     "output_type": "stream",
     "text": [
      "Source train:  84%|████████▍ | 27/32 [00:05<00:01,  4.86it/s]"
     ]
    },
    {
     "name": "stdout",
     "output_type": "stream",
     "text": [
      "target uncertainty (0, 1): 0.0, 0.0\n",
      "target uncertainty (1, 0): 0.008437499403953552, 0.03125\n"
     ]
    },
    {
     "name": "stderr",
     "output_type": "stream",
     "text": [
      "Source train:  88%|████████▊ | 28/32 [00:05<00:00,  4.89it/s]"
     ]
    },
    {
     "name": "stdout",
     "output_type": "stream",
     "text": [
      "target uncertainty (0, 1): 0.012812499888241291, 0.046875\n",
      "target uncertainty (1, 0): 0.0, 0.0\n"
     ]
    },
    {
     "name": "stderr",
     "output_type": "stream",
     "text": [
      "Source train:  91%|█████████ | 29/32 [00:05<00:00,  4.88it/s]"
     ]
    },
    {
     "name": "stdout",
     "output_type": "stream",
     "text": [
      "target uncertainty (0, 1): 0.0078125, 0.03125\n",
      "target uncertainty (1, 0): 0.01875000074505806, 0.078125\n"
     ]
    },
    {
     "name": "stderr",
     "output_type": "stream",
     "text": [
      "Source train:  94%|█████████▍| 30/32 [00:06<00:00,  4.85it/s]"
     ]
    },
    {
     "name": "stdout",
     "output_type": "stream",
     "text": [
      "target uncertainty (0, 1): 0.0240625012665987, 0.125\n",
      "target uncertainty (1, 0): 0.011874999850988388, 0.046875\n"
     ]
    },
    {
     "name": "stderr",
     "output_type": "stream",
     "text": [
      "Source train:  97%|█████████▋| 31/32 [00:06<00:00,  4.90it/s]"
     ]
    },
    {
     "name": "stdout",
     "output_type": "stream",
     "text": [
      "target uncertainty (0, 1): 0.0, 0.0\n",
      "target uncertainty (1, 0): 0.0028124996460974216, 0.0\n"
     ]
    },
    {
     "name": "stderr",
     "output_type": "stream",
     "text": [
      "Source train: 100%|██████████| 32/32 [00:06<00:00,  4.86it/s]\n"
     ]
    },
    {
     "name": "stdout",
     "output_type": "stream",
     "text": [
      "target uncertainty (0, 1): 0.0028124996460974216, 0.0\n",
      "target uncertainty (1, 0): 0.007187499664723873, 0.03125\n"
     ]
    },
    {
     "name": "stderr",
     "output_type": "stream",
     "text": [
      "Source Val: 100%|██████████| 8/8 [00:00<00:00, 13.10it/s]\n",
      "Target Val: 100%|██████████| 4/4 [00:00<00:00,  6.75it/s]\n",
      "Target Test: 100%|██████████| 31/31 [00:01<00:00, 24.59it/s]"
     ]
    },
    {
     "name": "stdout",
     "output_type": "stream",
     "text": [
      "Epoch 3 Eval Results:\n",
      "Source validation loss: 0.7647\n",
      "Target validation loss 0.8358\n",
      "Validation loss: 1.6004\n",
      "\n",
      "=== Test Accuracies ===\n",
      "\n",
      "Overall Accuracies:\n",
      "Head 0:  Main: 0.6143  |  Alt: 0.7776\n",
      "Head 1:  Main: 0.5010  |  Alt: 0.7806\n",
      "\n",
      "Worst Group Accuracies:\n",
      "Head 0:  Worst: 0.1959\n",
      "Head 1:  Worst: 0.0367\n",
      "\n",
      "Group-wise Accuracies:\n",
      "\n",
      "Group (0, 0), count: 245:\n",
      "Head 0:  Main: 0.9755  |  Alt: 0.9755\n",
      "Head 1:  Main: 1.0000  |  Alt: 1.0000\n",
      "\n",
      "Group (0, 1), count: 245:\n",
      "Head 0:  Main: 0.4776  |  Alt: 0.5224\n",
      "Head 1:  Main: 0.4041  |  Alt: 0.5959\n",
      "\n",
      "Group (1, 0), count: 245:\n",
      "Head 0:  Main: 0.1959  |  Alt: 0.8041\n",
      "Head 1:  Main: 0.0367  |  Alt: 0.9633\n",
      "\n",
      "Group (1, 1), count: 245:\n",
      "Head 0:  Main: 0.8082  |  Alt: 0.8082\n",
      "Head 1:  Main: 0.5633  |  Alt: 0.5633\n"
     ]
    },
    {
     "name": "stderr",
     "output_type": "stream",
     "text": [
      "\n",
      "Source train:   3%|▎         | 1/32 [00:00<00:03,  8.20it/s]"
     ]
    },
    {
     "name": "stdout",
     "output_type": "stream",
     "text": [
      "target uncertainty (0, 1): 0.007500000298023224, 0.015625\n",
      "target uncertainty (1, 0): 0.0, 0.0\n"
     ]
    },
    {
     "name": "stderr",
     "output_type": "stream",
     "text": [
      "Source train:   6%|▋         | 2/32 [00:00<00:05,  5.89it/s]"
     ]
    },
    {
     "name": "stdout",
     "output_type": "stream",
     "text": [
      "target uncertainty (0, 1): 0.01406249962747097, 0.0625\n",
      "target uncertainty (1, 0): 0.010624999180436134, 0.03125\n"
     ]
    },
    {
     "name": "stderr",
     "output_type": "stream",
     "text": [
      "Source train:   9%|▉         | 3/32 [00:00<00:05,  5.36it/s]"
     ]
    },
    {
     "name": "stdout",
     "output_type": "stream",
     "text": [
      "target uncertainty (0, 1): 0.011874998919665813, 0.03125\n",
      "target uncertainty (1, 0): 0.005624999292194843, 0.0\n"
     ]
    },
    {
     "name": "stderr",
     "output_type": "stream",
     "text": [
      "Source train:  12%|█▎        | 4/32 [00:00<00:05,  5.16it/s]"
     ]
    },
    {
     "name": "stdout",
     "output_type": "stream",
     "text": [
      "target uncertainty (0, 1): 0.007812499534338713, 0.03125\n",
      "target uncertainty (1, 0): 0.0, 0.0\n"
     ]
    },
    {
     "name": "stderr",
     "output_type": "stream",
     "text": [
      "Source train:  16%|█▌        | 5/32 [00:00<00:05,  5.05it/s]"
     ]
    },
    {
     "name": "stdout",
     "output_type": "stream",
     "text": [
      "target uncertainty (0, 1): 0.008437500335276127, 0.03125\n",
      "target uncertainty (1, 0): 0.014999999664723873, 0.046875\n"
     ]
    },
    {
     "name": "stderr",
     "output_type": "stream",
     "text": [
      "Source train:  19%|█▉        | 6/32 [00:01<00:05,  4.98it/s]"
     ]
    },
    {
     "name": "stdout",
     "output_type": "stream",
     "text": [
      "target uncertainty (0, 1): 0.013125000521540642, 0.046875\n",
      "target uncertainty (1, 0): 0.0028124996460974216, 0.0\n"
     ]
    },
    {
     "name": "stderr",
     "output_type": "stream",
     "text": [
      "Source train:  22%|██▏       | 7/32 [00:01<00:05,  4.93it/s]"
     ]
    },
    {
     "name": "stdout",
     "output_type": "stream",
     "text": [
      "target uncertainty (0, 1): 0.006562500260770321, 0.03125\n",
      "target uncertainty (1, 0): 0.0, 0.0\n"
     ]
    },
    {
     "name": "stderr",
     "output_type": "stream",
     "text": [
      "Source train:  25%|██▌       | 8/32 [00:01<00:04,  4.90it/s]"
     ]
    },
    {
     "name": "stdout",
     "output_type": "stream",
     "text": [
      "target uncertainty (0, 1): 0.007500000298023224, 0.03125\n",
      "target uncertainty (1, 0): 0.0, 0.0\n"
     ]
    },
    {
     "name": "stderr",
     "output_type": "stream",
     "text": [
      "Source train:  28%|██▊       | 9/32 [00:01<00:04,  4.89it/s]"
     ]
    },
    {
     "name": "stdout",
     "output_type": "stream",
     "text": [
      "target uncertainty (0, 1): 0.0, 0.0\n",
      "target uncertainty (1, 0): 0.013749998062849045, 0.046875\n"
     ]
    },
    {
     "name": "stderr",
     "output_type": "stream",
     "text": [
      "Source train:  31%|███▏      | 10/32 [00:01<00:04,  4.88it/s]"
     ]
    },
    {
     "name": "stdout",
     "output_type": "stream",
     "text": [
      "target uncertainty (0, 1): 0.016562500968575478, 0.078125\n",
      "target uncertainty (1, 0): 0.007500000298023224, 0.03125\n"
     ]
    },
    {
     "name": "stderr",
     "output_type": "stream",
     "text": [
      "Source train:  34%|███▍      | 11/32 [00:02<00:04,  4.89it/s]"
     ]
    },
    {
     "name": "stdout",
     "output_type": "stream",
     "text": [
      "target uncertainty (0, 1): 0.0028124996460974216, 0.0\n",
      "target uncertainty (1, 0): 0.0, 0.0\n"
     ]
    },
    {
     "name": "stderr",
     "output_type": "stream",
     "text": [
      "Source train:  38%|███▊      | 12/32 [00:02<00:04,  4.87it/s]"
     ]
    },
    {
     "name": "stdout",
     "output_type": "stream",
     "text": [
      "target uncertainty (0, 1): 0.014999999664723873, 0.046875\n",
      "target uncertainty (1, 0): 0.0, 0.0\n"
     ]
    },
    {
     "name": "stderr",
     "output_type": "stream",
     "text": [
      "Source train:  41%|████      | 13/32 [00:02<00:03,  4.88it/s]"
     ]
    },
    {
     "name": "stdout",
     "output_type": "stream",
     "text": [
      "target uncertainty (0, 1): 0.009687500074505806, 0.046875\n",
      "target uncertainty (1, 0): 0.0, 0.0\n"
     ]
    },
    {
     "name": "stderr",
     "output_type": "stream",
     "text": [
      "Source train:  44%|████▍     | 14/32 [00:02<00:03,  4.88it/s]"
     ]
    },
    {
     "name": "stdout",
     "output_type": "stream",
     "text": [
      "target uncertainty (0, 1): 0.009999999776482582, 0.03125\n",
      "target uncertainty (1, 0): 0.0, 0.0\n"
     ]
    },
    {
     "name": "stderr",
     "output_type": "stream",
     "text": [
      "Source train:  47%|████▋     | 15/32 [00:02<00:03,  4.88it/s]"
     ]
    },
    {
     "name": "stdout",
     "output_type": "stream",
     "text": [
      "target uncertainty (0, 1): 0.009999999776482582, 0.03125\n",
      "target uncertainty (1, 0): 0.009062498807907104, 0.03125\n"
     ]
    },
    {
     "name": "stderr",
     "output_type": "stream",
     "text": [
      "Source train:  50%|█████     | 16/32 [00:03<00:03,  4.86it/s]"
     ]
    },
    {
     "name": "stdout",
     "output_type": "stream",
     "text": [
      "target uncertainty (0, 1): 0.018437501043081284, 0.078125\n",
      "target uncertainty (1, 0): 0.011874999850988388, 0.046875\n"
     ]
    },
    {
     "name": "stderr",
     "output_type": "stream",
     "text": [
      "Source train:  53%|█████▎    | 17/32 [00:03<00:03,  4.88it/s]"
     ]
    },
    {
     "name": "stdout",
     "output_type": "stream",
     "text": [
      "target uncertainty (0, 1): 0.007187499664723873, 0.03125\n",
      "target uncertainty (1, 0): 0.0, 0.0\n"
     ]
    },
    {
     "name": "stderr",
     "output_type": "stream",
     "text": [
      "Source train:  56%|█████▋    | 18/32 [00:03<00:02,  4.86it/s]"
     ]
    },
    {
     "name": "stdout",
     "output_type": "stream",
     "text": [
      "target uncertainty (0, 1): 0.0, 0.0\n",
      "target uncertainty (1, 0): 0.007187499664723873, 0.03125\n"
     ]
    },
    {
     "name": "stderr",
     "output_type": "stream",
     "text": [
      "Source train:  59%|█████▉    | 19/32 [00:03<00:02,  4.86it/s]"
     ]
    },
    {
     "name": "stdout",
     "output_type": "stream",
     "text": [
      "target uncertainty (0, 1): 0.0028124996460974216, 0.0\n",
      "target uncertainty (1, 0): 0.010312499478459358, 0.046875\n"
     ]
    },
    {
     "name": "stderr",
     "output_type": "stream",
     "text": [
      "Source train:  62%|██████▎   | 20/32 [00:04<00:02,  4.85it/s]"
     ]
    },
    {
     "name": "stdout",
     "output_type": "stream",
     "text": [
      "target uncertainty (0, 1): 0.010312499478459358, 0.046875\n",
      "target uncertainty (1, 0): 0.008437499403953552, 0.03125\n"
     ]
    },
    {
     "name": "stderr",
     "output_type": "stream",
     "text": [
      "Source train:  66%|██████▌   | 21/32 [00:04<00:02,  4.84it/s]"
     ]
    },
    {
     "name": "stdout",
     "output_type": "stream",
     "text": [
      "target uncertainty (0, 1): 0.005312499590218067, 0.015625\n",
      "target uncertainty (1, 0): 0.006562500260770321, 0.03125\n"
     ]
    },
    {
     "name": "stderr",
     "output_type": "stream",
     "text": [
      "Source train:  69%|██████▉   | 22/32 [00:04<00:02,  4.85it/s]"
     ]
    },
    {
     "name": "stdout",
     "output_type": "stream",
     "text": [
      "target uncertainty (0, 1): 0.0, 0.0\n",
      "target uncertainty (1, 0): 0.0, 0.0\n"
     ]
    },
    {
     "name": "stderr",
     "output_type": "stream",
     "text": [
      "Source train:  72%|███████▏  | 23/32 [00:04<00:01,  4.83it/s]"
     ]
    },
    {
     "name": "stdout",
     "output_type": "stream",
     "text": [
      "target uncertainty (0, 1): 0.0053125000558793545, 0.015625\n",
      "target uncertainty (1, 0): 0.004999999888241291, 0.03125\n"
     ]
    },
    {
     "name": "stderr",
     "output_type": "stream",
     "text": [
      "Source train:  75%|███████▌  | 24/32 [00:04<00:01,  4.81it/s]"
     ]
    },
    {
     "name": "stdout",
     "output_type": "stream",
     "text": [
      "target uncertainty (0, 1): 0.013125000521540642, 0.046875\n",
      "target uncertainty (1, 0): 0.0, 0.0\n"
     ]
    },
    {
     "name": "stderr",
     "output_type": "stream",
     "text": [
      "Source train:  78%|███████▊  | 25/32 [00:05<00:01,  4.87it/s]"
     ]
    },
    {
     "name": "stdout",
     "output_type": "stream",
     "text": [
      "target uncertainty (0, 1): 0.010312499478459358, 0.046875\n",
      "target uncertainty (1, 0): 0.006562500260770321, 0.03125\n"
     ]
    },
    {
     "name": "stderr",
     "output_type": "stream",
     "text": [
      "Source train:  81%|████████▏ | 26/32 [00:05<00:01,  4.85it/s]"
     ]
    },
    {
     "name": "stdout",
     "output_type": "stream",
     "text": [
      "target uncertainty (0, 1): 0.014062500558793545, 0.078125\n",
      "target uncertainty (1, 0): 0.0, 0.0\n"
     ]
    },
    {
     "name": "stderr",
     "output_type": "stream",
     "text": [
      "Source train:  84%|████████▍ | 27/32 [00:05<00:01,  4.86it/s]"
     ]
    },
    {
     "name": "stdout",
     "output_type": "stream",
     "text": [
      "target uncertainty (0, 1): 0.013749998062849045, 0.046875\n",
      "target uncertainty (1, 0): 0.01093750074505806, 0.046875\n"
     ]
    },
    {
     "name": "stderr",
     "output_type": "stream",
     "text": [
      "Source train:  88%|████████▊ | 28/32 [00:05<00:00,  4.85it/s]"
     ]
    },
    {
     "name": "stdout",
     "output_type": "stream",
     "text": [
      "target uncertainty (0, 1): 0.0028124996460974216, 0.0\n",
      "target uncertainty (1, 0): 0.009374999441206455, 0.03125\n"
     ]
    },
    {
     "name": "stderr",
     "output_type": "stream",
     "text": [
      "Source train:  91%|█████████ | 29/32 [00:05<00:00,  4.86it/s]"
     ]
    },
    {
     "name": "stdout",
     "output_type": "stream",
     "text": [
      "target uncertainty (0, 1): 0.013437500223517418, 0.0625\n",
      "target uncertainty (1, 0): 0.017499998211860657, 0.078125\n"
     ]
    },
    {
     "name": "stderr",
     "output_type": "stream",
     "text": [
      "Source train:  94%|█████████▍| 30/32 [00:06<00:00,  4.84it/s]"
     ]
    },
    {
     "name": "stdout",
     "output_type": "stream",
     "text": [
      "target uncertainty (0, 1): 0.009687500074505806, 0.046875\n",
      "target uncertainty (1, 0): 0.007500000298023224, 0.03125\n"
     ]
    },
    {
     "name": "stderr",
     "output_type": "stream",
     "text": [
      "Source train:  97%|█████████▋| 31/32 [00:06<00:00,  4.83it/s]"
     ]
    },
    {
     "name": "stdout",
     "output_type": "stream",
     "text": [
      "target uncertainty (0, 1): 0.007500000298023224, 0.03125\n",
      "target uncertainty (1, 0): 0.0, 0.0\n"
     ]
    },
    {
     "name": "stderr",
     "output_type": "stream",
     "text": [
      "Source train: 100%|██████████| 32/32 [00:06<00:00,  4.84it/s]\n"
     ]
    },
    {
     "name": "stdout",
     "output_type": "stream",
     "text": [
      "target uncertainty (0, 1): 0.007812499534338713, 0.03125\n",
      "target uncertainty (1, 0): 0.0078125, 0.03125\n"
     ]
    },
    {
     "name": "stderr",
     "output_type": "stream",
     "text": [
      "Source Val: 100%|██████████| 8/8 [00:00<00:00, 12.91it/s]\n",
      "Target Val: 100%|██████████| 4/4 [00:00<00:00,  6.50it/s]\n",
      "Target Test: 100%|██████████| 31/31 [00:01<00:00, 23.52it/s]"
     ]
    },
    {
     "name": "stdout",
     "output_type": "stream",
     "text": [
      "Epoch 4 Eval Results:\n",
      "Source validation loss: 0.8578\n",
      "Target validation loss 0.7322\n",
      "Validation loss: 1.5900\n",
      "\n",
      "=== Test Accuracies ===\n",
      "\n",
      "Overall Accuracies:\n",
      "Head 0:  Main: 0.7133  |  Alt: 0.6173\n",
      "Head 1:  Main: 0.4816  |  Alt: 0.8510\n",
      "\n",
      "Worst Group Accuracies:\n",
      "Head 0:  Worst: 0.4776\n",
      "Head 1:  Worst: 0.0082\n",
      "\n",
      "Group-wise Accuracies:\n",
      "\n",
      "Group (0, 0), count: 245:\n",
      "Head 0:  Main: 0.9633  |  Alt: 0.9633\n",
      "Head 1:  Main: 1.0000  |  Alt: 1.0000\n",
      "\n",
      "Group (0, 1), count: 245:\n",
      "Head 0:  Main: 0.7143  |  Alt: 0.2857\n",
      "Head 1:  Main: 0.2531  |  Alt: 0.7469\n",
      "\n",
      "Group (1, 0), count: 245:\n",
      "Head 0:  Main: 0.4776  |  Alt: 0.5224\n",
      "Head 1:  Main: 0.0082  |  Alt: 0.9918\n",
      "\n",
      "Group (1, 1), count: 245:\n",
      "Head 0:  Main: 0.6980  |  Alt: 0.6980\n",
      "Head 1:  Main: 0.6653  |  Alt: 0.6653\n"
     ]
    },
    {
     "name": "stderr",
     "output_type": "stream",
     "text": [
      "\n",
      "Source train:   3%|▎         | 1/32 [00:00<00:03,  8.43it/s]"
     ]
    },
    {
     "name": "stdout",
     "output_type": "stream",
     "text": [
      "target uncertainty (0, 1): 0.006562500260770321, 0.03125\n",
      "target uncertainty (1, 0): 0.0078125, 0.03125\n"
     ]
    },
    {
     "name": "stderr",
     "output_type": "stream",
     "text": [
      "Source train:   6%|▋         | 2/32 [00:00<00:05,  5.89it/s]"
     ]
    },
    {
     "name": "stdout",
     "output_type": "stream",
     "text": [
      "target uncertainty (0, 1): 0.0, 0.0\n",
      "target uncertainty (1, 0): 0.0, 0.0\n"
     ]
    },
    {
     "name": "stderr",
     "output_type": "stream",
     "text": [
      "Source train:   9%|▉         | 3/32 [00:00<00:05,  5.37it/s]"
     ]
    },
    {
     "name": "stdout",
     "output_type": "stream",
     "text": [
      "target uncertainty (0, 1): 0.011874999850988388, 0.046875\n",
      "target uncertainty (1, 0): 0.0, 0.0\n"
     ]
    },
    {
     "name": "stderr",
     "output_type": "stream",
     "text": [
      "Source train:  12%|█▎        | 4/32 [00:00<00:05,  5.14it/s]"
     ]
    },
    {
     "name": "stdout",
     "output_type": "stream",
     "text": [
      "target uncertainty (0, 1): 0.0, 0.0\n",
      "target uncertainty (1, 0): 0.0, 0.0\n"
     ]
    },
    {
     "name": "stderr",
     "output_type": "stream",
     "text": [
      "Source train:  16%|█▌        | 5/32 [00:00<00:05,  5.11it/s]"
     ]
    },
    {
     "name": "stdout",
     "output_type": "stream",
     "text": [
      "target uncertainty (0, 1): 0.009062499739229679, 0.03125\n",
      "target uncertainty (1, 0): 0.009999999776482582, 0.03125\n"
     ]
    },
    {
     "name": "stderr",
     "output_type": "stream",
     "text": [
      "Source train:  19%|█▉        | 6/32 [00:01<00:05,  4.98it/s]"
     ]
    },
    {
     "name": "stdout",
     "output_type": "stream",
     "text": [
      "target uncertainty (0, 1): 0.006562500260770321, 0.03125\n",
      "target uncertainty (1, 0): 0.005312499590218067, 0.015625\n"
     ]
    },
    {
     "name": "stderr",
     "output_type": "stream",
     "text": [
      "Source train:  22%|██▏       | 7/32 [00:01<00:05,  4.97it/s]"
     ]
    },
    {
     "name": "stdout",
     "output_type": "stream",
     "text": [
      "target uncertainty (0, 1): 0.010000000707805157, 0.046875\n",
      "target uncertainty (1, 0): 0.0028124996460974216, 0.0\n"
     ]
    },
    {
     "name": "stderr",
     "output_type": "stream",
     "text": [
      "Source train:  25%|██▌       | 8/32 [00:01<00:04,  4.94it/s]"
     ]
    },
    {
     "name": "stdout",
     "output_type": "stream",
     "text": [
      "target uncertainty (0, 1): 0.0053125000558793545, 0.015625\n",
      "target uncertainty (1, 0): 0.009062498807907104, 0.03125\n"
     ]
    },
    {
     "name": "stderr",
     "output_type": "stream",
     "text": [
      "Source train:  28%|██▊       | 9/32 [00:01<00:04,  4.92it/s]"
     ]
    },
    {
     "name": "stdout",
     "output_type": "stream",
     "text": [
      "target uncertainty (0, 1): 0.004999999888241291, 0.03125\n",
      "target uncertainty (1, 0): 0.008437500335276127, 0.03125\n"
     ]
    },
    {
     "name": "stderr",
     "output_type": "stream",
     "text": [
      "Source train:  31%|███▏      | 10/32 [00:01<00:04,  4.90it/s]"
     ]
    },
    {
     "name": "stdout",
     "output_type": "stream",
     "text": [
      "target uncertainty (0, 1): 0.014374999329447746, 0.0625\n",
      "target uncertainty (1, 0): 0.008437499403953552, 0.03125\n"
     ]
    },
    {
     "name": "stderr",
     "output_type": "stream",
     "text": [
      "Source train:  34%|███▍      | 11/32 [00:02<00:04,  4.88it/s]"
     ]
    },
    {
     "name": "stdout",
     "output_type": "stream",
     "text": [
      "target uncertainty (0, 1): 0.0, 0.0\n",
      "target uncertainty (1, 0): 0.004999999888241291, 0.03125\n"
     ]
    },
    {
     "name": "stderr",
     "output_type": "stream",
     "text": [
      "Source train:  38%|███▊      | 12/32 [00:02<00:04,  4.88it/s]"
     ]
    },
    {
     "name": "stdout",
     "output_type": "stream",
     "text": [
      "target uncertainty (0, 1): 0.005312499590218067, 0.015625\n",
      "target uncertainty (1, 0): 0.010312499478459358, 0.046875\n"
     ]
    },
    {
     "name": "stderr",
     "output_type": "stream",
     "text": [
      "Source train:  41%|████      | 13/32 [00:02<00:03,  4.89it/s]"
     ]
    },
    {
     "name": "stdout",
     "output_type": "stream",
     "text": [
      "target uncertainty (0, 1): 0.006562500260770321, 0.03125\n",
      "target uncertainty (1, 0): 0.004999999888241291, 0.03125\n"
     ]
    },
    {
     "name": "stderr",
     "output_type": "stream",
     "text": [
      "Source train:  44%|████▍     | 14/32 [00:02<00:03,  4.85it/s]"
     ]
    },
    {
     "name": "stdout",
     "output_type": "stream",
     "text": [
      "target uncertainty (0, 1): 0.006562500260770321, 0.03125\n",
      "target uncertainty (1, 0): 0.008437499403953552, 0.03125\n"
     ]
    },
    {
     "name": "stderr",
     "output_type": "stream",
     "text": [
      "Source train:  47%|████▋     | 15/32 [00:02<00:03,  4.86it/s]"
     ]
    },
    {
     "name": "stdout",
     "output_type": "stream",
     "text": [
      "target uncertainty (0, 1): 0.010000000707805157, 0.0625\n",
      "target uncertainty (1, 0): 0.005624999292194843, 0.0\n"
     ]
    },
    {
     "name": "stderr",
     "output_type": "stream",
     "text": [
      "Source train:  50%|█████     | 16/32 [00:03<00:03,  4.85it/s]"
     ]
    },
    {
     "name": "stdout",
     "output_type": "stream",
     "text": [
      "target uncertainty (0, 1): 0.0028124996460974216, 0.0\n",
      "target uncertainty (1, 0): 0.0071875001303851604, 0.03125\n"
     ]
    },
    {
     "name": "stderr",
     "output_type": "stream",
     "text": [
      "Source train:  53%|█████▎    | 17/32 [00:03<00:03,  4.89it/s]"
     ]
    },
    {
     "name": "stdout",
     "output_type": "stream",
     "text": [
      "target uncertainty (0, 1): 0.0, 0.0\n",
      "target uncertainty (1, 0): 0.006562500260770321, 0.03125\n"
     ]
    },
    {
     "name": "stderr",
     "output_type": "stream",
     "text": [
      "Source train:  56%|█████▋    | 18/32 [00:03<00:02,  4.88it/s]"
     ]
    },
    {
     "name": "stdout",
     "output_type": "stream",
     "text": [
      "target uncertainty (0, 1): 0.0028124996460974216, 0.0\n",
      "target uncertainty (1, 0): 0.023749999701976776, 0.09375\n"
     ]
    },
    {
     "name": "stderr",
     "output_type": "stream",
     "text": [
      "Source train:  59%|█████▉    | 19/32 [00:03<00:02,  4.86it/s]"
     ]
    },
    {
     "name": "stdout",
     "output_type": "stream",
     "text": [
      "target uncertainty (0, 1): 0.012187499552965164, 0.046875\n",
      "target uncertainty (1, 0): 0.010312499478459358, 0.03125\n"
     ]
    },
    {
     "name": "stderr",
     "output_type": "stream",
     "text": [
      "Source train:  62%|██████▎   | 20/32 [00:04<00:02,  4.88it/s]"
     ]
    },
    {
     "name": "stdout",
     "output_type": "stream",
     "text": [
      "target uncertainty (0, 1): 0.009062498807907104, 0.03125\n",
      "target uncertainty (1, 0): 0.011874999850988388, 0.03125\n"
     ]
    },
    {
     "name": "stderr",
     "output_type": "stream",
     "text": [
      "Source train:  66%|██████▌   | 21/32 [00:04<00:02,  4.89it/s]"
     ]
    },
    {
     "name": "stdout",
     "output_type": "stream",
     "text": [
      "target uncertainty (0, 1): 0.007187499664723873, 0.03125\n",
      "target uncertainty (1, 0): 0.008437499403953552, 0.03125\n"
     ]
    },
    {
     "name": "stderr",
     "output_type": "stream",
     "text": [
      "Source train:  69%|██████▉   | 22/32 [00:04<00:02,  4.87it/s]"
     ]
    },
    {
     "name": "stdout",
     "output_type": "stream",
     "text": [
      "target uncertainty (0, 1): 0.009687500074505806, 0.046875\n",
      "target uncertainty (1, 0): 0.0028124996460974216, 0.0\n"
     ]
    },
    {
     "name": "stderr",
     "output_type": "stream",
     "text": [
      "Source train:  72%|███████▏  | 23/32 [00:04<00:01,  4.89it/s]"
     ]
    },
    {
     "name": "stdout",
     "output_type": "stream",
     "text": [
      "target uncertainty (0, 1): 0.01093750074505806, 0.046875\n",
      "target uncertainty (1, 0): 0.00937499850988388, 0.015625\n"
     ]
    },
    {
     "name": "stderr",
     "output_type": "stream",
     "text": [
      "Source train:  75%|███████▌  | 24/32 [00:04<00:01,  4.85it/s]"
     ]
    },
    {
     "name": "stdout",
     "output_type": "stream",
     "text": [
      "target uncertainty (0, 1): 0.005312499590218067, 0.015625\n",
      "target uncertainty (1, 0): 0.006562500260770321, 0.03125\n"
     ]
    },
    {
     "name": "stderr",
     "output_type": "stream",
     "text": [
      "Source train:  78%|███████▊  | 25/32 [00:05<00:01,  4.88it/s]"
     ]
    },
    {
     "name": "stdout",
     "output_type": "stream",
     "text": [
      "target uncertainty (0, 1): 0.009999999776482582, 0.03125\n",
      "target uncertainty (1, 0): 0.005312499590218067, 0.015625\n"
     ]
    },
    {
     "name": "stderr",
     "output_type": "stream",
     "text": [
      "Source train:  81%|████████▏ | 26/32 [00:05<00:01,  4.88it/s]"
     ]
    },
    {
     "name": "stdout",
     "output_type": "stream",
     "text": [
      "target uncertainty (0, 1): 0.0, 0.0\n",
      "target uncertainty (1, 0): 0.0, 0.0\n"
     ]
    },
    {
     "name": "stderr",
     "output_type": "stream",
     "text": [
      "Source train:  84%|████████▍ | 27/32 [00:05<00:01,  4.88it/s]"
     ]
    },
    {
     "name": "stdout",
     "output_type": "stream",
     "text": [
      "target uncertainty (0, 1): 0.0, 0.0\n",
      "target uncertainty (1, 0): 0.009687500074505806, 0.046875\n"
     ]
    },
    {
     "name": "stderr",
     "output_type": "stream",
     "text": [
      "Source train:  88%|████████▊ | 28/32 [00:05<00:00,  4.88it/s]"
     ]
    },
    {
     "name": "stdout",
     "output_type": "stream",
     "text": [
      "target uncertainty (0, 1): 0.0, 0.0\n",
      "target uncertainty (1, 0): 0.0, 0.0\n"
     ]
    },
    {
     "name": "stderr",
     "output_type": "stream",
     "text": [
      "Source train:  91%|█████████ | 29/32 [00:05<00:00,  4.88it/s]"
     ]
    },
    {
     "name": "stdout",
     "output_type": "stream",
     "text": [
      "target uncertainty (0, 1): 0.007187499664723873, 0.03125\n",
      "target uncertainty (1, 0): 0.0028124996460974216, 0.0\n"
     ]
    },
    {
     "name": "stderr",
     "output_type": "stream",
     "text": [
      "Source train:  94%|█████████▍| 30/32 [00:06<00:00,  4.86it/s]"
     ]
    },
    {
     "name": "stdout",
     "output_type": "stream",
     "text": [
      "target uncertainty (0, 1): 0.008437499403953552, 0.03125\n",
      "target uncertainty (1, 0): 0.0028124996460974216, 0.0\n"
     ]
    },
    {
     "name": "stderr",
     "output_type": "stream",
     "text": [
      "Source train:  97%|█████████▋| 31/32 [00:06<00:00,  4.88it/s]"
     ]
    },
    {
     "name": "stdout",
     "output_type": "stream",
     "text": [
      "target uncertainty (0, 1): 0.009062498807907104, 0.03125\n",
      "target uncertainty (1, 0): 0.004999999888241291, 0.03125\n"
     ]
    },
    {
     "name": "stderr",
     "output_type": "stream",
     "text": [
      "Source train: 100%|██████████| 32/32 [00:06<00:00,  4.85it/s]\n"
     ]
    },
    {
     "name": "stdout",
     "output_type": "stream",
     "text": [
      "target uncertainty (0, 1): 0.006562500260770321, 0.03125\n",
      "target uncertainty (1, 0): 0.0, 0.0\n"
     ]
    },
    {
     "name": "stderr",
     "output_type": "stream",
     "text": [
      "Source Val: 100%|██████████| 8/8 [00:00<00:00, 12.80it/s]\n",
      "Target Val: 100%|██████████| 4/4 [00:00<00:00,  6.11it/s]\n",
      "Target Test: 100%|██████████| 31/31 [00:01<00:00, 23.77it/s]"
     ]
    },
    {
     "name": "stdout",
     "output_type": "stream",
     "text": [
      "Epoch 5 Eval Results:\n",
      "Source validation loss: 0.8127\n",
      "Target validation loss 0.5634\n",
      "Validation loss: 1.3761\n",
      "\n",
      "=== Test Accuracies ===\n",
      "\n",
      "Overall Accuracies:\n",
      "Head 0:  Main: 0.8031  |  Alt: 0.5153\n",
      "Head 1:  Main: 0.4816  |  Alt: 0.8633\n",
      "\n",
      "Worst Group Accuracies:\n",
      "Head 0:  Worst: 0.6735\n",
      "Head 1:  Worst: 0.0041\n",
      "\n",
      "Group-wise Accuracies:\n",
      "\n",
      "Group (0, 0), count: 245:\n",
      "Head 0:  Main: 0.9633  |  Alt: 0.9633\n",
      "Head 1:  Main: 0.9959  |  Alt: 0.9959\n",
      "\n",
      "Group (0, 1), count: 245:\n",
      "Head 0:  Main: 0.7714  |  Alt: 0.2286\n",
      "Head 1:  Main: 0.2327  |  Alt: 0.7673\n",
      "\n",
      "Group (1, 0), count: 245:\n",
      "Head 0:  Main: 0.8041  |  Alt: 0.1959\n",
      "Head 1:  Main: 0.0041  |  Alt: 0.9959\n",
      "\n",
      "Group (1, 1), count: 245:\n",
      "Head 0:  Main: 0.6735  |  Alt: 0.6735\n",
      "Head 1:  Main: 0.6939  |  Alt: 0.6939\n"
     ]
    },
    {
     "name": "stderr",
     "output_type": "stream",
     "text": [
      "\n"
     ]
    }
   ],
   "source": [
    "# TODO: change diciotary values to source loss, target loss\n",
    "from itertools import cycle\n",
    "try:\n",
    "    if conf.freeze_heads:\n",
    "        # freeze first head (for dbat)\n",
    "        net.freeze_head(0)\n",
    "    total_steps = 0\n",
    "    for epoch in range(conf.epochs):\n",
    "        train_loader = zip(source_train_loader, cycle(target_train_loader))\n",
    "        loader_len = len(source_train_loader)\n",
    "        ### Train\n",
    "        # mix rate schedule \n",
    "        if isinstance(loss_fn, ACELoss):\n",
    "            if conf.mix_rate_schedule == \"linear\" and conf.mix_rate_interval_frac is None:\n",
    "                cur_mix_rate, cur_group_mix_rates = get_cur_mix_rate(conf, epoch)\n",
    "                _, group_mix_rates = get_mix_rate(conf, mix_rate_lb_override=cur_mix_rate, group_mix_rate_lb_override=cur_group_mix_rates)\n",
    "                loss_fn.group_mix_rates = group_mix_rates\n",
    "        \n",
    "        for batch_idx, (source_batch, target_batch) in tqdm(enumerate(train_loader), desc=\"Source train\", total=loader_len):\n",
    "            # update mix rate schedule\n",
    "            if isinstance(loss_fn, ACELoss):\n",
    "                if conf.mix_rate_schedule == \"linear\" and conf.mix_rate_interval_frac is not None:\n",
    "                    if total_steps % int(num_steps * conf.mix_rate_interval_frac) == 0:\n",
    "                        cur_mix_rate = conf.mix_rate_lower_bound * (total_steps / num_steps) if conf.mix_rate_lower_bound is not None else None\n",
    "                        cur_group_mix_rates = {group: conf.group_mix_rate_lower_bounds[group] * (total_steps / num_steps) for group in conf.group_mix_rate_lower_bounds.keys()} if conf.group_mix_rate_lower_bounds is not None else None\n",
    "                        _, group_mix_rates = get_mix_rate(conf, mix_rate_lb_override=cur_mix_rate, group_mix_rate_lb_override=cur_group_mix_rates)\n",
    "                        print(\"updating mix rate\", \"steps\", total_steps, \"mix rate\", cur_mix_rate)\n",
    "                        loss_fn.group_mix_rates = group_mix_rates\n",
    "            # freeze heads for dbat\n",
    "            if conf.freeze_heads and epoch == conf.head_1_epochs: \n",
    "                net.unfreeze_head(0)\n",
    "                net.freeze_head(1)\n",
    "            # source\n",
    "            x, y, gl = to_device(*source_batch, conf.device)\n",
    "            logits = net(x)\n",
    "            losses = compute_src_losses(logits, y, gl)\n",
    "            xent = torch.mean(torch.stack(losses))\n",
    "            logger.add_scalar(\"train\", \"source_loss\", xent.item(), epoch * loader_len + batch_idx)\n",
    "            \n",
    "            # target\n",
    "            target_x, target_y, target_gl = to_device(*target_batch, conf.device)\n",
    "            if conf.loss_type == LossType.TOPK and conf.mc_dropout:\n",
    "                target_logits, target_logit_samples = net(target_x, n_samples=conf.mc_dropout_n)\n",
    "                target_loss, group_uncertainties = loss_fn(target_logits, mc_samples=target_logit_samples)\n",
    "                # log average uncertainty per group, and fraction of instances in each group with uncertainty above threshold\n",
    "                for group, uncertainty in group_uncertainties.items():\n",
    "                    mean_uncertainty = uncertainty.mean().item()\n",
    "                    frac_uncertainty = (uncertainty > conf.uncertain_threshold).float().mean().item()\n",
    "                    print(f\"target uncertainty {group}: {mean_uncertainty}, {frac_uncertainty}\")\n",
    "                    logger.add_scalar(\"train\", f\"target_uncertainty_{group}\", mean_uncertainty, epoch * loader_len + batch_idx)\n",
    "                    logger.add_scalar(\"train\", f\"target_uncertainty_{group}_frac\", frac_uncertainty, epoch * loader_len + batch_idx)\n",
    "            else:\n",
    "                target_logits = net(target_x)\n",
    "            \n",
    "                      \n",
    "            \n",
    "            logger.add_scalar(\"train\", \"target_loss\", target_loss.item(), epoch * loader_len + batch_idx)\n",
    "            logger.add_scalar(\"train\", \"weighted_target_loss\", conf.aux_weight * target_loss.item(), epoch * loader_len + batch_idx, to_metrics=False, to_tb=True)\n",
    "            # don't compute target loss before second head begins training\n",
    "            if conf.freeze_heads and epoch < conf.head_1_epochs: \n",
    "                target_loss = torch.tensor(0.0, device=conf.device)\n",
    "            \n",
    "            # full loss \n",
    "            full_loss = conf.source_weight * xent + conf.aux_weight * target_loss\n",
    "            logger.add_scalar(\"train\", \"loss\", full_loss.item(), epoch * loader_len + batch_idx)\n",
    "            \n",
    "            # backprop\n",
    "            opt.zero_grad()\n",
    "            full_loss.backward()\n",
    "            opt.step()\n",
    "            if scheduler is not None:\n",
    "                scheduler.step()\n",
    "            total_steps += 1\n",
    "        \n",
    "        # eval\n",
    "        if (epoch + 1) % 1 == 0:\n",
    "            net.eval()\n",
    "            ### Validation \n",
    "           \n",
    "            # source\n",
    "            total_val_loss = 0.0\n",
    "            total_val_weighted_loss = 0.0\n",
    "            if len(source_val) > 0:\n",
    "                src_loss_fn = lambda x, y, gl: sum(compute_src_losses(x, y, gl))\n",
    "                source_val_metrics = eval(net, source_val_loader, conf.device, src_loss_fn, use_labels=True, stage=\"Source Val\")\n",
    "                for k, v in source_val_metrics.items():\n",
    "                    if 'count' not in k:\n",
    "                        logger.add_scalar(\"val\", f\"source_{k}\", v, epoch)\n",
    "                total_val_loss += source_val_metrics[\"loss\"]\n",
    "                total_val_weighted_loss += total_val_loss\n",
    "            # target\n",
    "            weighted_target_val_loss = 0.0\n",
    "            if len(target_val) > 0:  \n",
    "                target_val_metrics = eval(net, target_val_loader, conf.device, valid_loss_fn, use_labels=False, stage=\"Target Val\")\n",
    "                for k, v in target_val_metrics.items():\n",
    "                    if 'count' not in k:\n",
    "                        logger.add_scalar(\"val\", f\"target_{k}\", v, epoch)\n",
    "                weighted_target_val_loss = target_val_metrics[\"loss\"] * conf.aux_weight\n",
    "                logger.add_scalar(\"val\", \"target_weighted_loss\", weighted_target_val_loss, epoch)\n",
    "                total_val_loss += target_val_metrics[\"loss\"]    \n",
    "                total_val_weighted_loss += weighted_target_val_loss\n",
    "            # total\n",
    "            logger.add_scalar(\"val\", \"loss\", total_val_loss, epoch)\n",
    "            logger.add_scalar(\"val\", \"weighted_loss\", total_val_weighted_loss, epoch)\n",
    "\n",
    "            ### Test\n",
    "            target_test_metrics = eval(net, target_test_loader, conf.device, None, use_labels=False, stage=\"Target Test\")\n",
    "            for k, v in target_test_metrics.items():\n",
    "                if 'count' not in k:\n",
    "                    logger.add_scalar(\"test\", k, v, epoch)\n",
    "            \n",
    "            # probe acc\n",
    "            if conf.plot_activations and conf.shared_backbone:\n",
    "                train_acts, train_labels = get_acts_and_labels(model, target_train_loader, conf.device)\n",
    "                test_acts, test_labels = get_acts_and_labels(net.backbone, target_test_loader, conf.device)\n",
    "                probe_acc, probe_acc_alt = compute_probe_acc(train_acts, train_labels, test_acts, test_labels, classes_per_feat)\n",
    "                logger.add_scalar(\"test\", \"probe_acc\", probe_acc, epoch)\n",
    "                logger.add_scalar(\"test\", \"probe_acc_alt\", probe_acc_alt, epoch)\n",
    "\n",
    "\n",
    "            ### Print Results\n",
    "            print(f\"Epoch {epoch + 1} Eval Results:\")\n",
    "            # print validation losses\n",
    "            if len(source_val) > 0:\n",
    "                print(f\"Source validation loss: {logger.metrics['val_source_loss'][-1]:.4f}\")\n",
    "            if len(target_val) > 0:\n",
    "                print(f\"Target validation loss {logger.metrics['val_target_loss'][-1]:.4f}\")\n",
    "            print(f\"Validation loss: {logger.metrics['val_loss'][-1]:.4f}\")\n",
    "            print(\"\\n=== Test Accuracies ===\")\n",
    "            # Overall accuracy for each head\n",
    "            print(\"\\nOverall Accuracies:\")\n",
    "            for i in range(conf.heads):\n",
    "                print(f\"Head {i}:  Main: {logger.metrics[f'test_acc_{i}'][-1]:.4f}\" + \\\n",
    "                      (f\"  |  Alt: {logger.metrics[f'test_acc_alt_{i}'][-1]:.4f}\" if not conf.use_group_labels else \"\"))\n",
    "            # Worst group accuracy for each head\n",
    "            print(\"\\nWorst Group Accuracies:\")\n",
    "            for i in range(conf.heads):\n",
    "                print(f\"Head {i}:  Worst: {logger.metrics[f'test_worst_acc_{i}'][-1]:.4f}\")\n",
    "            # Group-wise accuracies\n",
    "            print(\"\\nGroup-wise Accuracies:\")\n",
    "            for group_label in feature_label_ls(classes_per_feat):\n",
    "                print(f\"\\nGroup {group_label}, count: {target_test_metrics[f'count_{group_label}']}:\")\n",
    "                for i in range(conf.heads):\n",
    "                    print(f\"Head {i}:  Main: {logger.metrics[f'test_acc_{i}_{group_label}'][-1]:.4f}\" + \\\n",
    "                          (f\"  |  Alt: {logger.metrics[f'test_acc_alt_{i}_{group_label}'][-1]:.4f}\" if not conf.use_group_labels else \"\"))\n",
    "\n",
    "\n",
    "            # plot activations if lowest validation loss\n",
    "            if logger.metrics[\"val_loss\"][-1] == min(logger.metrics[\"val_loss\"]):\n",
    "                # plot activations \n",
    "                if conf.plot_activations and conf.shared_backbone:   \n",
    "                    # get activations \n",
    "                    activations, labels = get_acts_and_labels(net.backbone, target_test_loader, conf.device)\n",
    "                    labels = labels.to('cpu')\n",
    "                    pca_fig, pca_acts, pca_reducer = plot_activations(\n",
    "                        activations=activations, labels=labels, \n",
    "                        classes_per_feature=classes_per_feat, transform=\"pca\"\n",
    "                    )\n",
    "                    umap_fig, umap_acts, umap_reducer = plot_activations(\n",
    "                        activations=activations, labels=labels, \n",
    "                        classes_per_feature=classes_per_feat, transform=\"umap\"\n",
    "                    )\n",
    "                    pca_fig.savefig(f\"{exp_dir}/activations_{epoch}_pca.png\")\n",
    "                    pca_fig.savefig(f\"{exp_dir}/activations_{epoch}_pca.svg\")\n",
    "                    umap_fig.savefig(f\"{exp_dir}/activations_{epoch}_umap.png\")\n",
    "                    umap_fig.savefig(f\"{exp_dir}/activations_{epoch}_umap.svg\")\n",
    "                    np.save(f\"{exp_dir}/activations_{epoch}_pca.npy\", pca_acts)\n",
    "                    np.save(f\"{exp_dir}/activations_{epoch}_umap.npy\", umap_acts)\n",
    "                    plt.close(pca_fig)\n",
    "                    plt.close(umap_fig)\n",
    "            # plot average uncertainty per group\n",
    "            # group_certainties = {}\n",
    "            # for group in feature_label_ls(classes_per_feat):\n",
    "            #     group_certainties[group] = logger.metrics[f\"target_uncertainty_{group}_frac\"]\n",
    "            #     # plot average uncertainty per group\n",
    "            #     plt.figure(figsize=(10, 5))\n",
    "            #     plt.bar(range(len(group_certainties)), list(group_certainties.values()), tick_label=list(group_certainties.keys()))\n",
    "            #     plt.xlabel(\"Group\")\n",
    "            #     plt.ylabel(\"Average Uncertainty\")\n",
    "            #     plt.title(\"Average Uncertainty per Group\")\n",
    "            #     plt.show()\n",
    "            \n",
    "            \n",
    "            net.train()\n",
    "finally:\n",
    "    logger.flush()"
   ]
  },
  {
   "cell_type": "code",
   "execution_count": 33,
   "metadata": {},
   "outputs": [
    {
     "data": {
      "image/png": "[encoded data removed]",
      "text/plain": [
       "<Figure size 1200x600 with 1 Axes>"
      ]
     },
     "metadata": {},
     "output_type": "display_data"
    }
   ],
   "source": [
    "# Plot uncertainty metrics from logger\n",
    "if conf.loss_type == LossType.TOPK and conf.mc_dropout:\n",
    "    plt.figure(figsize=(12, 6))\n",
    "    \n",
    "    # Get all groups by finding keys that match pattern \"train_target_uncertainty_*_frac\"\n",
    "    group_keys = [k for k in logger.metrics.keys() if k.startswith(\"train_target_uncertainty_\") and k.endswith(\"_frac\")]\n",
    "    group_labels = [k.replace(\"train_target_uncertainty_\", \"\").replace(\"_frac\", \"\") for k in group_keys]\n",
    "    \n",
    "    # Plot fraction masked over time for each group\n",
    "    for key, label in zip(group_keys, group_labels):\n",
    "        fractions = logger.metrics[key]\n",
    "        steps = range(len(fractions))\n",
    "        plt.plot(steps, fractions, label=f\"Group {label}\", alpha=0.7)\n",
    "    \n",
    "    plt.xlabel(\"Training Step\")\n",
    "    plt.ylabel(\"Fraction of Instances Masked\")\n",
    "    plt.title(\"Fraction of Instances Masked by Uncertainty Over Training\")\n",
    "    plt.legend()\n",
    "    plt.grid(True, alpha=0.3)\n",
    "    \n",
    "    # # Save plot\n",
    "    # plt.savefig(f\"{exp_dir}/uncertainty_fractions_over_time.png\")\n",
    "    # plt.savefig(f\"{exp_dir}/uncertainty_fractions_over_time.svg\")\n",
    "    # plt.close()"
   ]
  },
  {
   "cell_type": "code",
   "execution_count": 34,
   "metadata": {},
   "outputs": [
    {
     "ename": "NameError",
     "evalue": "name 'frac_keys' is not defined",
     "output_type": "error",
     "traceback": [
      "\u001b[0;31m---------------------------------------------------------------------------\u001b[0m",
      "\u001b[0;31mNameError\u001b[0m                                 Traceback (most recent call last)",
      "Cell \u001b[0;32mIn[34], line 1\u001b[0m\n\u001b[0;32m----> 1\u001b[0m \u001b[43mfrac_keys\u001b[49m\n",
      "\u001b[0;31mNameError\u001b[0m: name 'frac_keys' is not defined"
     ]
    }
   ],
   "source": [
    "frac_keys"
   ]
  },
  {
   "cell_type": "code",
   "execution_count": 42,
   "metadata": {},
   "outputs": [
    {
     "data": {
      "text/plain": [
       "['train_target_uncertainty_(0, 1)', 'train_target_uncertainty_(1, 0)']"
      ]
     },
     "execution_count": 42,
     "metadata": {},
     "output_type": "execute_result"
    }
   ],
   "source": [
    "mean_keys"
   ]
  },
  {
   "cell_type": "code",
   "execution_count": null,
   "metadata": {},
   "outputs": [
    {
     "data": {
      "image/png": "[encoded data removed]",
      "text/plain": [
       "<Figure size 1200x1000 with 2 Axes>"
      ]
     },
     "metadata": {},
     "output_type": "display_data"
    }
   ],
   "source": [
    "# Plot uncertainty metrics from logger\n",
    "if conf.loss_type == LossType.TOPK and conf.mc_dropout:\n",
    "    fig, (ax1, ax2) = plt.subplots(2, 1, figsize=(12, 10))\n",
    "    \n",
    "    # Get all groups\n",
    "    frac_keys = [k for k in logger.metrics.keys() if k.startswith(\"train_target_uncertainty_\") and k.endswith(\"_frac\")]\n",
    "    mean_keys = [k for k in logger.metrics.keys() if k.startswith(\"train_target_uncertainty_\") and not k.endswith(\"_frac\")]\n",
    "    group_labels = [k.replace(\"train_target_uncertainty_\", \"\").replace(\"_frac\", \"\") for k in frac_keys]\n",
    "    \n",
    "    # Plot fraction masked over time\n",
    "    for key, label in zip(frac_keys, group_labels):\n",
    "        fractions = logger.metrics[key]\n",
    "        steps = range(len(fractions))\n",
    "        ax1.plot(steps, fractions, label=f\"Group {label}\", alpha=0.7)\n",
    "    \n",
    "    ax1.set_xlabel(\"Training Step\")\n",
    "    ax1.set_ylabel(\"Fraction of Instances Masked\")\n",
    "    ax1.set_title(\"Fraction of Instances Masked by Uncertainty Over Training\")\n",
    "    ax1.legend()\n",
    "    ax1.grid(True, alpha=0.3)\n",
    "    \n",
    "    # Plot average uncertainty over time\n",
    "    for key, label in zip(mean_keys, group_labels):\n",
    "        means = logger.metrics[key]\n",
    "        steps = range(len(means))\n",
    "        ax2.plot(steps, means, label=f\"Group {label}\", alpha=0.7)\n",
    "    \n",
    "    ax2.set_xlabel(\"Training Step\")\n",
    "    ax2.set_ylabel(\"Average Uncertainty\")\n",
    "    ax2.set_title(\"Average Uncertainty Over Training\")\n",
    "    ax2.legend()\n",
    "    ax2.grid(True, alpha=0.3)\n",
    "    \n",
    "    plt.tight_layout()\n",
    "    \n",
    "    # # Save plots\n",
    "    # plt.savefig(f\"{exp_dir}/uncertainty_metrics_over_time.png\")\n",
    "    # plt.savefig(f\"{exp_dir}/uncertainty_metrics_over_time.svg\")\n",
    "    # plt.close()"
   ]
  }
 ],
 "metadata": {
  "kernelspec": {
   "display_name": "diverse-gen-KG5DY0Zz-py3.10",
   "language": "python",
   "name": "python3"
  },
  "language_info": {
   "codemirror_mode": {
    "name": "ipython",
    "version": 3
   },
   "file_extension": ".py",
   "mimetype": "text/x-python",
   "name": "python",
   "nbconvert_exporter": "python",
   "pygments_lexer": "ipython3",
   "version": "3.10.15"
  }
 },
 "nbformat": 4,
 "nbformat_minor": 2
}
