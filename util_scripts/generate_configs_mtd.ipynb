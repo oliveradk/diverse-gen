{
 "cells": [
  {
   "cell_type": "code",
   "execution_count": 1,
   "metadata": {},
   "outputs": [],
   "source": [
    "import os \n",
    "os.chdir(\"/nas/ucb/oliveradk/diverse-gen/\")\n",
    "import yaml"
   ]
  },
  {
   "cell_type": "code",
   "execution_count": 2,
   "metadata": {},
   "outputs": [],
   "source": [
    "CONF_DIR = \"configs/mtd\""
   ]
  },
  {
   "cell_type": "code",
   "execution_count": 3,
   "metadata": {},
   "outputs": [],
   "source": [
    "METHODS = [\"DivDis\", \"TopK_0.1\", \"Probe_for_Evidence_of_Tamper\", \"FT_Trusted\", \"Measurement_Predictor\"]\n",
    "DATASETS = [\"diamonds\", \"generated_stories\"]\n",
    "\n",
    "HPARAMS = {\n",
    "    \"DivDis\": {\n",
    "        \"diamonds\": {\n",
    "            \"lr\": 2e-5,\n",
    "            \"aux_weight\": 3.0,\n",
    "        },\n",
    "        \"generated_stories\": {\n",
    "            \"lr\": 3e-6,\n",
    "            \"aux_weight\": 3.0,\n",
    "        }\n",
    "    },\n",
    "    \"TopK_0.1\": {\n",
    "        \"diamonds\": {\n",
    "            \"lr\": 2e-5,\n",
    "            \"aux_weight\": 1.0,\n",
    "        },\n",
    "        \"generated_stories\": {\n",
    "            \"lr\": 3e-6,\n",
    "            \"aux_weight\": 2.5,\n",
    "        }\n",
    "    },\n",
    "    \"Probe_for_Evidence_of_Tamper\": {\n",
    "        \"diamonds\": {\n",
    "            \"lr\": 2e-4,\n",
    "        },\n",
    "        \"generated_stories\": {\n",
    "            \"lr\": 5e-4,\n",
    "        }\n",
    "    },\n",
    "    \"FT_Trusted\": {\n",
    "        \"diamonds\": {\n",
    "            \"lr\": 2e-5,\n",
    "        },\n",
    "        \"generated_stories\": {\n",
    "            \"lr\": 5e-3,\n",
    "        }\n",
    "    }\n",
    "}"
   ]
  },
  {
   "cell_type": "code",
   "execution_count": 4,
   "metadata": {},
   "outputs": [],
   "source": [
    "for dataset in DATASETS:\n",
    "    for method in METHODS:\n",
    "        conf_updates = {}\n",
    "        if method in HPARAMS:\n",
    "            conf_updates.update(HPARAMS[method][dataset])\n",
    "        \n",
    "        # write to file \n",
    "        with open(os.path.join(CONF_DIR, f\"{method}_{dataset}.yaml\"), \"w\") as f:\n",
    "            f.write(\"defaults:\\n\")\n",
    "            f.write(f\"  - /dataset/{dataset}@_here_\\n\")\n",
    "            f.write(f\"  - /method/{method}@_here_\\n\")\n",
    "            f.write(\"  - _self_\\n\\n\")\n",
    "            # Write configuration updates\n",
    "            for key, value in conf_updates.items():\n",
    "                f.write(f\"{key}: {value}\\n\")\n",
    "        \n",
    "        \n"
   ]
  },
  {
   "cell_type": "code",
   "execution_count": null,
   "metadata": {},
   "outputs": [],
   "source": [
    "import hydra\n",
    "from hydra import initialize, compose\n",
    "from omegaconf import DictConfig, OmegaConf"
   ]
  },
  {
   "cell_type": "code",
   "execution_count": null,
   "metadata": {},
   "outputs": [],
   "source": [
    "config_path = \"configs/spur_corr\"\n",
    "config_name = \"DBAT_waterbirds\""
   ]
  },
  {
   "cell_type": "code",
   "execution_count": null,
   "metadata": {},
   "outputs": [],
   "source": [
    "with initialize(config_path=f\"../{config_path}\", version_base=None):\n",
    "    cfg = compose(config_name=config_name)\n",
    "    print(OmegaConf.to_yaml(cfg))"
   ]
  },
  {
   "cell_type": "code",
   "execution_count": null,
   "metadata": {},
   "outputs": [],
   "source": [
    "out = OmegaConf.resolve(cfg)"
   ]
  }
 ],
 "metadata": {
  "kernelspec": {
   "display_name": "od_3_10",
   "language": "python",
   "name": "python3"
  },
  "language_info": {
   "codemirror_mode": {
    "name": "ipython",
    "version": 3
   },
   "file_extension": ".py",
   "mimetype": "text/x-python",
   "name": "python",
   "nbconvert_exporter": "python",
   "pygments_lexer": "ipython3",
   "version": "3.10.15"
  }
 },
 "nbformat": 4,
 "nbformat_minor": 2
}
