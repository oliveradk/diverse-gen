{
 "cells": [
  {
   "cell_type": "code",
   "execution_count": null,
   "metadata": {},
   "outputs": [],
   "source": [
    "import os \n",
    "os.chdir(\"/nas/ucb/oliveradk/diverse-gen/\")\n",
    "import yaml"
   ]
  },
  {
   "cell_type": "code",
   "execution_count": null,
   "metadata": {},
   "outputs": [],
   "source": [
    "CONF_DIR = \"configs/spur_corr\""
   ]
  },
  {
   "cell_type": "code",
   "execution_count": null,
   "metadata": {},
   "outputs": [],
   "source": [
    "METHODS = [\"DivDis\", \"DBAT\", \"TopK_0.1\", \"TopK_0.5\", \"ERM\"]\n",
    "DATASETS = [\"toy_grid\", \"fmnist_mnist\", \"cifar_mnist\", \"waterbirds\", \"celebA-0\", \"multi-nli\"]\n",
    "\n",
    "\n",
    "AGGREGATE_MIX_RATE = {\n",
    "    \"toy_grid\": False,\n",
    "    \"fmnist_mnist\": False,\n",
    "    \"cifar_mnist\": False,\n",
    "    \"waterbirds\": True,\n",
    "    \"celebA-0\": True,\n",
    "    \"multi-nli\": True,\n",
    "}\n",
    "\n",
    "BATCH_SIZE = 32 \n",
    "TARGET_BATCH_SIZE = 64\n",
    "\n",
    "BATCH_SIZES = {\n",
    "    \"toy_grid\": {\n",
    "        \"batch_size\": 32, \n",
    "        \"target_batch_size\": 128,\n",
    "    }\n",
    "}\n",
    "\n",
    "METHOD_DATASET_CONFIGS = {\n",
    "    \"DivDis\": {\n",
    "        \"toy_grid\": {\n",
    "            \"optimizer\": \"adamw\",\n",
    "        }\n",
    "    }, \n",
    "    \"TopK_0.1\": {\n",
    "        \"toy_grid\": {\n",
    "            \"optimizer\": \"sgd\",\n",
    "        }, \n",
    "        \"multi-nli\": {\n",
    "            \"mix_rate_interval_frac\": 0.25,\n",
    "        }\n",
    "    },\n",
    "    \"TopK_0.5\": {\n",
    "        \"toy_grid\": {\n",
    "            \"optimizer\": \"sgd\",\n",
    "        }, \n",
    "        \"multi-nli\": {\n",
    "            \"mix_rate_interval_frac\": 0.25,\n",
    "        }\n",
    "    },\n",
    "}\n",
    "\n",
    "AUX_WEIGHTS = {\n",
    "    \"DivDis\": {\n",
    "        \"toy_grid\": 1.0,\n",
    "        \"fmnist_mnist\": 1.0,\n",
    "        \"cifar_mnist\": 1.5,\n",
    "        \"waterbirds\": 8,\n",
    "        \"celebA-0\": 2.5,\n",
    "        \"multi-nli\": 64,\n",
    "    },\n",
    "    \"DBAT\": {\n",
    "        \"toy_grid\": 0.4,\n",
    "        \"fmnist_mnist\": 0.05,\n",
    "        \"cifar_mnist\": 0.01,\n",
    "        \"waterbirds\": 0.01,\n",
    "        \"celebA-0\": 0.01,\n",
    "        \"multi-nli\": 0.01,\n",
    "    },\n",
    "    \"TopK_0.1\": {\n",
    "        \"toy_grid\": 1.5,\n",
    "        \"fmnist_mnist\": 1.0,\n",
    "        \"cifar_mnist\": 1.5,\n",
    "        \"waterbirds\": 8,\n",
    "        \"celebA-0\": 2.5,\n",
    "        \"multi-nli\": 64,\n",
    "    },\n",
    "    \"TopK_0.5\": {\n",
    "        \"toy_grid\": 1.0,\n",
    "        \"fmnist_mnist\": 1.0,\n",
    "        \"cifar_mnist\": 1.0,\n",
    "        \"waterbirds\": 3.0,\n",
    "        \"celebA-0\": 1.5,\n",
    "        \"multi-nli\": 6,\n",
    "    },\n",
    "}"
   ]
  },
  {
   "cell_type": "code",
   "execution_count": null,
   "metadata": {},
   "outputs": [],
   "source": [
    "for dataset in DATASETS:\n",
    "    for method in METHODS:\n",
    "        conf_updates = {}\n",
    "        if method != \"ERM\":\n",
    "            conf_updates[\"aux_weight\"] = AUX_WEIGHTS[method][dataset]\n",
    "        if method.startswith(\"TopK\"):\n",
    "            conf_updates[\"aggregate_mix_rate\"] = AGGREGATE_MIX_RATE[dataset]\n",
    "        if method == \"DBAT\": \n",
    "            conf_updates[\"batch_size\"] = BATCH_SIZE // 2\n",
    "            conf_updates[\"target_batch_size\"] =(TARGET_BATCH_SIZE if dataset != \"toy_grid\" else 128) // 2\n",
    "        if method in METHOD_DATASET_CONFIGS:\n",
    "            if dataset in METHOD_DATASET_CONFIGS[method]:\n",
    "                conf_updates.update(METHOD_DATASET_CONFIGS[method][dataset])\n",
    "        \n",
    "        # write to file \n",
    "        with open(os.path.join(CONF_DIR, f\"{method}_{dataset}.yaml\"), \"w\") as f:\n",
    "            f.write(\"defaults:\\n\")\n",
    "            f.write(f\"  - /dataset/{dataset}@_here_\\n\")\n",
    "            f.write(f\"  - /method/{method}@_here_\\n\")\n",
    "            f.write(\"  - _self_\\n\\n\")\n",
    "            # Write configuration updates\n",
    "            for key, value in conf_updates.items():\n",
    "                f.write(f\"{key}: {value}\\n\")\n",
    "        \n",
    "        \n"
   ]
  },
  {
   "cell_type": "code",
   "execution_count": null,
   "metadata": {},
   "outputs": [],
   "source": [
    "import hydra\n",
    "from hydra import initialize, compose\n",
    "from omegaconf import DictConfig, OmegaConf"
   ]
  },
  {
   "cell_type": "code",
   "execution_count": null,
   "metadata": {},
   "outputs": [],
   "source": [
    "config_path = \"configs/spur_corr\"\n",
    "config_name = \"DBAT_waterbirds\""
   ]
  },
  {
   "cell_type": "code",
   "execution_count": null,
   "metadata": {},
   "outputs": [],
   "source": [
    "OmegaConf.register_new_resolver(\"div\", lambda x, y: x // y)"
   ]
  },
  {
   "cell_type": "code",
   "execution_count": null,
   "metadata": {},
   "outputs": [],
   "source": [
    "with initialize(config_path=f\"../{config_path}\", version_base=None):\n",
    "    cfg = compose(config_name=config_name)\n",
    "    print(OmegaConf.to_yaml(cfg))"
   ]
  },
  {
   "cell_type": "code",
   "execution_count": null,
   "metadata": {},
   "outputs": [],
   "source": [
    "out = OmegaConf.resolve(cfg)"
   ]
  },
  {
   "cell_type": "code",
   "execution_count": null,
   "metadata": {},
   "outputs": [],
   "source": [
    "cfg['head_1_epochs']"
   ]
  },
  {
   "cell_type": "code",
   "execution_count": null,
   "metadata": {},
   "outputs": [],
   "source": [
    "out"
   ]
  }
 ],
 "metadata": {
  "kernelspec": {
   "display_name": "od_3_10",
   "language": "python",
   "name": "python3"
  },
  "language_info": {
   "codemirror_mode": {
    "name": "ipython",
    "version": 3
   },
   "file_extension": ".py",
   "mimetype": "text/x-python",
   "name": "python",
   "nbconvert_exporter": "python",
   "pygments_lexer": "ipython3",
   "version": "3.10.15"
  }
 },
 "nbformat": 4,
 "nbformat_minor": 2
}
