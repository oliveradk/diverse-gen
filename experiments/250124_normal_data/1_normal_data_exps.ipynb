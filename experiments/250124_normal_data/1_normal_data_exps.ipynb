{
 "cells": [
  {
   "cell_type": "code",
   "execution_count": 1,
   "metadata": {},
   "outputs": [],
   "source": [
    "import os \n",
    "os.chdir(\"/nas/ucb/oliveradk/diverse-gen/\")"
   ]
  },
  {
   "cell_type": "code",
   "execution_count": 2,
   "metadata": {},
   "outputs": [],
   "source": [
    "# imports from cc experiments\n",
    "import json\n",
    "from functools import partial\n",
    "from itertools import product\n",
    "from typing import Optional, Literal, Callable\n",
    "from tqdm import tqdm\n",
    "from collections import defaultdict\n",
    "from dataclasses import dataclass\n",
    "from pathlib import Path\n",
    "from copy import deepcopy\n",
    "from datetime import datetime\n",
    "\n",
    "import submitit\n",
    "from submitit.core.utils import CommandFunction\n",
    "import numpy as np\n",
    "import matplotlib.pyplot as plt\n",
    "import pandas as pd\n",
    "\n",
    "from losses.loss_types import LossType\n",
    "from utils.exp_utils import get_executor, get_executor_local, run_experiments\n",
    "from utils.utils import conf_to_args"
   ]
  },
  {
   "cell_type": "code",
   "execution_count": 3,
   "metadata": {},
   "outputs": [],
   "source": [
    "EXP_DIR = \"output/normal_data_exps/\"\n",
    "SCRIPT_PATH = \"experiments/250124_normal_data/0_normal_data.py\""
   ]
  },
  {
   "cell_type": "markdown",
   "metadata": {},
   "source": [
    "# Configs"
   ]
  },
  {
   "cell_type": "code",
   "execution_count": 5,
   "metadata": {},
   "outputs": [],
   "source": [
    "# shared configs\n",
    "base_config = {\n",
    "    \"batch_size\": 32,\n",
    "    \"epochs\": 3,\n",
    "    \"learning_rate\": 2e-5\n",
    "}\n",
    "\n",
    "# seeds\n",
    "seeds = [1, 2, 3]\n",
    "\n",
    "# methods \n",
    "methods = {\n",
    "    \"DivDis\": {\"loss_type\": LossType.DIVDIS, \"aux_weight\": 1.0},\n",
    "    \"TopK 0.1\": {\"loss_type\": LossType.TOPK, \"mix_rate_lower_bound\": 0.1, \"aux_weight\": 1.0}, \n",
    "    \"TopK 0.5\": {\"loss_type\": LossType.TOPK, \"mix_rate_lower_bound\": 0.5, \"aux_weight\": 1.0}, \n",
    "    \"ERM\": {\"loss_type\": LossType.ERM, \"aux_weight\": 0.0}\n",
    "}\n",
    "\n",
    "# generate experiment configs\n",
    "experiment_configs = []\n",
    "for seed in seeds:\n",
    "    for method_name, method_config in methods.items():\n",
    "        config = base_config.copy()\n",
    "        config.update(method_config)\n",
    "        config[\"seed\"] = seed\n",
    "        config[\"exp_dir\"] = f\"output/normal_data/{method_name.lower().replace(' ', '_')}/seed_{seed}\"\n",
    "        experiment_configs.append(config)"
   ]
  },
  {
   "cell_type": "markdown",
   "metadata": {},
   "source": [
    "# Run Experiments"
   ]
  },
  {
   "cell_type": "code",
   "execution_count": null,
   "metadata": {},
   "outputs": [],
   "source": [
    "# run experiments\n",
    "executor = get_executor(out_dir=EXP_DIR)\n",
    "jobs = run_experiments(executor, SCRIPT_PATH, experiment_configs)"
   ]
  }
 ],
 "metadata": {
  "kernelspec": {
   "display_name": "od_3_10",
   "language": "python",
   "name": "python3"
  },
  "language_info": {
   "codemirror_mode": {
    "name": "ipython",
    "version": 3
   },
   "file_extension": ".py",
   "mimetype": "text/x-python",
   "name": "python",
   "nbconvert_exporter": "python",
   "pygments_lexer": "ipython3",
   "version": "3.10.15"
  }
 },
 "nbformat": 4,
 "nbformat_minor": 2
}
