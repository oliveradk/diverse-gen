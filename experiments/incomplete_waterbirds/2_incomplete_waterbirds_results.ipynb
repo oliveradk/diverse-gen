{
 "cells": [
  {
   "cell_type": "code",
   "execution_count": 1,
   "metadata": {},
   "outputs": [],
   "source": [
    "import os\n",
    "os.chdir(\"/nas/ucb/oliveradk/diverse-gen/\")"
   ]
  },
  {
   "cell_type": "code",
   "execution_count": 2,
   "metadata": {},
   "outputs": [],
   "source": [
    "from collections import defaultdict\n",
    "from pathlib import Path\n",
    "import itertools\n",
    "from typing import Optional\n",
    "import json\n",
    "from itertools import product\n",
    "\n",
    "import matplotlib.pyplot as plt\n",
    "from matplotlib.patches import Patch\n",
    "import numpy as np\n",
    "import pandas as pd\n",
    "from omegaconf import OmegaConf\n",
    "\n",
    "from diverse_gen.utils.exp_utils import get_conf_dir"
   ]
  },
  {
   "cell_type": "code",
   "execution_count": 3,
   "metadata": {},
   "outputs": [],
   "source": [
    "MAIN_DIR = \"output/incomplete_waterbirds/main\"\n",
    "GROUP_LABELS_DIR = \"output/incomplete_waterbirds/group_labels\"\n",
    "RESULTS_DIR = \"results/incomplete_waterbirds\"\n",
    "os.makedirs(RESULTS_DIR, exist_ok=True)"
   ]
  },
  {
   "cell_type": "code",
   "execution_count": 4,
   "metadata": {},
   "outputs": [],
   "source": [
    "METHODS = [\n",
    "    \"TopK_0.1\", \n",
    "    \"TopK_0.5\", \n",
    "    \"ERM\", \n",
    "    \"DBAT\", \n",
    "    \"DivDis\"\n",
    "]\n",
    "SEEDS = [1, 2, 3]\n",
    "DATASETS = [\"waterbirds\"]\n",
    "MIX_RATES = [None]\n",
    "\n",
    "configs = list(product(DATASETS, METHODS, MIX_RATES, SEEDS))"
   ]
  },
  {
   "cell_type": "code",
   "execution_count": 5,
   "metadata": {},
   "outputs": [],
   "source": [
    "# TODO: redo this\n",
    "def get_results(configs: list[tuple[str, str, float, int]], parent_dir: str = MAIN_DIR, select_epoch: bool = True, \n",
    "                group_labels: bool = False) -> list[dict]:\n",
    "    results = []\n",
    "    for dataset, method, mix_rate, seed in configs:\n",
    "        exp_dir = get_conf_dir((dataset, method, mix_rate, seed), parent_dir)\n",
    "        metric_file = os.path.join(exp_dir, \"metrics.json\")\n",
    "        with open(metric_file, \"r\") as f:\n",
    "            metrics = json.load(f)\n",
    "        if select_epoch: \n",
    "            if dataset == \"toy_grid\": \n",
    "                idxs = [len(metrics[\"val_loss\"]) - 1]\n",
    "            else: \n",
    "                if method == \"DBAT\":\n",
    "                    idxs = [np.argmin(metrics[\"val_source_loss\"])]\n",
    "                else: \n",
    "                    idxs = [np.argmin(metrics[\"val_loss\"])]\n",
    "        else: \n",
    "            idxs = range(len(metrics[\"val_loss\"]))\n",
    "        \n",
    "        for idx in idxs: \n",
    "            min_val_loss_idx = np.argmin(metrics[\"val_loss\"])\n",
    "            min_val_loss = metrics[\"val_loss\"][idx]\n",
    "            \n",
    "            source_acc_0 = metrics[\"val_source_acc_0\"][idx]\n",
    "            source_acc_1 = metrics[\"val_source_acc_1\"][idx]\n",
    "\n",
    "            source_loss = metrics[\"val_source_loss\"][idx]\n",
    "\n",
    "            test_acc_0 = metrics[\"test_acc_0\"][idx]\n",
    "            test_acc_1 = metrics[\"test_acc_1\"][idx]\n",
    "            max_test_acc = max(test_acc_0, test_acc_1)\n",
    "\n",
    "            worst_acc_0 = metrics[\"test_worst_acc_0\"][idx]\n",
    "            worst_acc_1 = metrics[\"test_worst_acc_1\"][idx]\n",
    "            max_worst_acc = max(worst_acc_0, worst_acc_1)\n",
    "\n",
    "            if not group_labels:\n",
    "                test_acc_alt_0 = metrics[\"test_acc_alt_0\"][idx]\n",
    "                test_acc_alt_1 = metrics[\"test_acc_alt_1\"][idx]\n",
    "                max_test_acc_alt = max(test_acc_alt_0, test_acc_alt_1)\n",
    "\n",
    "            if not group_labels:\n",
    "                multi_label_test_acc = np.mean([max_test_acc, max_test_acc_alt])\n",
    "\n",
    "            result_dict = {\n",
    "                \"Dataset\": dataset,\n",
    "                \"Method\": method,\n",
    "                \"Mix_Rate\": mix_rate,\n",
    "                \"Seed\": seed,\n",
    "                \"val_loss\": min_val_loss,\n",
    "                \"source_acc_0\": source_acc_0,\n",
    "                \"source_acc_1\": source_acc_1,\n",
    "                \"source_loss\": source_loss,\n",
    "                \"acc_0\": test_acc_0,\n",
    "                \"acc_1\": test_acc_1,\n",
    "                \"worst_acc_0\": worst_acc_0,\n",
    "                \"worst_acc_1\": worst_acc_1,\n",
    "                \"epoch\": idx,\n",
    "            }\n",
    "            if not group_labels:\n",
    "                if method == \"DBAT\":\n",
    "                    result_dict.update({\n",
    "                        \"acc\": test_acc_0,\n",
    "                        \"acc_alt\": test_acc_alt_1,\n",
    "                        \"worst_acc\": worst_acc_0,\n",
    "                        \"multi_label_acc\": np.mean([test_acc_0, test_acc_alt_1]),\n",
    "                    })\n",
    "                else: \n",
    "                    result_dict.update({\n",
    "                        \"acc\": max_test_acc,\n",
    "                        \"acc_alt\": max_test_acc_alt,\n",
    "                        \"worst_acc\": max_worst_acc,\n",
    "                    })\n",
    "            results.append(result_dict)\n",
    "\n",
    "    df = pd.DataFrame(results)\n",
    "    return df\n"
   ]
  },
  {
   "cell_type": "code",
   "execution_count": 6,
   "metadata": {},
   "outputs": [],
   "source": [
    "df = get_results(configs, MAIN_DIR)\n",
    "df.to_csv(os.path.join(RESULTS_DIR, \"results.csv\"), index=False)\n",
    "acc_df = df.copy().rename(columns={\"acc\": \"Accuracy\"})\n",
    "alt_acc_df = df.copy().rename(columns={\"acc_alt\": \"Accuracy\"})\n",
    "worst_acc_df = df.copy().rename(columns={\"worst_acc\": \"Accuracy\"})"
   ]
  },
  {
   "cell_type": "code",
   "execution_count": 7,
   "metadata": {},
   "outputs": [],
   "source": [
    "df_gl = get_results([cfg for cfg in configs if cfg[1] != \"ERM\"], GROUP_LABELS_DIR, group_labels=True)\n",
    "df_gl.to_csv(os.path.join(RESULTS_DIR, \"df_gl.csv\"), index=False)\n",
    "\n",
    "acc_gl_df = df_gl.copy().rename(columns={\"acc_0\": \"Accuracy\"})\n",
    "alt_acc_gl_df = df_gl.copy().rename(columns={\"acc_1\": \"Accuracy\"})\n",
    "worst_acc_gl_df = df_gl.copy().rename(columns={\"worst_acc_0\": \"Accuracy\"})\n"
   ]
  },
  {
   "cell_type": "code",
   "execution_count": 8,
   "metadata": {},
   "outputs": [],
   "source": [
    "# metrics = json.load(open(\"output/incomplete_waterbirds/group_labels/waterbirds_DivDis_None/1/metrics.json\"))"
   ]
  },
  {
   "cell_type": "code",
   "execution_count": 9,
   "metadata": {},
   "outputs": [],
   "source": [
    "# Create DataFrame with all metrics\n",
    "def print_latex_table(acc_df, alt_acc_df, worst_acc_df):\n",
    "    df = pd.DataFrame({\n",
    "        'Method': [],\n",
    "        'Average Acc': [],\n",
    "        'Alternative Acc': [],\n",
    "        'Worst-Group Acc': []\n",
    "    })\n",
    "\n",
    "    for method in METHODS:\n",
    "        avg_acc = f\"{acc_df[acc_df['Method'] == method]['Accuracy'].mean()*100:.1f} ± {acc_df[acc_df['Method'] == method]['Accuracy'].std()*100:.1f}\"\n",
    "        alt_acc = f\"{alt_acc_df[alt_acc_df['Method'] == method]['Accuracy'].mean()*100:.1f} ± {alt_acc_df[alt_acc_df['Method'] == method]['Accuracy'].std()*100:.1f}\"\n",
    "        worst_acc = f\"{worst_acc_df[worst_acc_df['Method'] == method]['Accuracy'].mean()*100:.1f} ± {worst_acc_df[worst_acc_df['Method'] == method]['Accuracy'].std()*100:.1f}\"\n",
    "        \n",
    "        df = pd.concat([df, pd.DataFrame({\n",
    "            'Method': [method.replace(\"_\", \" \")],\n",
    "            'Average Acc': [avg_acc],\n",
    "            'Alternative Acc': [alt_acc],\n",
    "            'Worst-Group Acc': [worst_acc]\n",
    "        })], ignore_index=True)\n",
    "\n",
    "    # Print LaTeX table\n",
    "    print(df.to_latex(index=False, escape=True))"
   ]
  },
  {
   "cell_type": "code",
   "execution_count": 10,
   "metadata": {},
   "outputs": [
    {
     "name": "stdout",
     "output_type": "stream",
     "text": [
      "\\begin{tabular}{llll}\n",
      "\\toprule\n",
      "Method & Average Acc & Alternative Acc & Worst-Group Acc \\\\\n",
      "\\midrule\n",
      "TopK 0.1 & 88.9 ± 1.3 & 74.0 ± 3.6 & 53.9 ± 12.8 \\\\\n",
      "TopK 0.5 & 92.8 ± 0.4 & 90.7 ± 1.1 & 70.9 ± 2.3 \\\\\n",
      "ERM & 84.7 ± 2.9 & 63.1 ± 2.9 & 51.1 ± 10.2 \\\\\n",
      "DBAT & 60.2 ± 19.4 & 68.7 ± 1.5 & 33.1 ± 23.4 \\\\\n",
      "DivDis & 91.0 ± 3.2 & 72.9 ± 1.3 & 67.7 ± 8.1 \\\\\n",
      "\\bottomrule\n",
      "\\end{tabular}\n",
      "\n"
     ]
    }
   ],
   "source": [
    "print_latex_table(acc_df, alt_acc_df, worst_acc_df)"
   ]
  },
  {
   "cell_type": "code",
   "execution_count": 11,
   "metadata": {},
   "outputs": [
    {
     "name": "stdout",
     "output_type": "stream",
     "text": [
      "\\begin{tabular}{llll}\n",
      "\\toprule\n",
      "Method & Average Acc & Alternative Acc & Worst-Group Acc \\\\\n",
      "\\midrule\n",
      "TopK 0.1 & 87.9 ± 0.7 & 89.7 ± 2.6 & 54.3 ± 8.8 \\\\\n",
      "TopK 0.5 & 92.5 ± 0.9 & 94.8 ± 0.5 & 75.6 ± 7.0 \\\\\n",
      "ERM & nan ± nan & nan ± nan & nan ± nan \\\\\n",
      "DBAT & 89.6 ± 0.8 & 91.8 ± 0.7 & 50.3 ± 5.4 \\\\\n",
      "DivDis & 91.7 ± 1.4 & 92.4 ± 0.9 & 66.9 ± 3.2 \\\\\n",
      "\\bottomrule\n",
      "\\end{tabular}\n",
      "\n"
     ]
    }
   ],
   "source": [
    "print_latex_table(acc_gl_df, alt_acc_gl_df, worst_acc_gl_df)"
   ]
  }
 ],
 "metadata": {
  "kernelspec": {
   "display_name": "od_3_10",
   "language": "python",
   "name": "python3"
  },
  "language_info": {
   "codemirror_mode": {
    "name": "ipython",
    "version": 3
   },
   "file_extension": ".py",
   "mimetype": "text/x-python",
   "name": "python",
   "nbconvert_exporter": "python",
   "pygments_lexer": "ipython3",
   "version": "3.10.15"
  }
 },
 "nbformat": 4,
 "nbformat_minor": 2
}
