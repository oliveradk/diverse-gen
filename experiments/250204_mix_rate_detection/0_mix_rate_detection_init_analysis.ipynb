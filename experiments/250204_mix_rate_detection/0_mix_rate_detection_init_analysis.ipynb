{
 "cells": [
  {
   "cell_type": "code",
   "execution_count": null,
   "metadata": {},
   "outputs": [],
   "source": []
  },
  {
   "cell_type": "code",
   "execution_count": null,
   "metadata": {},
   "outputs": [],
   "source": [
    "# ok what are we thinking here? \n",
    "# some ideas \n",
    "# can identify mix rate based on agreement in the mix rate groups across seeds\n",
    "# # in other words, in the target training set, for a given set of classifiers, whats the \n",
    "    # probability that another set of classifiers agree that an instance caused disagreement \n",
    "    # need to think abotu ahow to aggregate this and other possibel metrics"
   ]
  },
  {
   "cell_type": "code",
   "execution_count": null,
   "metadata": {},
   "outputs": [],
   "source": [
    "# so maybe to start a I take a purely data analysis approach to this \n",
    "# ok yeah so lets look at source accuracy of topk 0.5 (schedule) across mix rates (at low validation point)"
   ]
  },
  {
   "cell_type": "code",
   "execution_count": 1,
   "metadata": {},
   "outputs": [],
   "source": [
    "import os\n",
    "os.chdir(\"/nas/ucb/oliveradk/diverse-gen/\")"
   ]
  },
  {
   "cell_type": "code",
   "execution_count": 2,
   "metadata": {},
   "outputs": [],
   "source": [
    "import json\n",
    "from functools import partial\n",
    "from itertools import product\n",
    "from typing import Optional, Literal, Callable\n",
    "from tqdm import tqdm\n",
    "from collections import defaultdict\n",
    "from dataclasses import dataclass\n",
    "from pathlib import Path\n",
    "from copy import deepcopy\n",
    "from datetime import datetime\n",
    "from collections import defaultdict\n",
    "\n",
    "import submitit\n",
    "from submitit.core.utils import CommandFunction\n",
    "import nevergrad as ng\n",
    "import numpy as np\n",
    "import matplotlib.pyplot as plt\n",
    "import pandas as pd\n",
    "import plotly.graph_objects as go\n",
    "\n",
    "from losses.loss_types import LossType\n",
    "from utils.exp_utils import get_executor, get_executor_local, run_experiments, get_conf_dir\n",
    "from utils.proc_data_utils import get_exp_metrics, get_max_acc, get_acc_results"
   ]
  },
  {
   "cell_type": "code",
   "execution_count": 3,
   "metadata": {},
   "outputs": [],
   "source": [
    "EXP_DIR = \"output/cc_mix_rate_schedule_sweep\""
   ]
  },
  {
   "cell_type": "code",
   "execution_count": 34,
   "metadata": {},
   "outputs": [],
   "source": [
    "datasets = [\"cifar_mnist\", \"fmnist_mnist\", \"waterbirds\", \"celebA-0\", \"toy_grid\"]\n",
    "methods = [\"TopK 0.5\", \"TopK 0.1\"]\n",
    "MIX_RATES = [0.1, 0.25, 0.5, 0.75, 1.0]\n",
    "seeds = [1, 2, 3]\n",
    "\n",
    "configs = {}\n",
    "for dataset, method, mix_rate, seed in product(datasets, methods, MIX_RATES, seeds):\n",
    "    configs[(dataset, method, mix_rate, seed)] = {\n",
    "        \"dataset\": dataset,\n",
    "        \"method\": method,\n",
    "        \"mix_rate\": mix_rate,\n",
    "        \"seed\": seed, \n",
    "        \"exp_dir\": get_conf_dir((dataset, method, mix_rate, seed), EXP_DIR)\n",
    "    }\n",
    "configs_by_dataset_method = defaultdict(lambda:defaultdict(list))\n",
    "for conf in configs.values():\n",
    "    configs_by_dataset_method[conf[\"dataset\"]][conf[\"method\"]].append(conf)"
   ]
  },
  {
   "cell_type": "code",
   "execution_count": 35,
   "metadata": {},
   "outputs": [],
   "source": [
    "\n",
    "# get average accs (by val loss) for each experiment\n",
    "acc_results = defaultdict(lambda:defaultdict(list))\n",
    "for ds_name, method_dict in configs_by_dataset_method.items():\n",
    "    for method_name, exps in method_dict.items():\n",
    "        acc_results[ds_name][method_name] = get_acc_results(\n",
    "            exps, model_selection=\"val_loss\", acc_metric=\"val_source_acc\", verbose=True\n",
    "        )\n",
    "\n",
    "\n",
    "# load results \n",
    "# compute mean source acc "
   ]
  },
  {
   "cell_type": "code",
   "execution_count": 36,
   "metadata": {},
   "outputs": [],
   "source": [
    "FIGSIZE = (3., 2.5)\n",
    "FONTSIZE = 12\n",
    "TICK_FONTSIZE = 10\n",
    "\n",
    "def plot_acc_results_grid(\n",
    "    results_dict: dict,\n",
    "    nrows: int = 2,\n",
    "    ncols: int = 3,\n",
    "    ignored_loss_types: list[str] = [],\n",
    "    figsize: tuple[float, float] = (9, 6),\n",
    "    ylim: tuple[float, float] = (0.5, 1.0),\n",
    "    fontsize: int = FONTSIZE,\n",
    "    tick_fontsize: int = TICK_FONTSIZE,\n",
    "    xlabel: str = \"Mix Rate\",\n",
    "    ylabel: str = \"Accuracy\",\n",
    "    dataset_titles: dict[str, str] = {},\n",
    "):\n",
    "    fig, axes = plt.subplots(nrows, ncols, figsize=figsize)\n",
    "    axes = axes.flatten()\n",
    "    \n",
    "    for idx, (ds_name, method_dict) in enumerate(results_dict.items()):\n",
    "        ax = axes[idx]\n",
    "        \n",
    "        for loss_type, loss_results in method_dict.items():\n",
    "            if loss_type in ignored_loss_types:\n",
    "                continue\n",
    "            \n",
    "            if isinstance(loss_type, LossType):\n",
    "                loss_type = loss_type.name \n",
    "            \n",
    "            if loss_type == LossType.ERM.name:\n",
    "                results = [r for result in loss_results.values() for r in result]\n",
    "                means = [np.mean(results) for _ in range(len(MIX_RATES))]\n",
    "                stds = [np.std(results) for _ in range(len(MIX_RATES))]\n",
    "                line_style = '--'\n",
    "                marker = None\n",
    "            else:\n",
    "                means = [np.mean(loss_results[mix_rate]) for mix_rate in MIX_RATES]\n",
    "                stds = [np.std(loss_results[mix_rate]) for mix_rate in MIX_RATES]\n",
    "                line_style = '-'\n",
    "                marker = 'o'\n",
    "            \n",
    "            ax.plot(MIX_RATES, means, label=loss_type, marker=marker, linestyle=line_style)\n",
    "            ax.fill_between(MIX_RATES, \n",
    "                          [m - s for m, s in zip(means, stds)],\n",
    "                          [m + s for m, s in zip(means, stds)],\n",
    "                          alpha=0.2)\n",
    "\n",
    "        x_labels = [str(mix_rate) for mix_rate in MIX_RATES]\n",
    "        ax.set_xticks(MIX_RATES)\n",
    "        ax.set_xticklabels(x_labels, fontsize=tick_fontsize)\n",
    "        ax.tick_params(axis='both', labelsize=tick_fontsize)\n",
    "        title = dataset_titles.get(ds_name, ds_name) if dataset_titles else ds_name\n",
    "        ax.set_title(title, fontsize=fontsize)\n",
    "        ax.set_ylim(*ylim)\n",
    "        ax.spines['top'].set_visible(False)\n",
    "        ax.spines['right'].set_visible(False)\n",
    "\n",
    "    # Add a single legend for the entire figure\n",
    "    handles, labels = axes[0].get_lines(), [line.get_label() for line in axes[0].get_lines()]\n",
    "    fig.legend(handles, labels, loc='center', bbox_to_anchor=(0.5, 1.05), ncol=len(methods))\n",
    "\n",
    "    fig.supxlabel(xlabel, fontsize=fontsize)\n",
    "    fig.supylabel(ylabel, fontsize=fontsize)\n",
    "    \n",
    "    fig.tight_layout()\n",
    "    return fig, axes\n",
    "\n",
    "dataset_titles = {\n",
    "    \"toy_grid\": \"Toy Grid\",\n",
    "    \"fmnist_mnist\": \"FMNIST+MNIST\",\n",
    "    \"cifar_mnist\": \"CIFAR+MNIST\",\n",
    "    \"waterbirds\": \"Waterbirds\",\n",
    "    \"celebA-0\": \"CelebA\",\n",
    "    \"multi-nli\": \"MultiNLI\"\n",
    "}"
   ]
  },
  {
   "cell_type": "code",
   "execution_count": 37,
   "metadata": {},
   "outputs": [],
   "source": [
    "acc_results[\"cifar_mnist\"] = dict(acc_results[\"cifar_mnist\"])"
   ]
  },
  {
   "cell_type": "code",
   "execution_count": 38,
   "metadata": {},
   "outputs": [
    {
     "data": {
      "text/plain": [
       "(<Figure size 900x600 with 6 Axes>,\n",
       " array([<Axes: title={'center': 'cifar_mnist'}>,\n",
       "        <Axes: title={'center': 'fmnist_mnist'}>,\n",
       "        <Axes: title={'center': 'waterbirds'}>,\n",
       "        <Axes: title={'center': 'celebA-0'}>,\n",
       "        <Axes: title={'center': 'toy_grid'}>, <Axes: >], dtype=object))"
      ]
     },
     "execution_count": 38,
     "metadata": {},
     "output_type": "execute_result"
    },
    {
     "data": {
      "image/png": "[encoded data removed]",
      "text/plain": [
       "<Figure size 900x600 with 6 Axes>"
      ]
     },
     "metadata": {},
     "output_type": "display_data"
    }
   ],
   "source": [
    "plot_acc_results_grid(acc_results)"
   ]
  },
  {
   "cell_type": "code",
   "execution_count": 10,
   "metadata": {},
   "outputs": [
    {
     "data": {
      "text/plain": [
       "defaultdict(<function __main__.<lambda>()>,\n",
       "            {'cifar_mnist': defaultdict(list,\n",
       "                         {'TopK 0.5': {0.1: [0.98046875, 0.99609375, 1.0],\n",
       "                           0.25: [0.90234375, 0.9609375, 0.99609375],\n",
       "                           0.5: [1.0, 0.99609375, 1.0],\n",
       "                           0.75: [1.0, 1.0, 1.0],\n",
       "                           1.0: [1.0, 1.0, 1.0]},\n",
       "                          'TopK 0.1': {0.1: [0.98828125, 0.90625, 1.0],\n",
       "                           0.25: [1.0, 1.0, 0.9453125],\n",
       "                           0.5: [1.0, 0.984375, 1.0],\n",
       "                           0.75: [0.9921875, 1.0, 0.95703125],\n",
       "                           1.0: [1.0, 0.98828125, 1.0]}}),\n",
       "             'fmnist_mnist': defaultdict(list,\n",
       "                         {'TopK 0.5': {0.1: [0.828125, 1.0, 1.0],\n",
       "                           0.25: [0.9765625, 0.96875, 0.9921875],\n",
       "                           0.5: [1.0, 1.0, 0.953125],\n",
       "                           0.75: [1.0, 1.0, 1.0],\n",
       "                           1.0: [1.0, 1.0, 1.0]},\n",
       "                          'TopK 0.1': {0.1: [1.0, 0.98046875, 0.98828125],\n",
       "                           0.25: [1.0, 1.0, 1.0],\n",
       "                           0.5: [1.0, 1.0, 1.0],\n",
       "                           0.75: [1.0, 1.0, 1.0],\n",
       "                           1.0: [1.0, 1.0, 1.0]}}),\n",
       "             'waterbirds': defaultdict(list,\n",
       "                         {'TopK 0.5': {0.1: [0.943965494632721,\n",
       "                            0.9256465435028076,\n",
       "                            0.9299569129943848],\n",
       "                           0.25: [0.9450430870056152,\n",
       "                            0.9655172228813171,\n",
       "                            0.962284505367279],\n",
       "                           0.5: [0.9579741358757019,\n",
       "                            0.9579741358757019,\n",
       "                            0.9719827771186829],\n",
       "                           0.75: [0.9719827771186829,\n",
       "                            0.982758641242981,\n",
       "                            0.9698275923728943],\n",
       "                           1.0: [0.9773706793785095,\n",
       "                            0.9709051847457886,\n",
       "                            0.96875]},\n",
       "                          'TopK 0.1': {0.1: [0.9558189511299133,\n",
       "                            0.951508641242981,\n",
       "                            0.9558189511299133],\n",
       "                           0.25: [0.9655172228813171,\n",
       "                            0.954741358757019,\n",
       "                            0.9504310488700867],\n",
       "                           0.5: [0.954741358757019, 0.96875, 0.96875],\n",
       "                           0.75: [0.975215494632721,\n",
       "                            0.975215494632721,\n",
       "                            0.9773706793785095],\n",
       "                           1.0: [0.9665948152542114,\n",
       "                            0.9784482717514038,\n",
       "                            0.9601293206214905]}}),\n",
       "             'celebA-0': defaultdict(list,\n",
       "                         {'TopK 0.5': {0.1: [0.9709781408309937,\n",
       "                            0.9519830942153931,\n",
       "                            0.9849599003791809],\n",
       "                           0.25: [0.9811162948608398,\n",
       "                            0.9773841500282288,\n",
       "                            0.9534870982170105],\n",
       "                           0.5: [0.9957664608955383,\n",
       "                            0.9667446613311768,\n",
       "                            0.9788881540298462],\n",
       "                           0.75: [0.9884692430496216,\n",
       "                            0.9958221912384033,\n",
       "                            0.9934269189834595],\n",
       "                           1.0: [0.9945967197418213,\n",
       "                            0.9895833134651184,\n",
       "                            0.992591381072998]},\n",
       "                          'TopK 0.1': {0.1: [0.9525400996208191,\n",
       "                            0.9441844820976257,\n",
       "                            0.9748774766921997],\n",
       "                           0.25: [0.9931483864784241,\n",
       "                            0.9860739707946777,\n",
       "                            0.9883578419685364],\n",
       "                           0.5: [0.9674131274223328,\n",
       "                            0.9874109029769897,\n",
       "                            0.989360511302948],\n",
       "                           0.75: [0.9783868193626404,\n",
       "                            0.9940953850746155,\n",
       "                            0.9797236919403076],\n",
       "                           1.0: [0.99058598279953,\n",
       "                            0.9922014474868774,\n",
       "                            0.9730392098426819]}})})"
      ]
     },
     "execution_count": 10,
     "metadata": {},
     "output_type": "execute_result"
    }
   ],
   "source": [
    "acc_results"
   ]
  },
  {
   "cell_type": "code",
   "execution_count": null,
   "metadata": {},
   "outputs": [],
   "source": [
    "# cross referencing the test accuracy, the heuristic of \"highest mix rate that doesn't hurt source acc\" \n",
    "# seems pretty reasonable\n",
    "\n",
    "# in order to do this efficiently, probably wouldn't be able to hyperparameter tune aux weight for all assumed mix rates\n",
    "# well no you could just hyperparameter tune over both, then pick mix rate and optimize over aux weight"
   ]
  },
  {
   "cell_type": "code",
   "execution_count": null,
   "metadata": {},
   "outputs": [],
   "source": [
    "# ok to experiment with this, we want to \n",
    "# I guess do larger mix rate sweep (intervals of 0.1) using reasonable aux weight values based on prior searches\n",
    "# for each \"actual\" mix rate, pick the assumed mix rate that satisifies the heuristic \n",
    "    # probably should formalize the heuristic as \"mean source acc within one standard deviation of ERM source acc\""
   ]
  },
  {
   "cell_type": "code",
   "execution_count": null,
   "metadata": {},
   "outputs": [],
   "source": [
    "# ok I think I have everything, just need to think about target of final output\n",
    "\n",
    "# plot source acc and test acc in two columns for each method\n",
    "# plot peformance of selected mix rate topk compared to mix rates and other methods\n",
    "# plot correlation between source acc dif (with ERM) and max(assumed mix rate - mix_rate, 0) (expecting positive)\n",
    "\n",
    "# ok seems good"
   ]
  }
 ],
 "metadata": {
  "kernelspec": {
   "display_name": "od_3_10",
   "language": "python",
   "name": "python3"
  },
  "language_info": {
   "codemirror_mode": {
    "name": "ipython",
    "version": 3
   },
   "file_extension": ".py",
   "mimetype": "text/x-python",
   "name": "python",
   "nbconvert_exporter": "python",
   "pygments_lexer": "ipython3",
   "version": "3.10.15"
  }
 },
 "nbformat": 4,
 "nbformat_minor": 2
}
