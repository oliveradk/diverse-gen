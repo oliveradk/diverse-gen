{
 "cells": [
  {
   "cell_type": "code",
   "execution_count": 1,
   "metadata": {},
   "outputs": [],
   "source": [
    "# ok maybe we just quasi-randomly sample mix rates, then can plot countor \n",
    "\n",
    "# do this for all the toy datasets and waterbirds \n",
    "\n",
    "# later we can do it for celebA-0 and multi-nli with mix rate 0.5 "
   ]
  },
  {
   "cell_type": "code",
   "execution_count": 2,
   "metadata": {},
   "outputs": [],
   "source": [
    "import os \n",
    "os.chdir(\"/nas/ucb/oliveradk/diverse-gen/\")"
   ]
  },
  {
   "cell_type": "code",
   "execution_count": 4,
   "metadata": {},
   "outputs": [],
   "source": [
    "from itertools import product\n",
    "from pathlib import Path\n",
    "from datetime import datetime\n",
    "\n",
    "import optuna\n",
    "\n",
    "from losses.loss_types import LossType\n",
    "from utils.exp_utils import get_study_args_dict, get_executor, run_experiments\n",
    "from run_study import get_storage_path"
   ]
  },
  {
   "cell_type": "code",
   "execution_count": 11,
   "metadata": {},
   "outputs": [],
   "source": [
    "N_TRIALS = 32\n",
    "N_STARTUP_TRIALS = 8\n",
    "NODES_PER_STUDY = 8\n",
    "SAMPLER = \"quasi-random\"\n",
    "STUDY_SCRIPT_NAME = \"run_study.py\"\n",
    "\n",
    "SCRIPT_NAME = \"spur_corr_exp.py\"\n",
    "HPARM_PARENT_DIR = Path(\"output/cc_mix_rate_sweep\")\n",
    "HPARAM_DIR_NAME = None\n",
    "\n",
    "if HPARAM_DIR_NAME is None:\n",
    "    hparam_dir_name = datetime.now().strftime('%Y-%m-%d_%H-%M-%S')\n",
    "    hparam_dir = Path(HPARM_PARENT_DIR, hparam_dir_name)\n",
    "    hparam_dir.mkdir(exist_ok=True, parents=True)\n",
    "else:\n",
    "    hparam_dir = Path(HPARM_PARENT_DIR, HPARAM_DIR_NAME)"
   ]
  },
  {
   "cell_type": "code",
   "execution_count": 6,
   "metadata": {},
   "outputs": [],
   "source": [
    "MIX_RATES = [0.1, 0.25, 0.5, 0.75, 1.0]\n",
    "\n",
    "# using aux weight 1.0 for now\n",
    "\n",
    "env_configs = {\n",
    "    \"toy_grid\": {\"dataset\": \"toy_grid\", \"model\": \"toy_model\", \"epochs\": 100, \"batch_size\": 32, \"target_batch_size\": 128, \"lr\": 1e-3, \"optimizer\": \"sgd\"},\n",
    "    \"fmnist_mnist\": {\"dataset\": \"fmnist_mnist\", \"model\": \"Resnet50\", \"epochs\": 5},\n",
    "    \"cifar_mnist\": {\"dataset\": \"cifar_mnist\", \"model\": \"Resnet50\", \"epochs\": 5},\n",
    "    \"waterbirds\": {\"dataset\": \"waterbirds\", \"model\": \"Resnet50\", \"epochs\": 5},\n",
    "#     \"celebA-0\": {\"dataset\": \"celebA-0\", \"model\": \"Resnet50\", \"epochs\": 5},\n",
    "#     \"multi-nli\": {\"dataset\": \"multi-nli\", \"model\": \"bert\", \"epochs\": 1, \"lr\": 1e-5, \"combine_neut_entail\": True, \"contra_no_neg\": True},\n",
    "}\n",
    "\n",
    "hparam_map = {\n",
    "    \"mix_rate_lower_bound_01\": {\"type\": \"float\", \"range\": (0, 1), \"log\": False},\n",
    "    \"mix_rate_lower_bound_10\": {\"type\": \"float\", \"range\": (0, 1), \"log\": False},\n",
    "}\n",
    "\n",
    "def partition_ranges(hparam_map, n_partitions):\n",
    "    for i in range(n_partitions):\n",
    "        new_hparam_map = {}\n",
    "        for param_name, param_info in hparam_map.items():\n",
    "            new_param_info = {**param_info}\n",
    "            param_range = param_info[\"range\"]\n",
    "            param_step = (param_range[1] - param_range[0]) / n_partitions\n",
    "            param_values = (param_range[0] + i * param_step, param_range[0] + (i + 1) * param_step)\n",
    "            new_param_info[\"range\"] = param_values\n",
    "            new_hparam_map[param_name] = new_param_info\n",
    "        yield new_hparam_map\n",
    "\n",
    "configs = list(product(env_configs.items(), MIX_RATES))\n",
    "\n",
    "dataset_to_mem_gb = {\n",
    "    \"toy_grid\": 16,\n",
    "    \"fmnist_mnist\": 16,\n",
    "    \"cifar_mnist\": 16,\n",
    "    \"waterbirds\": 16,\n",
    "    \"celebA-0\": 32,\n",
    "    \"multi-nli\": 32,\n",
    "}\n",
    "\n",
    "def get_study_name(env_name, mix_rate):\n",
    "    return f\"{env_name}_{mix_rate}\"\n"
   ]
  },
  {
   "cell_type": "code",
   "execution_count": 12,
   "metadata": {},
   "outputs": [],
   "source": [
    "for (env_name, env_config), mix_rate in configs: \n",
    "    # get configs\n",
    "    conf = {**env_config, \"mix_rate\": mix_rate}\n",
    "    study_name = get_study_name(env_name, mix_rate)\n",
    "    study_dir = Path(hparam_dir, study_name)\n",
    "    study_dir.mkdir(exist_ok=True, parents=True)\n",
    "    \n",
    "    # # create study (must create it here to nodes don't conflict)\n",
    "    # study = optuna.create_study(study_name=study_name, storage=get_storage_path(study_dir), direction=\"minimize\", load_if_exists=True)  \n",
    "    \n",
    "    # run study\n",
    "    n_trials_per_node = N_TRIALS // NODES_PER_STUDY\n",
    "    n_startup_trials_per_node = N_STARTUP_TRIALS // NODES_PER_STUDY\n",
    "    cmds = [\n",
    "        {\n",
    "            **get_study_args_dict(conf, SCRIPT_NAME, hparams, n_trials_per_node, n_startup_trials_per_node, study_name, study_dir), \n",
    "            \"sampler_seed\": i, \n",
    "            \"sampler_type\": SAMPLER\n",
    "        } for i, hparams in zip(range(NODES_PER_STUDY), partition_ranges(hparam_map, NODES_PER_STUDY))\n",
    "    ]\n",
    "    executor = get_executor(study_dir, mem_gb=dataset_to_mem_gb[env_name], slurm_array_parallelism=NODES_PER_STUDY)\n",
    "\n",
    "    jobs = run_experiments(executor, cmds, STUDY_SCRIPT_NAME)"
   ]
  },
  {
   "cell_type": "code",
   "execution_count": null,
   "metadata": {},
   "outputs": [],
   "source": [
    "# ok I think I have everything, just need to think about target of final output\n",
    "\n",
    "# plot source acc and test acc in two columns for each method\n",
    "# plot peformance of selected mix rate topk compared to mix rates and other methods\n",
    "# plot correlation between source acc dif (with ERM) and max(assumed mix rate - mix_rate, 0) (expecting positive)\n",
    "\n",
    "# ok seems good"
   ]
  }
 ],
 "metadata": {
  "kernelspec": {
   "display_name": "od_3_10",
   "language": "python",
   "name": "python3"
  },
  "language_info": {
   "codemirror_mode": {
    "name": "ipython",
    "version": 3
   },
   "file_extension": ".py",
   "mimetype": "text/x-python",
   "name": "python",
   "nbconvert_exporter": "python",
   "pygments_lexer": "ipython3",
   "version": "3.10.15"
  }
 },
 "nbformat": 4,
 "nbformat_minor": 2
}
