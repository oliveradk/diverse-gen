{
 "cells": [
  {
   "cell_type": "code",
   "execution_count": null,
   "metadata": {},
   "outputs": [],
   "source": [
    "# ok what are we thinking here? \n",
    "# some ideas \n",
    "# can identify mix rate based on agreement in the mix rate groups across seeds\n",
    "# # in other words, in the target training set, for a given set of classifiers, whats the \n",
    "    # probability that another set of classifiers agree that an instance caused disagreement \n",
    "    # need to think abotu ahow to aggregate this and other possibel metrics"
   ]
  }
 ],
 "metadata": {
  "language_info": {
   "name": "python"
  }
 },
 "nbformat": 4,
 "nbformat_minor": 2
}
