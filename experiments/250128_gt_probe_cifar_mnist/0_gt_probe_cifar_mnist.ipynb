{
 "cells": [
  {
   "cell_type": "code",
   "execution_count": 3,
   "metadata": {},
   "outputs": [],
   "source": [
    "# set cuda visible devices\n",
    "def is_notebook() -> bool:\n",
    "    try:\n",
    "        shell = get_ipython().__class__.__name__\n",
    "        if shell == 'ZMQInteractiveShell':\n",
    "            return True   # Jupyter notebook or qtconsole\n",
    "        elif shell == 'TerminalInteractiveShell':\n",
    "            return False  # Terminal running IPython\n",
    "        else:\n",
    "            return False  # Other type (?)\n",
    "    except NameError:\n",
    "        return False      # Probably standard Python interpreter\n",
    "\n",
    "import os\n",
    "if is_notebook():\n",
    "    os.environ[\"CUDA_VISIBLE_DEVICES\"] = \"1\" #\"1\"\n",
    "    # os.environ['CUDA_LAUNCH_BLOCKING']=\"1\"\n",
    "    # os.environ['TORCH_USE_CUDA_DSA'] = \"1\"\n",
    "os.chdir(\"/nas/ucb/oliveradk/diverse-gen/\")\n",
    "\n",
    "import matplotlib \n",
    "if not is_notebook():\n",
    "    matplotlib.use('Agg')"
   ]
  },
  {
   "cell_type": "code",
   "execution_count": 4,
   "metadata": {},
   "outputs": [
    {
     "name": "stderr",
     "output_type": "stream",
     "text": [
      "/nas/ucb/oliveradk/miniforge3/envs/od_3_10/lib/python3.10/site-packages/tqdm/auto.py:21: TqdmWarning: IProgress not found. Please update jupyter and ipywidgets. See https://ipywidgets.readthedocs.io/en/stable/user_install.html\n",
      "  from .autonotebook import tqdm as notebook_tqdm\n"
     ]
    }
   ],
   "source": [
    "import os\n",
    "import math\n",
    "import json\n",
    "import random as rnd\n",
    "from typing import Optional, Callable\n",
    "from tqdm import tqdm\n",
    "from collections import defaultdict\n",
    "from functools import partial\n",
    "from datetime import datetime\n",
    "from dataclasses import dataclass \n",
    "from itertools import product\n",
    "\n",
    "from omegaconf import OmegaConf\n",
    "import numpy as np\n",
    "import torch\n",
    "import torch.nn as nn\n",
    "import torch.nn.functional as F\n",
    "from torch.utils.data import DataLoader, Dataset, random_split, TensorDataset\n",
    "import matplotlib.pyplot as plt\n",
    "import pandas as  pd\n",
    "import torchvision.utils as vision_utils\n",
    "from PIL import Image\n",
    "import torchvision\n",
    "from torchvision import transforms\n",
    "from matplotlib.ticker import NullFormatter\n",
    "from sklearn.decomposition import PCA\n",
    "\n",
    "from losses.divdis import DivDisLoss \n",
    "from losses.divdis import DivDisLoss\n",
    "from losses.ace import ACELoss\n",
    "from losses.conf import ConfLoss\n",
    "from losses.dbat import DBatLoss\n",
    "from losses.pass_through import PassThroughLoss\n",
    "from losses.smooth_top_loss import SmoothTopLoss\n",
    "from losses.loss_types import LossType\n",
    "\n",
    "from models.backbone import MultiHeadBackbone\n",
    "from models.multi_model import MultiNetModel, freeze_heads\n",
    "from models.lenet import LeNet\n",
    "\n",
    "from spurious_datasets.cifar_mnist import get_cifar_mnist_datasets\n",
    "from spurious_datasets.fmnist_mnist import get_fmnist_mnist_datasets\n",
    "from spurious_datasets.toy_grid import get_toy_grid_datasets\n",
    "from spurious_datasets.waterbirds import get_waterbirds_datasets\n",
    "from spurious_datasets.cub import get_cub_datasets\n",
    "from spurious_datasets.camelyon import get_camelyon_datasets\n",
    "from spurious_datasets.multi_nli import get_multi_nli_datasets\n",
    "from spurious_datasets.civil_comments import get_civil_comments_datasets\n",
    "from spurious_datasets.celebA import get_celebA_datasets\n",
    "\n",
    "from utils.utils import to_device, batch_size, feature_label_ls\n",
    "from utils.logger import Logger\n",
    "from utils.act_utils import get_acts_and_labels, plot_activations, compute_probe_acc"
   ]
  },
  {
   "cell_type": "code",
   "execution_count": 7,
   "metadata": {},
   "outputs": [
    {
     "name": "stdout",
     "output_type": "stream",
     "text": [
      "Files already downloaded and verified\n",
      "Files already downloaded and verified\n"
     ]
    },
    {
     "name": "stderr",
     "output_type": "stream",
     "text": [
      "/nas/ucb/oliveradk/diverse-gen/spurious_datasets/dominos.py:41: FutureWarning: You are using `torch.load` with `weights_only=False` (the current default value), which uses the default pickle module implicitly. It is possible to construct malicious pickle data which will execute arbitrary code during unpickling (See https://github.com/pytorch/pytorch/blob/main/SECURITY.md#untrusted-models for more details). In a future release, the default value for `weights_only` will be flipped to `True`. This limits the functions that could be executed during unpickling. Arbitrary objects will no longer be allowed to be loaded via this mode unless they are explicitly allowlisted by the user via `torch.serialization.add_safe_globals`. We recommend you start setting `weights_only=True` for any use case where you don't have full control of the loaded file. Please open an issue on GitHub for any issues related to this experimental feature.\n",
      "  return torch.load(dataset_path)\n"
     ]
    }
   ],
   "source": [
    "mix_rate = 0.5\n",
    "device = \"cuda\"\n",
    "\n",
    "\n",
    "from torchvision import models\n",
    "from torchvision.models.resnet import ResNet50_Weights\n",
    "resnet_builder = lambda: models.resnet50(weights=ResNet50_Weights.IMAGENET1K_V1)    \n",
    "model_builder = lambda: torch.nn.Sequential(*list(resnet_builder().children())[:-1])\n",
    "resnet_50_transforms = ResNet50_Weights.IMAGENET1K_V1.transforms()\n",
    "model_transform = transforms.Compose([\n",
    "    transforms.Resize(resnet_50_transforms.resize_size * 2, interpolation=resnet_50_transforms.interpolation),\n",
    "    transforms.CenterCrop(resnet_50_transforms.crop_size),\n",
    "    transforms.Normalize(mean=resnet_50_transforms.mean, std=resnet_50_transforms.std)\n",
    "])\n",
    "feature_dim = 2048\n",
    "model = model_builder().to(device)"
   ]
  },
  {
   "cell_type": "code",
   "execution_count": null,
   "metadata": {},
   "outputs": [],
   "source": [
    "\n",
    "source_train, source_val, target_train, target_val, target_test = get_cifar_mnist_datasets(\n",
    "        target_mix_rate_0_1= mix_rate / 2,\n",
    "        target_mix_rate_1_0= mix_rate / 2, \n",
    "        transform=model_transform, \n",
    "        pad_sides=True\n",
    "    )"
   ]
  },
  {
   "cell_type": "code",
   "execution_count": 13,
   "metadata": {},
   "outputs": [],
   "source": [
    "batch_size = 64\n",
    "source_train_loader = DataLoader(source_train, batch_size=batch_size, shuffle=True, num_workers=4)\n",
    "source_val_loader = DataLoader(source_val, batch_size=batch_size, shuffle=False, num_workers=4)\n",
    "target_train_loader = DataLoader(target_train, batch_size=batch_size, shuffle=True, num_workers=4)\n",
    "target_val_loader = DataLoader(target_val, batch_size=batch_size, shuffle=False, num_workers=4)\n",
    "target_test_loader = DataLoader(target_test, batch_size=batch_size, shuffle=False, num_workers=4)\n"
   ]
  },
  {
   "cell_type": "code",
   "execution_count": 18,
   "metadata": {},
   "outputs": [
    {
     "data": {
      "text/plain": [
       "(torch.Size([3472, 2]), torch.Size([980, 2]))"
      ]
     },
     "execution_count": 18,
     "metadata": {},
     "output_type": "execute_result"
    }
   ],
   "source": [
    "train_labels.shape, test_labels.shape"
   ]
  },
  {
   "cell_type": "code",
   "execution_count": 20,
   "metadata": {},
   "outputs": [
    {
     "name": "stderr",
     "output_type": "stream",
     "text": [
      " 38%|███▊      | 21/55 [00:03<00:04,  6.86it/s]\n"
     ]
    },
    {
     "ename": "KeyboardInterrupt",
     "evalue": "",
     "output_type": "error",
     "traceback": [
      "\u001b[0;31m---------------------------------------------------------------------------\u001b[0m",
      "\u001b[0;31mKeyboardInterrupt\u001b[0m                         Traceback (most recent call last)",
      "Cell \u001b[0;32mIn[20], line 1\u001b[0m\n\u001b[0;32m----> 1\u001b[0m train_acts, train_labels \u001b[38;5;241m=\u001b[39m \u001b[43mget_acts_and_labels\u001b[49m\u001b[43m(\u001b[49m\u001b[43mmodel\u001b[49m\u001b[43m,\u001b[49m\u001b[43m \u001b[49m\u001b[43mtarget_train_loader\u001b[49m\u001b[43m,\u001b[49m\u001b[43m \u001b[49m\u001b[43mdevice\u001b[49m\u001b[43m)\u001b[49m\n\u001b[1;32m      2\u001b[0m test_acts, test_labels \u001b[38;5;241m=\u001b[39m get_acts_and_labels(model, target_test_loader, device)\n",
      "Cell \u001b[0;32mIn[19], line 22\u001b[0m, in \u001b[0;36mget_acts_and_labels\u001b[0;34m(model, loader, device)\u001b[0m\n\u001b[1;32m     20\u001b[0m         x, y, gl \u001b[38;5;241m=\u001b[39m to_device(x, y, gl, device)\n\u001b[1;32m     21\u001b[0m         acts \u001b[38;5;241m=\u001b[39m model(x)\n\u001b[0;32m---> 22\u001b[0m         activations\u001b[38;5;241m.\u001b[39mappend(\u001b[43macts\u001b[49m\u001b[38;5;241;43m.\u001b[39;49m\u001b[43mcpu\u001b[49m\u001b[43m(\u001b[49m\u001b[43m)\u001b[49m)\n\u001b[1;32m     23\u001b[0m         labels\u001b[38;5;241m.\u001b[39mappend(gl)\n\u001b[1;32m     24\u001b[0m activations \u001b[38;5;241m=\u001b[39m torch\u001b[38;5;241m.\u001b[39mcat(activations, dim\u001b[38;5;241m=\u001b[39m\u001b[38;5;241m0\u001b[39m)\u001b[38;5;241m.\u001b[39msqueeze()\n",
      "\u001b[0;31mKeyboardInterrupt\u001b[0m: "
     ]
    }
   ],
   "source": [
    "\n",
    "train_acts, train_labels = get_acts_and_labels(model, target_train_loader, device)\n",
    "test_acts, test_labels = get_acts_and_labels(model, target_test_loader, device)"
   ]
  },
  {
   "cell_type": "code",
   "execution_count": 21,
   "metadata": {},
   "outputs": [
    {
     "name": "stderr",
     "output_type": "stream",
     "text": [
      "/nas/ucb/oliveradk/miniforge3/envs/od_3_10/lib/python3.10/site-packages/sklearn/linear_model/_logistic.py:1256: FutureWarning: 'multi_class' was deprecated in version 1.5 and will be removed in 1.7. Use OneVsRestClassifier(LogisticRegression(..)) instead. Leave it to its default value to avoid this warning.\n",
      "  warnings.warn(\n"
     ]
    },
    {
     "name": "stdout",
     "output_type": "stream",
     "text": [
      "Probe accuracy: 0.84\n",
      "Probe accuracy alt: 1.00\n"
     ]
    },
    {
     "name": "stderr",
     "output_type": "stream",
     "text": [
      "/nas/ucb/oliveradk/miniforge3/envs/od_3_10/lib/python3.10/site-packages/sklearn/linear_model/_logistic.py:1256: FutureWarning: 'multi_class' was deprecated in version 1.5 and will be removed in 1.7. Use OneVsRestClassifier(LogisticRegression(..)) instead. Leave it to its default value to avoid this warning.\n",
      "  warnings.warn(\n"
     ]
    }
   ],
   "source": [
    "probe_acc, probe_acc_alt = compute_probe_acc(train_acts, train_labels, test_acts, test_labels, classes_per_feat=[2,2])\n",
    "print(f\"Probe accuracy: {probe_acc:.2f}\")\n",
    "print(f\"Probe accuracy alt: {probe_acc_alt:.2f}\")"
   ]
  },
  {
   "cell_type": "code",
   "execution_count": null,
   "metadata": {},
   "outputs": [],
   "source": [
    "# TODO: integrate proper train / test split into main codebase, de-risk on one run, then just rerun \n",
    "# cifar-mnist (in new directory) and plot probe accuracy over epochs"
   ]
  }
 ],
 "metadata": {
  "kernelspec": {
   "display_name": "od_3_10",
   "language": "python",
   "name": "python3"
  },
  "language_info": {
   "codemirror_mode": {
    "name": "ipython",
    "version": 3
   },
   "file_extension": ".py",
   "mimetype": "text/x-python",
   "name": "python",
   "nbconvert_exporter": "python",
   "pygments_lexer": "ipython3",
   "version": "3.10.15"
  }
 },
 "nbformat": 4,
 "nbformat_minor": 2
}
