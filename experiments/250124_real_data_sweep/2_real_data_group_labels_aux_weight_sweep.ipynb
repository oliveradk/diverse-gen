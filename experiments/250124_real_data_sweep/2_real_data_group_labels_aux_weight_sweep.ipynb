{
 "cells": [
  {
   "cell_type": "code",
   "execution_count": 1,
   "metadata": {},
   "outputs": [],
   "source": [
    "# set cuda visible devices\n",
    "def is_notebook() -> bool:\n",
    "    try:\n",
    "        shell = get_ipython().__class__.__name__\n",
    "        if shell == 'ZMQInteractiveShell':\n",
    "            return True   # Jupyter notebook or qtconsole\n",
    "        elif shell == 'TerminalInteractiveShell':\n",
    "            return False  # Terminal running IPython\n",
    "        else:\n",
    "            return False  # Other type (?)\n",
    "    except NameError:\n",
    "        return False      # Probably standard Python interpreter\n",
    "\n",
    "import os\n",
    "if is_notebook():\n",
    "    os.environ[\"CUDA_VISIBLE_DEVICES\"] = \"\" #\"1\"\n",
    "    # os.environ['CUDA_LAUNCH_BLOCKING']=\"1\"\n",
    "    # os.environ['TORCH_USE_CUDA_DSA'] = \"1\"\n",
    "\n",
    "import matplotlib \n",
    "if not is_notebook():\n",
    "    matplotlib.use('Agg')\n",
    "\n",
    "# set directory\n",
    "os.chdir(\"/nas/ucb/oliveradk/diverse-gen/\")"
   ]
  },
  {
   "cell_type": "code",
   "execution_count": 2,
   "metadata": {},
   "outputs": [],
   "source": [
    "# for now incomplete spurious correlation: \n",
    "#   waterbirds\n",
    "\n",
    "# other notebooks:\n",
    "# multi-class classification: \n",
    "#   multi-nli-cc\n",
    "\n",
    "# known group labels\n",
    "# waterbirds (normal)\n",
    "# mulit-nli cc \n"
   ]
  },
  {
   "cell_type": "code",
   "execution_count": 3,
   "metadata": {},
   "outputs": [],
   "source": [
    "from tqdm import tqdm\n",
    "from pathlib import Path\n",
    "from datetime import datetime\n",
    "from itertools import product\n",
    "import json\n",
    "\n",
    "import numpy as np\n",
    "\n",
    "from losses.loss_types import LossType\n",
    "from utils.exp_utils import get_executor, run_experiments"
   ]
  },
  {
   "cell_type": "code",
   "execution_count": 4,
   "metadata": {},
   "outputs": [],
   "source": [
    "SCRIPT_NAME = \"spur_corr_exp.py\"\n",
    "EXP_DIR = \"output/real_data_group_labels_aux_weight_sweep\"\n",
    "n_trials = 32"
   ]
  },
  {
   "cell_type": "code",
   "execution_count": 10,
   "metadata": {},
   "outputs": [],
   "source": [
    "method_configs = {\n",
    "    \"DivDis\": {\"loss_type\": LossType.DIVDIS},\n",
    "    \"TopK 0.1\": {\"loss_type\": LossType.TOPK, \"mix_rate_lower_bound\": 0.1},\n",
    "    \"TopK 0.5\": {\"loss_type\": LossType.TOPK, \"mix_rate_lower_bound\": 0.5},\n",
    "    \"DBAT\": {\"loss_type\": LossType.DBAT, \"shared_backbone\": False, \"freeze_heads\": True, \"binary\": True, \"batch_size\": 16, \"target_batch_size\": 32},\n",
    "}\n",
    "\n",
    "dataset_configs = {\n",
    "    \"waterbirds\": {\"dataset\": \"waterbirds\", \"model\": \"Resnet50\", \"epochs\": 5, \"source_cc\": False, \"use_group_labels\": True},\n",
    "}\n",
    "\n",
    "method_ranges = {\n",
    "    \"DivDis\": {\"aux_weight\": [0, 1]},\n",
    "    \"TopK 0.1\": {\"aux_weight\": [0, 1]},\n",
    "    \"TopK 0.5\": {\"aux_weight\": [-1, 1]},\n",
    "    \"DBAT\": {\"aux_weight\": [-1, 1]},\n",
    "}\n",
    "\n",
    "configs = {\n",
    "    (ds_name, method_name): {**ds_config, **method_config} \n",
    "    for (ds_name, ds_config), (method_name, method_config) in product(dataset_configs.items(), method_configs.items())\n",
    "}\n",
    "\n",
    "\n",
    "sampled_configs = []\n",
    "for (ds_name, method_name), conf in configs.items():\n",
    "    for i in range(n_trials):\n",
    "        sample_range = method_ranges[method_name][\"aux_weight\"]\n",
    "        aux_weight = 10**(np.random.uniform(sample_range[0], sample_range[1]))\n",
    "        seed = np.random.randint(0, 1000000)\n",
    "        conf[\"aux_weight\"] = aux_weight\n",
    "        conf[\"seed\"] = seed\n",
    "        sampled_configs.append(conf)\n",
    "\n",
    "def get_conf_exp_dir(ds_name, method_name, aux_weight):\n",
    "    return Path(EXP_DIR, f\"{ds_name}_{method_name}/{aux_weight}\")\n",
    "\n",
    "for (ds_name, method_name), conf in configs.items():\n",
    "    exp_dir = get_conf_exp_dir(ds_name, method_name, conf[\"aux_weight\"])\n",
    "    conf[\"exp_dir\"] = exp_dir\n",
    "    \n",
    "for conf in configs.values():\n",
    "    conf[\"plot_activations\"] = False"
   ]
  },
  {
   "cell_type": "code",
   "execution_count": null,
   "metadata": {},
   "outputs": [],
   "source": [
    "executor = get_executor(exp_dir, mem_gb=32)\n",
    "jobs = run_experiments(sampled_configs, executor, SCRIPT_NAME)"
   ]
  }
 ],
 "metadata": {
  "kernelspec": {
   "display_name": "od_3_10",
   "language": "python",
   "name": "python3"
  },
  "language_info": {
   "codemirror_mode": {
    "name": "ipython",
    "version": 3
   },
   "file_extension": ".py",
   "mimetype": "text/x-python",
   "name": "python",
   "nbconvert_exporter": "python",
   "pygments_lexer": "ipython3",
   "version": "3.10.15"
  }
 },
 "nbformat": 4,
 "nbformat_minor": 2
}
