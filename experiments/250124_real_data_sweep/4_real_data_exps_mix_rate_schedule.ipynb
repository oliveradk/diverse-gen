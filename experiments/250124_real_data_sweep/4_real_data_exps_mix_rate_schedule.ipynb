{
 "cells": [
  {
   "cell_type": "code",
   "execution_count": 2,
   "metadata": {},
   "outputs": [],
   "source": [
    "import os\n",
    "os.environ[\"CUDA_VISIBLE_DEVICES\"] = \"\" #\"1\"\n",
    "os.chdir(\"/nas/ucb/oliveradk/diverse-gen/\")"
   ]
  },
  {
   "cell_type": "code",
   "execution_count": 3,
   "metadata": {},
   "outputs": [],
   "source": [
    "import json\n",
    "from functools import partial\n",
    "from itertools import product\n",
    "from typing import Optional, Literal, Callable\n",
    "from tqdm import tqdm\n",
    "from collections import defaultdict\n",
    "from dataclasses import dataclass\n",
    "from pathlib import Path\n",
    "from copy import deepcopy\n",
    "from datetime import datetime\n",
    "from collections import defaultdict\n",
    "\n",
    "import submitit\n",
    "from submitit.core.utils import CommandFunction\n",
    "import nevergrad as ng\n",
    "import numpy as np\n",
    "import matplotlib.pyplot as plt\n",
    "import pandas as pd\n",
    "import plotly.graph_objects as go\n",
    "\n",
    "from losses.loss_types import LossType\n",
    "from utils.exp_utils import get_executor, get_executor_local, run_experiments, get_conf_dir\n",
    "from utils.proc_data_utils import get_acc_results\n",
    "from utils.utils import conf_to_args"
   ]
  },
  {
   "cell_type": "code",
   "execution_count": 4,
   "metadata": {},
   "outputs": [],
   "source": [
    "SCRIPT_NAME = \"spur_corr_exp.py\"\n",
    "PARENT_DIR = Path(\"output/real_data_exps\")\n",
    "SUBDIR = \"2025-02-12_20-29-07\" \n",
    "if SUBDIR is None: \n",
    "    SUBDIR = datetime.now().strftime(\"%Y-%m-%d_%H-%M-%S\")\n",
    "EXP_DIR = PARENT_DIR / SUBDIR\n",
    "EXP_DIR.mkdir(parents=True, exist_ok=True)"
   ]
  },
  {
   "cell_type": "code",
   "execution_count": 5,
   "metadata": {},
   "outputs": [],
   "source": [
    "seeds = [1, 2, 3]\n",
    "\n",
    "# TODO: add aux weights based on tuining\n",
    "method_configs = {\n",
    "    \"TopK 0.1\": {\"loss_type\": LossType.TOPK, \"mix_rate_lower_bound\": 0.1, \"aux_weight\": 5, \"mix_rate_schedule\": \"linear\"},\n",
    "    \"TopK 0.5\": {\"loss_type\": LossType.TOPK, \"mix_rate_lower_bound\": 0.5, \"aux_weight\": 3, \"mix_rate_schedule\": \"linear\"},\n",
    "}\n",
    "\n",
    "\n",
    "dataset_configs = {\n",
    "    \"waterbirds\": {\"dataset\": \"waterbirds\", \"model\": \"Resnet50\", \"epochs\": 5, \"source_cc\": False, \"batch_size\": 32, \"target_batch_size\": 64},\n",
    "}\n",
    "\n",
    "for dataset_conf in dataset_configs.values():\n",
    "    dataset_conf[\"mix_rate_t0\"] = 0\n",
    "    dataset_conf[\"mix_rate_t1\"] = dataset_conf[\"epochs\"]\n",
    "\n",
    "\n",
    "\n",
    "configs = {\n",
    "    (ds_name, method_name, seed): {**ds_config, **method_config, \"seed\": seed} \n",
    "    for (ds_name, ds_config), (method_name, method_config) in product(dataset_configs.items(), method_configs.items())\n",
    "    for seed in seeds\n",
    "}\n",
    "    # return f\"{ds}_{method}/{seed}\" # TODO: fix\n",
    "\n",
    "for (ds_name, method_name, seed), conf in configs.items():\n",
    "    exp_dir = get_conf_dir((ds_name, method_name, seed), EXP_DIR)\n",
    "    conf[\"exp_dir\"] = exp_dir"
   ]
  },
  {
   "cell_type": "markdown",
   "metadata": {},
   "source": [
    "# Run Experiments"
   ]
  },
  {
   "cell_type": "code",
   "execution_count": 8,
   "metadata": {},
   "outputs": [],
   "source": [
    "executor = get_executor(EXP_DIR, mem_gb=16)\n",
    "jobs = run_experiments(executor, list(configs.values()), SCRIPT_NAME)"
   ]
  },
  {
   "cell_type": "code",
   "execution_count": 9,
   "metadata": {},
   "outputs": [
    {
     "name": "stdout",
     "output_type": "stream",
     "text": [
      "submitit INFO (2025-02-12 20:29:34,242) - Starting with JobEnvironment(job_id=815333_0, hostname=ppo.ist.berkeley.edu, local_rank=0(1), node=0(1), global_rank=0(1))\n",
      "submitit INFO (2025-02-12 20:29:34,243) - Loading pickle: /nas/ucb/oliveradk/diverse-gen/output/real_data_exps/2025-02-12_20-29-07/815333_0_submitted.pkl\n",
      "The following command is sent: \"python spur_corr_exp.py dataset=waterbirds model=Resnet50 epochs=5 source_cc=False batch_size=32 target_batch_size=64 mix_rate_t0=0 mix_rate_t1=5 loss_type=TOPK mix_rate_lower_bound=0.1 aux_weight=5 mix_rate_schedule=linear seed=1 exp_dir=output/real_data_exps/2025-02-12_20-29-07/waterbirds_TopK 0.1/1\"\n",
      "\n"
     ]
    }
   ],
   "source": [
    "print(jobs[0].stdout())"
   ]
  },
  {
   "cell_type": "markdown",
   "metadata": {},
   "source": [
    "# Plot Results"
   ]
  },
  {
   "cell_type": "code",
   "execution_count": 8,
   "metadata": {},
   "outputs": [],
   "source": [
    "from collections import defaultdict\n",
    "exps_by_method = defaultdict(list)\n",
    "for (ds_name, method_name, seed), conf in configs.items():\n",
    "    exps_by_method[method_name].append(conf)\n",
    "\n",
    "results = {\n",
    "    method_name: get_acc_results(method_exps, model_selection=\"val_loss\", acc_metric=\"test_acc\")\n",
    "    for method_name, method_exps in exps_by_method.items()\n",
    "}\n",
    "\n",
    "results_alt = {\n",
    "    method_name: get_acc_results(method_exps, model_selection=\"val_loss\", acc_metric=\"test_acc_alt\")\n",
    "    for method_name, method_exps in exps_by_method.items()\n",
    "}\n",
    "\n",
    "results_worst = {\n",
    "    method_name: get_acc_results(method_exps, model_selection=\"val_loss\", acc_metric=\"test_worst_acc\")\n",
    "    for method_name, method_exps in exps_by_method.items()\n",
    "}"
   ]
  },
  {
   "cell_type": "code",
   "execution_count": 11,
   "metadata": {},
   "outputs": [
    {
     "data": {
      "text/plain": [
       "({'TopK 0.1': {0.0: [0.8793579339981079,\n",
       "    0.8391439318656921,\n",
       "    0.8886779546737671]},\n",
       "  'TopK 0.5': {0.0: [0.915774941444397,\n",
       "    0.9178460240364075,\n",
       "    0.8921297788619995]}},\n",
       " {'TopK 0.1': {0.0: [0.7359337210655212,\n",
       "    0.7222989201545715,\n",
       "    0.7414566874504089]},\n",
       "  'TopK 0.5': {0.0: [0.8505350351333618,\n",
       "    0.8729720115661621,\n",
       "    0.9035208821296692]}},\n",
       " {'TopK 0.1': {0.0: [0.5841121673583984,\n",
       "    0.41588786244392395,\n",
       "    0.6479750871658325]},\n",
       "  'TopK 0.5': {0.0: [0.7445482611656189,\n",
       "    0.7757009267807007,\n",
       "    0.7429906725883484]}})"
      ]
     },
     "execution_count": 11,
     "metadata": {},
     "output_type": "execute_result"
    }
   ],
   "source": [
    "results, results_alt, results_worst"
   ]
  },
  {
   "cell_type": "code",
   "execution_count": 9,
   "metadata": {},
   "outputs": [
    {
     "ename": "TypeError",
     "evalue": "unsupported operand type(s) for /: 'dict' and 'int'",
     "output_type": "error",
     "traceback": [
      "\u001b[0;31m---------------------------------------------------------------------------\u001b[0m",
      "\u001b[0;31mTypeError\u001b[0m                                 Traceback (most recent call last)",
      "Cell \u001b[0;32mIn[9], line 10\u001b[0m\n\u001b[1;32m      2\u001b[0m df \u001b[38;5;241m=\u001b[39m pd\u001b[38;5;241m.\u001b[39mDataFrame({\n\u001b[1;32m      3\u001b[0m     \u001b[38;5;124m'\u001b[39m\u001b[38;5;124mMethod\u001b[39m\u001b[38;5;124m'\u001b[39m: [],\n\u001b[1;32m      4\u001b[0m     \u001b[38;5;124m'\u001b[39m\u001b[38;5;124mAverage Acc\u001b[39m\u001b[38;5;124m'\u001b[39m: [],\n\u001b[1;32m      5\u001b[0m     \u001b[38;5;124m'\u001b[39m\u001b[38;5;124mAlternative Acc\u001b[39m\u001b[38;5;124m'\u001b[39m: [],\n\u001b[1;32m      6\u001b[0m     \u001b[38;5;124m'\u001b[39m\u001b[38;5;124mWorst-Group Acc\u001b[39m\u001b[38;5;124m'\u001b[39m: []\n\u001b[1;32m      7\u001b[0m })\n\u001b[1;32m      9\u001b[0m \u001b[38;5;28;01mfor\u001b[39;00m method \u001b[38;5;129;01min\u001b[39;00m results\u001b[38;5;241m.\u001b[39mkeys():\n\u001b[0;32m---> 10\u001b[0m     avg_acc \u001b[38;5;241m=\u001b[39m \u001b[38;5;124mf\u001b[39m\u001b[38;5;124m\"\u001b[39m\u001b[38;5;132;01m{\u001b[39;00m\u001b[43mnp\u001b[49m\u001b[38;5;241;43m.\u001b[39;49m\u001b[43mmean\u001b[49m\u001b[43m(\u001b[49m\u001b[43mresults\u001b[49m\u001b[43m[\u001b[49m\u001b[43mmethod\u001b[49m\u001b[43m]\u001b[49m\u001b[43m)\u001b[49m\u001b[38;5;241m*\u001b[39m\u001b[38;5;241m100\u001b[39m\u001b[38;5;132;01m:\u001b[39;00m\u001b[38;5;124m.1f\u001b[39m\u001b[38;5;132;01m}\u001b[39;00m\u001b[38;5;124m ± \u001b[39m\u001b[38;5;132;01m{\u001b[39;00mnp\u001b[38;5;241m.\u001b[39mstd(results[method])\u001b[38;5;241m*\u001b[39m\u001b[38;5;241m100\u001b[39m\u001b[38;5;132;01m:\u001b[39;00m\u001b[38;5;124m.1f\u001b[39m\u001b[38;5;132;01m}\u001b[39;00m\u001b[38;5;124m\"\u001b[39m\n\u001b[1;32m     11\u001b[0m     alt_acc \u001b[38;5;241m=\u001b[39m \u001b[38;5;124mf\u001b[39m\u001b[38;5;124m\"\u001b[39m\u001b[38;5;132;01m{\u001b[39;00mnp\u001b[38;5;241m.\u001b[39mmean(results_alt[method])\u001b[38;5;241m*\u001b[39m\u001b[38;5;241m100\u001b[39m\u001b[38;5;132;01m:\u001b[39;00m\u001b[38;5;124m.1f\u001b[39m\u001b[38;5;132;01m}\u001b[39;00m\u001b[38;5;124m ± \u001b[39m\u001b[38;5;132;01m{\u001b[39;00mnp\u001b[38;5;241m.\u001b[39mstd(results_alt[method])\u001b[38;5;241m*\u001b[39m\u001b[38;5;241m100\u001b[39m\u001b[38;5;132;01m:\u001b[39;00m\u001b[38;5;124m.1f\u001b[39m\u001b[38;5;132;01m}\u001b[39;00m\u001b[38;5;124m\"\u001b[39m\n\u001b[1;32m     12\u001b[0m     worst_acc \u001b[38;5;241m=\u001b[39m \u001b[38;5;124mf\u001b[39m\u001b[38;5;124m\"\u001b[39m\u001b[38;5;132;01m{\u001b[39;00mnp\u001b[38;5;241m.\u001b[39mmean(results_worst[method])\u001b[38;5;241m*\u001b[39m\u001b[38;5;241m100\u001b[39m\u001b[38;5;132;01m:\u001b[39;00m\u001b[38;5;124m.1f\u001b[39m\u001b[38;5;132;01m}\u001b[39;00m\u001b[38;5;124m ± \u001b[39m\u001b[38;5;132;01m{\u001b[39;00mnp\u001b[38;5;241m.\u001b[39mstd(results_worst[method])\u001b[38;5;241m*\u001b[39m\u001b[38;5;241m100\u001b[39m\u001b[38;5;132;01m:\u001b[39;00m\u001b[38;5;124m.1f\u001b[39m\u001b[38;5;132;01m}\u001b[39;00m\u001b[38;5;124m\"\u001b[39m\n",
      "File \u001b[0;32m/nas/ucb/oliveradk/miniforge3/envs/od_3_10/lib/python3.10/site-packages/numpy/core/fromnumeric.py:3504\u001b[0m, in \u001b[0;36mmean\u001b[0;34m(a, axis, dtype, out, keepdims, where)\u001b[0m\n\u001b[1;32m   3501\u001b[0m     \u001b[38;5;28;01melse\u001b[39;00m:\n\u001b[1;32m   3502\u001b[0m         \u001b[38;5;28;01mreturn\u001b[39;00m mean(axis\u001b[38;5;241m=\u001b[39maxis, dtype\u001b[38;5;241m=\u001b[39mdtype, out\u001b[38;5;241m=\u001b[39mout, \u001b[38;5;241m*\u001b[39m\u001b[38;5;241m*\u001b[39mkwargs)\n\u001b[0;32m-> 3504\u001b[0m \u001b[38;5;28;01mreturn\u001b[39;00m \u001b[43m_methods\u001b[49m\u001b[38;5;241;43m.\u001b[39;49m\u001b[43m_mean\u001b[49m\u001b[43m(\u001b[49m\u001b[43ma\u001b[49m\u001b[43m,\u001b[49m\u001b[43m \u001b[49m\u001b[43maxis\u001b[49m\u001b[38;5;241;43m=\u001b[39;49m\u001b[43maxis\u001b[49m\u001b[43m,\u001b[49m\u001b[43m \u001b[49m\u001b[43mdtype\u001b[49m\u001b[38;5;241;43m=\u001b[39;49m\u001b[43mdtype\u001b[49m\u001b[43m,\u001b[49m\n\u001b[1;32m   3505\u001b[0m \u001b[43m                      \u001b[49m\u001b[43mout\u001b[49m\u001b[38;5;241;43m=\u001b[39;49m\u001b[43mout\u001b[49m\u001b[43m,\u001b[49m\u001b[43m \u001b[49m\u001b[38;5;241;43m*\u001b[39;49m\u001b[38;5;241;43m*\u001b[39;49m\u001b[43mkwargs\u001b[49m\u001b[43m)\u001b[49m\n",
      "File \u001b[0;32m/nas/ucb/oliveradk/miniforge3/envs/od_3_10/lib/python3.10/site-packages/numpy/core/_methods.py:131\u001b[0m, in \u001b[0;36m_mean\u001b[0;34m(a, axis, dtype, out, keepdims, where)\u001b[0m\n\u001b[1;32m    129\u001b[0m         ret \u001b[38;5;241m=\u001b[39m ret\u001b[38;5;241m.\u001b[39mdtype\u001b[38;5;241m.\u001b[39mtype(ret \u001b[38;5;241m/\u001b[39m rcount)\n\u001b[1;32m    130\u001b[0m \u001b[38;5;28;01melse\u001b[39;00m:\n\u001b[0;32m--> 131\u001b[0m     ret \u001b[38;5;241m=\u001b[39m \u001b[43mret\u001b[49m\u001b[43m \u001b[49m\u001b[38;5;241;43m/\u001b[39;49m\u001b[43m \u001b[49m\u001b[43mrcount\u001b[49m\n\u001b[1;32m    133\u001b[0m \u001b[38;5;28;01mreturn\u001b[39;00m ret\n",
      "\u001b[0;31mTypeError\u001b[0m: unsupported operand type(s) for /: 'dict' and 'int'"
     ]
    }
   ],
   "source": [
    "# Create DataFrame with all metrics\n",
    "df = pd.DataFrame({\n",
    "    'Method': [],\n",
    "    'Average Acc': [],\n",
    "    'Alternative Acc': [],\n",
    "    'Worst-Group Acc': []\n",
    "})\n",
    "\n",
    "for method in results.keys():\n",
    "    avg_acc = f\"{np.mean(results[method])*100:.1f} ± {np.std(results[method])*100:.1f}\"\n",
    "    alt_acc = f\"{np.mean(results_alt[method])*100:.1f} ± {np.std(results_alt[method])*100:.1f}\"\n",
    "    worst_acc = f\"{np.mean(results_worst[method])*100:.1f} ± {np.std(results_worst[method])*100:.1f}\"\n",
    "    \n",
    "    df = pd.concat([df, pd.DataFrame({\n",
    "        'Method': [method],\n",
    "        'Average Acc': [avg_acc],\n",
    "        'Alternative Acc': [alt_acc],\n",
    "        'Worst-Group Acc': [worst_acc]\n",
    "    })], ignore_index=True)\n",
    "\n",
    "# Print LaTeX table\n",
    "print(df.to_latex(index=False, escape=True))"
   ]
  },
  {
   "cell_type": "code",
   "execution_count": null,
   "metadata": {},
   "outputs": [],
   "source": []
  }
 ],
 "metadata": {
  "kernelspec": {
   "display_name": "od_3_10",
   "language": "python",
   "name": "python3"
  },
  "language_info": {
   "codemirror_mode": {
    "name": "ipython",
    "version": 3
   },
   "file_extension": ".py",
   "mimetype": "text/x-python",
   "name": "python",
   "nbconvert_exporter": "python",
   "pygments_lexer": "ipython3",
   "version": "3.10.15"
  }
 },
 "nbformat": 4,
 "nbformat_minor": 2
}
