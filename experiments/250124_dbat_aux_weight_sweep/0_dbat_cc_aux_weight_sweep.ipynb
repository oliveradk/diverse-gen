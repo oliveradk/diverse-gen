{
 "cells": [
  {
   "cell_type": "code",
   "execution_count": 4,
   "metadata": {},
   "outputs": [],
   "source": [
    "import os\n",
    "import matplotlib \n",
    "# set directory\n",
    "os.chdir(\"/nas/ucb/oliveradk/diverse-gen/\")"
   ]
  },
  {
   "cell_type": "code",
   "execution_count": 5,
   "metadata": {},
   "outputs": [],
   "source": [
    "from tqdm import tqdm\n",
    "from pathlib import Path\n",
    "from datetime import datetime\n",
    "from itertools import product\n",
    "import json\n",
    "import copy\n",
    "\n",
    "import numpy as np\n",
    "\n",
    "from losses.loss_types import LossType\n",
    "from utils.exp_utils import get_executor, run_experiments"
   ]
  },
  {
   "cell_type": "code",
   "execution_count": 6,
   "metadata": {},
   "outputs": [],
   "source": [
    "SCRIPT_NAME = \"spur_corr_exp.py\"\n",
    "EXP_DIR = \"output/cc_dbat_aux_weight_sweep\"\n",
    "n_trials = 32"
   ]
  },
  {
   "cell_type": "code",
   "execution_count": 12,
   "metadata": {},
   "outputs": [],
   "source": [
    "method_configs = {\n",
    "    \"DBAT\": {\n",
    "        \"loss_type\": LossType.DBAT, \n",
    "        \"shared_backbone\": False, \n",
    "        \"freeze_heads\": True, \n",
    "        \"binary\": True, \n",
    "    },\n",
    "}\n",
    "\n",
    "dataset_configs = {\n",
    "    \"toy_grid\": {\"dataset\": \"toy_grid\", \"model\": \"toy_model\", \"epochs\": 100, \"batch_size\": 32, \"target_batch_size\": 128, \"lr\": 1e-3, \"optimizer\": \"sgd\"},\n",
    "    \"fmnist_mnist\": {\"dataset\": \"fmnist_mnist\", \"model\": \"Resnet50\", \"epochs\": 5, \"batch_size\": 32, \"target_batch_size\": 64},\n",
    "    \"cifar_mnist\": {\"dataset\": \"cifar_mnist\", \"model\": \"Resnet50\", \"epochs\": 5, \"batch_size\": 32, \"target_batch_size\": 64},\n",
    "    \"waterbirds\": {\"dataset\": \"waterbirds\", \"model\": \"Resnet50\", \"epochs\": 5, \"batch_size\": 32, \"target_batch_size\": 64},\n",
    "    \"celebA-0\": {\"dataset\": \"celebA-0\", \"model\": \"Resnet50\", \"epochs\": 2, \"batch_size\": 32, \"target_batch_size\": 64},\n",
    "    # \"multi-nli\": {\"dataset\": \"multi-nli\", \"model\": \"bert\", \"epochs\": 1, \"lr\": 1e-5, \"combine_neut_entail\": True, \"contra_no_neg\": True},\n",
    "}\n",
    "\n",
    "method_ranges = {\n",
    "    \"DBAT\": {\"aux_weight\": [-1, 1]},\n",
    "}\n",
    "\n",
    "configs = {}\n",
    "for (ds_name, ds_config), (method_name, method_config) in product(dataset_configs.items(), method_configs.items()):\n",
    "    configs[(ds_name, method_name)] = {**ds_config, **method_config}\n",
    "    if \"batch_size\" in ds_config:\n",
    "        configs[(ds_name, method_name)][\"batch_size\"] = int(ds_config[\"batch_size\"] / 2)\n",
    "        configs[(ds_name, method_name)][\"target_batch_size\"] = int(ds_config[\"target_batch_size\"] / 2)\n",
    "\n",
    "\n",
    "\n",
    "def get_conf_exp_dir(ds_name, method_name, i):\n",
    "    return Path(EXP_DIR, f\"{ds_name}_{method_name}/{i}\")\n",
    "\n",
    "sampled_configs = []\n",
    "for (ds_name, method_name), conf in configs.items():\n",
    "    for i in range(n_trials):\n",
    "        sample_conf = copy.deepcopy(conf)\n",
    "        sample_range = method_ranges[method_name][\"aux_weight\"]\n",
    "        aux_weight = 10**(np.random.uniform(sample_range[0], sample_range[1]))\n",
    "        seed = np.random.randint(0, 1000000)\n",
    "        sample_conf[\"aux_weight\"] = aux_weight\n",
    "        sample_conf[\"seed\"] = seed\n",
    "        sample_conf[\"exp_dir\"] = get_conf_exp_dir(ds_name, method_name, i)\n",
    "        sample_conf[\"plot_activations\"] = False\n",
    "        sampled_configs.append(sample_conf)"
   ]
  },
  {
   "cell_type": "code",
   "execution_count": 13,
   "metadata": {},
   "outputs": [],
   "source": [
    "low_mem_configs = [conf for conf in sampled_configs if conf[\"dataset\"] not in [\"celebA-0\", \"multi-nli\"]]\n",
    "high_mem_configs = [conf for conf in sampled_configs if conf[\"dataset\"] in [\"celebA-0\", \"multi-nli\"]]\n"
   ]
  },
  {
   "cell_type": "code",
   "execution_count": 18,
   "metadata": {},
   "outputs": [],
   "source": [
    "executor = get_executor(EXP_DIR, mem_gb=16)\n",
    "jobs = run_experiments(executor, low_mem_configs, SCRIPT_NAME)\n"
   ]
  },
  {
   "cell_type": "code",
   "execution_count": 19,
   "metadata": {},
   "outputs": [],
   "source": [
    "executor = get_executor(EXP_DIR, mem_gb=32)\n",
    "jobs = run_experiments(executor, high_mem_configs, SCRIPT_NAME)\n"
   ]
  }
 ],
 "metadata": {
  "kernelspec": {
   "display_name": "od_3_10",
   "language": "python",
   "name": "python3"
  },
  "language_info": {
   "codemirror_mode": {
    "name": "ipython",
    "version": 3
   },
   "file_extension": ".py",
   "mimetype": "text/x-python",
   "name": "python",
   "nbconvert_exporter": "python",
   "pygments_lexer": "ipython3",
   "version": "3.10.15"
  }
 },
 "nbformat": 4,
 "nbformat_minor": 2
}
