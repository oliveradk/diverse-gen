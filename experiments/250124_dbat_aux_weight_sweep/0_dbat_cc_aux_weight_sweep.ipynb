{
 "cells": [
  {
   "cell_type": "code",
   "execution_count": 1,
   "metadata": {},
   "outputs": [],
   "source": [
    "# set cuda visible devices\n",
    "def is_notebook() -> bool:\n",
    "    try:\n",
    "        shell = get_ipython().__class__.__name__\n",
    "        if shell == 'ZMQInteractiveShell':\n",
    "            return True   # Jupyter notebook or qtconsole\n",
    "        elif shell == 'TerminalInteractiveShell':\n",
    "            return False  # Terminal running IPython\n",
    "        else:\n",
    "            return False  # Other type (?)\n",
    "    except NameError:\n",
    "        return False      # Probably standard Python interpreter\n",
    "\n",
    "import os\n",
    "if is_notebook():\n",
    "    os.environ[\"CUDA_VISIBLE_DEVICES\"] = \"\" #\"1\"\n",
    "    # os.environ['CUDA_LAUNCH_BLOCKING']=\"1\"\n",
    "    # os.environ['TORCH_USE_CUDA_DSA'] = \"1\"\n",
    "\n",
    "import matplotlib \n",
    "if not is_notebook():\n",
    "    matplotlib.use('Agg')\n",
    "\n",
    "# set directory\n",
    "os.chdir(\"/nas/ucb/oliveradk/diverse-gen/\")"
   ]
  },
  {
   "cell_type": "code",
   "execution_count": 2,
   "metadata": {},
   "outputs": [],
   "source": [
    "# for now incomplete spurious correlation: \n",
    "#   waterbirds\n",
    "\n",
    "# other notebooks:\n",
    "# multi-class classification: \n",
    "#   multi-nli-cc\n",
    "\n",
    "# known group labels\n",
    "# waterbirds (normal)\n",
    "# mulit-nli cc \n"
   ]
  },
  {
   "cell_type": "code",
   "execution_count": 3,
   "metadata": {},
   "outputs": [],
   "source": [
    "from tqdm import tqdm\n",
    "from pathlib import Path\n",
    "from datetime import datetime\n",
    "from itertools import product\n",
    "import json\n",
    "\n",
    "import numpy as np\n",
    "\n",
    "from losses.loss_types import LossType\n",
    "from utils.exp_utils import get_executor, run_experiments"
   ]
  },
  {
   "cell_type": "code",
   "execution_count": 4,
   "metadata": {},
   "outputs": [],
   "source": [
    "SCRIPT_NAME = \"spur_corr_exp.py\"\n",
    "EXP_DIR = \"output/cc_dbat_aux_weight_sweep\"\n",
    "n_trials = 32"
   ]
  },
  {
   "cell_type": "code",
   "execution_count": 10,
   "metadata": {},
   "outputs": [],
   "source": [
    "method_configs = {\n",
    "    \"DBAT\": {\"loss_type\": LossType.DBAT, \"shared_backbone\": False, \"freeze_heads\": True, \"binary\": True, \"batch_size\": 16, \"target_batch_size\": 32},\n",
    "}\n",
    "\n",
    "dataset_configs = {\n",
    "    \"toy_grid\": {\"dataset\": \"toy_grid\", \"model\": \"toy_model\", \"epochs\": 100, \"batch_size\": 32, \"target_batch_size\": 128, \"lr\": 1e-3, \"optimizer\": \"sgd\"},\n",
    "    \"fmnist_mnist\": {\"dataset\": \"fmnist_mnist\", \"model\": \"Resnet50\", \"epochs\": 5},\n",
    "    \"cifar_mnist\": {\"dataset\": \"cifar_mnist\", \"model\": \"Resnet50\", \"epochs\": 5},\n",
    "    \"waterbirds\": {\"dataset\": \"waterbirds\", \"model\": \"Resnet50\", \"epochs\": 5},\n",
    "    \"celebA-0\": {\"dataset\": \"celebA-0\", \"model\": \"Resnet50\", \"epochs\": 2},\n",
    "    \"multi-nli\": {\"dataset\": \"multi-nli\", \"model\": \"bert\", \"epochs\": 1, \"lr\": 1e-5, \"combine_neut_entail\": True, \"contra_no_neg\": True},\n",
    "}\n",
    "\n",
    "method_ranges = {\n",
    "    \"DBAT\": {\"aux_weight\": [-1, 1]},\n",
    "}\n",
    "\n",
    "configs = {}\n",
    "for (ds_name, ds_config), (method_name, method_config) in product(dataset_configs.items(), method_configs.items()):\n",
    "    configs[(ds_name, method_name)] = {**ds_config, **method_config}\n",
    "    if \"batch_size\" in ds_config:\n",
    "        configs[(ds_name, method_name)][\"batch_size\"] = int(ds_config[\"batch_size\"] / 2)\n",
    "        configs[(ds_name, method_name)][\"target_batch_size\"] = int(ds_config[\"target_batch_size\"] / 2)\n",
    "\n",
    "\n",
    "\n",
    "def get_conf_exp_dir(ds_name, method_name, i):\n",
    "    return Path(EXP_DIR, f\"{ds_name}_{method_name}/{i}\")\n",
    "\n",
    "sampled_configs = []\n",
    "for (ds_name, method_name), conf in configs.items():\n",
    "    for i in range(n_trials):\n",
    "        sample_conf = copy.deepcopy(conf)\n",
    "        sample_range = method_ranges[method_name][\"aux_weight\"]\n",
    "        aux_weight = 10**(np.random.uniform(sample_range[0], sample_range[1]))\n",
    "        seed = np.random.randint(0, 1000000)\n",
    "        sample_conf[\"aux_weight\"] = aux_weight\n",
    "        sample_conf[\"seed\"] = seed\n",
    "        sample_conf[\"exp_dir\"] = get_conf_exp_dir(ds_name, method_name, i)\n",
    "        sample_conf[\"plot_activations\"] = False\n",
    "        sampled_configs.append(conf)"
   ]
  },
  {
   "cell_type": "code",
   "execution_count": null,
   "metadata": {},
   "outputs": [],
   "source": [
    "executor = get_executor(EXP_DIR, mem_gb=32)\n",
    "jobs = run_experiments(sampled_configs, executor, SCRIPT_NAME)"
   ]
  }
 ],
 "metadata": {
  "kernelspec": {
   "display_name": "od_3_10",
   "language": "python",
   "name": "python3"
  },
  "language_info": {
   "codemirror_mode": {
    "name": "ipython",
    "version": 3
   },
   "file_extension": ".py",
   "mimetype": "text/x-python",
   "name": "python",
   "nbconvert_exporter": "python",
   "pygments_lexer": "ipython3",
   "version": "3.10.15"
  }
 },
 "nbformat": 4,
 "nbformat_minor": 2
}
